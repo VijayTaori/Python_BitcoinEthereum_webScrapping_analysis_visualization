{
  "cells": [
    {
      "cell_type": "markdown",
      "metadata": {
        "id": "view-in-github",
        "colab_type": "text"
      },
      "source": [
        "<a href=\"https://colab.research.google.com/github/VijayTaori/Python_BitcoinEthereum_webScrapping_analysis_visualization/blob/master/Calculating_staking_rewards%20in%20Eur.ipynb\" target=\"_parent\"><img src=\"https://colab.research.google.com/assets/colab-badge.svg\" alt=\"Open In Colab\"/></a>"
      ]
    },
    {
      "cell_type": "code",
      "execution_count": null,
      "metadata": {
        "id": "2fFOvx4N-6eh"
      },
      "outputs": [],
      "source": [
        "import pandas as pd\n",
        "import numpy as np"
      ]
    },
    {
      "cell_type": "code",
      "execution_count": null,
      "metadata": {
        "colab": {
          "base_uri": "https://localhost:8080/",
          "height": 341
        },
        "id": "tWb_FMEp_05C",
        "outputId": "2f248ad8-95c6-4c4a-b009-630b10084e4b"
      },
      "outputs": [
        {
          "output_type": "error",
          "ename": "FileNotFoundError",
          "evalue": "ignored",
          "traceback": [
            "\u001b[0;31m---------------------------------------------------------------------------\u001b[0m",
            "\u001b[0;31mFileNotFoundError\u001b[0m                         Traceback (most recent call last)",
            "\u001b[0;32m<ipython-input-2-7c80ce6cc899>\u001b[0m in \u001b[0;36m<module>\u001b[0;34m\u001b[0m\n\u001b[0;32m----> 1\u001b[0;31m \u001b[0mdf\u001b[0m \u001b[0;34m=\u001b[0m \u001b[0mpd\u001b[0m\u001b[0;34m.\u001b[0m\u001b[0mread_csv\u001b[0m\u001b[0;34m(\u001b[0m\u001b[0;34m'/content/2021_TransactionHistoryBinance.csv'\u001b[0m\u001b[0;34m)\u001b[0m\u001b[0;34m\u001b[0m\u001b[0;34m\u001b[0m\u001b[0m\n\u001b[0m\u001b[1;32m      2\u001b[0m \u001b[0mdf\u001b[0m\u001b[0;34m\u001b[0m\u001b[0;34m\u001b[0m\u001b[0m\n",
            "\u001b[0;32m/usr/local/lib/python3.8/dist-packages/pandas/util/_decorators.py\u001b[0m in \u001b[0;36mwrapper\u001b[0;34m(*args, **kwargs)\u001b[0m\n\u001b[1;32m    309\u001b[0m                     \u001b[0mstacklevel\u001b[0m\u001b[0;34m=\u001b[0m\u001b[0mstacklevel\u001b[0m\u001b[0;34m,\u001b[0m\u001b[0;34m\u001b[0m\u001b[0;34m\u001b[0m\u001b[0m\n\u001b[1;32m    310\u001b[0m                 )\n\u001b[0;32m--> 311\u001b[0;31m             \u001b[0;32mreturn\u001b[0m \u001b[0mfunc\u001b[0m\u001b[0;34m(\u001b[0m\u001b[0;34m*\u001b[0m\u001b[0margs\u001b[0m\u001b[0;34m,\u001b[0m \u001b[0;34m**\u001b[0m\u001b[0mkwargs\u001b[0m\u001b[0;34m)\u001b[0m\u001b[0;34m\u001b[0m\u001b[0;34m\u001b[0m\u001b[0m\n\u001b[0m\u001b[1;32m    312\u001b[0m \u001b[0;34m\u001b[0m\u001b[0m\n\u001b[1;32m    313\u001b[0m         \u001b[0;32mreturn\u001b[0m \u001b[0mwrapper\u001b[0m\u001b[0;34m\u001b[0m\u001b[0;34m\u001b[0m\u001b[0m\n",
            "\u001b[0;32m/usr/local/lib/python3.8/dist-packages/pandas/io/parsers/readers.py\u001b[0m in \u001b[0;36mread_csv\u001b[0;34m(filepath_or_buffer, sep, delimiter, header, names, index_col, usecols, squeeze, prefix, mangle_dupe_cols, dtype, engine, converters, true_values, false_values, skipinitialspace, skiprows, skipfooter, nrows, na_values, keep_default_na, na_filter, verbose, skip_blank_lines, parse_dates, infer_datetime_format, keep_date_col, date_parser, dayfirst, cache_dates, iterator, chunksize, compression, thousands, decimal, lineterminator, quotechar, quoting, doublequote, escapechar, comment, encoding, encoding_errors, dialect, error_bad_lines, warn_bad_lines, on_bad_lines, delim_whitespace, low_memory, memory_map, float_precision, storage_options)\u001b[0m\n\u001b[1;32m    584\u001b[0m     \u001b[0mkwds\u001b[0m\u001b[0;34m.\u001b[0m\u001b[0mupdate\u001b[0m\u001b[0;34m(\u001b[0m\u001b[0mkwds_defaults\u001b[0m\u001b[0;34m)\u001b[0m\u001b[0;34m\u001b[0m\u001b[0;34m\u001b[0m\u001b[0m\n\u001b[1;32m    585\u001b[0m \u001b[0;34m\u001b[0m\u001b[0m\n\u001b[0;32m--> 586\u001b[0;31m     \u001b[0;32mreturn\u001b[0m \u001b[0m_read\u001b[0m\u001b[0;34m(\u001b[0m\u001b[0mfilepath_or_buffer\u001b[0m\u001b[0;34m,\u001b[0m \u001b[0mkwds\u001b[0m\u001b[0;34m)\u001b[0m\u001b[0;34m\u001b[0m\u001b[0;34m\u001b[0m\u001b[0m\n\u001b[0m\u001b[1;32m    587\u001b[0m \u001b[0;34m\u001b[0m\u001b[0m\n\u001b[1;32m    588\u001b[0m \u001b[0;34m\u001b[0m\u001b[0m\n",
            "\u001b[0;32m/usr/local/lib/python3.8/dist-packages/pandas/io/parsers/readers.py\u001b[0m in \u001b[0;36m_read\u001b[0;34m(filepath_or_buffer, kwds)\u001b[0m\n\u001b[1;32m    480\u001b[0m \u001b[0;34m\u001b[0m\u001b[0m\n\u001b[1;32m    481\u001b[0m     \u001b[0;31m# Create the parser.\u001b[0m\u001b[0;34m\u001b[0m\u001b[0;34m\u001b[0m\u001b[0;34m\u001b[0m\u001b[0m\n\u001b[0;32m--> 482\u001b[0;31m     \u001b[0mparser\u001b[0m \u001b[0;34m=\u001b[0m \u001b[0mTextFileReader\u001b[0m\u001b[0;34m(\u001b[0m\u001b[0mfilepath_or_buffer\u001b[0m\u001b[0;34m,\u001b[0m \u001b[0;34m**\u001b[0m\u001b[0mkwds\u001b[0m\u001b[0;34m)\u001b[0m\u001b[0;34m\u001b[0m\u001b[0;34m\u001b[0m\u001b[0m\n\u001b[0m\u001b[1;32m    483\u001b[0m \u001b[0;34m\u001b[0m\u001b[0m\n\u001b[1;32m    484\u001b[0m     \u001b[0;32mif\u001b[0m \u001b[0mchunksize\u001b[0m \u001b[0;32mor\u001b[0m \u001b[0miterator\u001b[0m\u001b[0;34m:\u001b[0m\u001b[0;34m\u001b[0m\u001b[0;34m\u001b[0m\u001b[0m\n",
            "\u001b[0;32m/usr/local/lib/python3.8/dist-packages/pandas/io/parsers/readers.py\u001b[0m in \u001b[0;36m__init__\u001b[0;34m(self, f, engine, **kwds)\u001b[0m\n\u001b[1;32m    809\u001b[0m             \u001b[0mself\u001b[0m\u001b[0;34m.\u001b[0m\u001b[0moptions\u001b[0m\u001b[0;34m[\u001b[0m\u001b[0;34m\"has_index_names\"\u001b[0m\u001b[0;34m]\u001b[0m \u001b[0;34m=\u001b[0m \u001b[0mkwds\u001b[0m\u001b[0;34m[\u001b[0m\u001b[0;34m\"has_index_names\"\u001b[0m\u001b[0;34m]\u001b[0m\u001b[0;34m\u001b[0m\u001b[0;34m\u001b[0m\u001b[0m\n\u001b[1;32m    810\u001b[0m \u001b[0;34m\u001b[0m\u001b[0m\n\u001b[0;32m--> 811\u001b[0;31m         \u001b[0mself\u001b[0m\u001b[0;34m.\u001b[0m\u001b[0m_engine\u001b[0m \u001b[0;34m=\u001b[0m \u001b[0mself\u001b[0m\u001b[0;34m.\u001b[0m\u001b[0m_make_engine\u001b[0m\u001b[0;34m(\u001b[0m\u001b[0mself\u001b[0m\u001b[0;34m.\u001b[0m\u001b[0mengine\u001b[0m\u001b[0;34m)\u001b[0m\u001b[0;34m\u001b[0m\u001b[0;34m\u001b[0m\u001b[0m\n\u001b[0m\u001b[1;32m    812\u001b[0m \u001b[0;34m\u001b[0m\u001b[0m\n\u001b[1;32m    813\u001b[0m     \u001b[0;32mdef\u001b[0m \u001b[0mclose\u001b[0m\u001b[0;34m(\u001b[0m\u001b[0mself\u001b[0m\u001b[0;34m)\u001b[0m\u001b[0;34m:\u001b[0m\u001b[0;34m\u001b[0m\u001b[0;34m\u001b[0m\u001b[0m\n",
            "\u001b[0;32m/usr/local/lib/python3.8/dist-packages/pandas/io/parsers/readers.py\u001b[0m in \u001b[0;36m_make_engine\u001b[0;34m(self, engine)\u001b[0m\n\u001b[1;32m   1038\u001b[0m             )\n\u001b[1;32m   1039\u001b[0m         \u001b[0;31m# error: Too many arguments for \"ParserBase\"\u001b[0m\u001b[0;34m\u001b[0m\u001b[0;34m\u001b[0m\u001b[0;34m\u001b[0m\u001b[0m\n\u001b[0;32m-> 1040\u001b[0;31m         \u001b[0;32mreturn\u001b[0m \u001b[0mmapping\u001b[0m\u001b[0;34m[\u001b[0m\u001b[0mengine\u001b[0m\u001b[0;34m]\u001b[0m\u001b[0;34m(\u001b[0m\u001b[0mself\u001b[0m\u001b[0;34m.\u001b[0m\u001b[0mf\u001b[0m\u001b[0;34m,\u001b[0m \u001b[0;34m**\u001b[0m\u001b[0mself\u001b[0m\u001b[0;34m.\u001b[0m\u001b[0moptions\u001b[0m\u001b[0;34m)\u001b[0m  \u001b[0;31m# type: ignore[call-arg]\u001b[0m\u001b[0;34m\u001b[0m\u001b[0;34m\u001b[0m\u001b[0m\n\u001b[0m\u001b[1;32m   1041\u001b[0m \u001b[0;34m\u001b[0m\u001b[0m\n\u001b[1;32m   1042\u001b[0m     \u001b[0;32mdef\u001b[0m \u001b[0m_failover_to_python\u001b[0m\u001b[0;34m(\u001b[0m\u001b[0mself\u001b[0m\u001b[0;34m)\u001b[0m\u001b[0;34m:\u001b[0m\u001b[0;34m\u001b[0m\u001b[0;34m\u001b[0m\u001b[0m\n",
            "\u001b[0;32m/usr/local/lib/python3.8/dist-packages/pandas/io/parsers/c_parser_wrapper.py\u001b[0m in \u001b[0;36m__init__\u001b[0;34m(self, src, **kwds)\u001b[0m\n\u001b[1;32m     49\u001b[0m \u001b[0;34m\u001b[0m\u001b[0m\n\u001b[1;32m     50\u001b[0m         \u001b[0;31m# open handles\u001b[0m\u001b[0;34m\u001b[0m\u001b[0;34m\u001b[0m\u001b[0;34m\u001b[0m\u001b[0m\n\u001b[0;32m---> 51\u001b[0;31m         \u001b[0mself\u001b[0m\u001b[0;34m.\u001b[0m\u001b[0m_open_handles\u001b[0m\u001b[0;34m(\u001b[0m\u001b[0msrc\u001b[0m\u001b[0;34m,\u001b[0m \u001b[0mkwds\u001b[0m\u001b[0;34m)\u001b[0m\u001b[0;34m\u001b[0m\u001b[0;34m\u001b[0m\u001b[0m\n\u001b[0m\u001b[1;32m     52\u001b[0m         \u001b[0;32massert\u001b[0m \u001b[0mself\u001b[0m\u001b[0;34m.\u001b[0m\u001b[0mhandles\u001b[0m \u001b[0;32mis\u001b[0m \u001b[0;32mnot\u001b[0m \u001b[0;32mNone\u001b[0m\u001b[0;34m\u001b[0m\u001b[0;34m\u001b[0m\u001b[0m\n\u001b[1;32m     53\u001b[0m \u001b[0;34m\u001b[0m\u001b[0m\n",
            "\u001b[0;32m/usr/local/lib/python3.8/dist-packages/pandas/io/parsers/base_parser.py\u001b[0m in \u001b[0;36m_open_handles\u001b[0;34m(self, src, kwds)\u001b[0m\n\u001b[1;32m    220\u001b[0m         \u001b[0mLet\u001b[0m \u001b[0mthe\u001b[0m \u001b[0mreaders\u001b[0m \u001b[0mopen\u001b[0m \u001b[0mIOHandles\u001b[0m \u001b[0mafter\u001b[0m \u001b[0mthey\u001b[0m \u001b[0mare\u001b[0m \u001b[0mdone\u001b[0m \u001b[0;32mwith\u001b[0m \u001b[0mtheir\u001b[0m \u001b[0mpotential\u001b[0m \u001b[0mraises\u001b[0m\u001b[0;34m.\u001b[0m\u001b[0;34m\u001b[0m\u001b[0;34m\u001b[0m\u001b[0m\n\u001b[1;32m    221\u001b[0m         \"\"\"\n\u001b[0;32m--> 222\u001b[0;31m         self.handles = get_handle(\n\u001b[0m\u001b[1;32m    223\u001b[0m             \u001b[0msrc\u001b[0m\u001b[0;34m,\u001b[0m\u001b[0;34m\u001b[0m\u001b[0;34m\u001b[0m\u001b[0m\n\u001b[1;32m    224\u001b[0m             \u001b[0;34m\"r\"\u001b[0m\u001b[0;34m,\u001b[0m\u001b[0;34m\u001b[0m\u001b[0;34m\u001b[0m\u001b[0m\n",
            "\u001b[0;32m/usr/local/lib/python3.8/dist-packages/pandas/io/common.py\u001b[0m in \u001b[0;36mget_handle\u001b[0;34m(path_or_buf, mode, encoding, compression, memory_map, is_text, errors, storage_options)\u001b[0m\n\u001b[1;32m    700\u001b[0m         \u001b[0;32mif\u001b[0m \u001b[0mioargs\u001b[0m\u001b[0;34m.\u001b[0m\u001b[0mencoding\u001b[0m \u001b[0;32mand\u001b[0m \u001b[0;34m\"b\"\u001b[0m \u001b[0;32mnot\u001b[0m \u001b[0;32min\u001b[0m \u001b[0mioargs\u001b[0m\u001b[0;34m.\u001b[0m\u001b[0mmode\u001b[0m\u001b[0;34m:\u001b[0m\u001b[0;34m\u001b[0m\u001b[0;34m\u001b[0m\u001b[0m\n\u001b[1;32m    701\u001b[0m             \u001b[0;31m# Encoding\u001b[0m\u001b[0;34m\u001b[0m\u001b[0;34m\u001b[0m\u001b[0;34m\u001b[0m\u001b[0m\n\u001b[0;32m--> 702\u001b[0;31m             handle = open(\n\u001b[0m\u001b[1;32m    703\u001b[0m                 \u001b[0mhandle\u001b[0m\u001b[0;34m,\u001b[0m\u001b[0;34m\u001b[0m\u001b[0;34m\u001b[0m\u001b[0m\n\u001b[1;32m    704\u001b[0m                 \u001b[0mioargs\u001b[0m\u001b[0;34m.\u001b[0m\u001b[0mmode\u001b[0m\u001b[0;34m,\u001b[0m\u001b[0;34m\u001b[0m\u001b[0;34m\u001b[0m\u001b[0m\n",
            "\u001b[0;31mFileNotFoundError\u001b[0m: [Errno 2] No such file or directory: '/content/2021_TransactionHistoryBinance.csv'"
          ]
        }
      ],
      "source": [
        "df = pd.read_csv('/content/2021_TransactionHistoryBinance.csv')\n",
        "df"
      ]
    },
    {
      "cell_type": "code",
      "execution_count": null,
      "metadata": {
        "id": "qlUVY0bPIRfg"
      },
      "outputs": [],
      "source": [
        "df_binance_stakingRewards_2021 = df[df['Operation'] == 'Staking Rewards'].sort_values(by='Coin')"
      ]
    },
    {
      "cell_type": "code",
      "source": [
        "df_binance_stakingRewards_2021.to_csv('binance_stakingRewards_2021.csv', index=False)"
      ],
      "metadata": {
        "id": "jFA4_Fho2ynp"
      },
      "execution_count": null,
      "outputs": []
    },
    {
      "cell_type": "code",
      "source": [
        "df_binance_stakingRewards_2021 = pd.read_csv('binance_stakingRewards_2021.csv')\n",
        "df_binance_stakingRewards_2021.tail()"
      ],
      "metadata": {
        "colab": {
          "base_uri": "https://localhost:8080/",
          "height": 206
        },
        "id": "-eiTxz-rbHFG",
        "outputId": "6222ba63-9479-4b6c-802c-71eb70f2767d"
      },
      "execution_count": null,
      "outputs": [
        {
          "output_type": "execute_result",
          "data": {
            "text/plain": [
              "        User_ID          UTC_Time Account        Operation Coin    Change  \\\n",
              "21384  59094579  16/10/2021 03:38    Spot  Staking Rewards  SOL  0.002268   \n",
              "21385  59094579  16/10/2021 03:37    Spot  Staking Rewards  SOL  0.002143   \n",
              "21386  59094579  16/10/2021 03:37    Spot  Staking Rewards  SOL  0.002087   \n",
              "21387  59094579  07/11/2021 07:36    Spot  Staking Rewards  SOL  0.000029   \n",
              "21388  59094579  31/12/2021 01:07    Spot  Staking Rewards  SOL  0.000222   \n",
              "\n",
              "       Remark  \n",
              "21384     NaN  \n",
              "21385     NaN  \n",
              "21386     NaN  \n",
              "21387     NaN  \n",
              "21388     NaN  "
            ],
            "text/html": [
              "\n",
              "  <div id=\"df-1112d31b-a94c-4bed-b1f0-3144bcf3f5d7\">\n",
              "    <div class=\"colab-df-container\">\n",
              "      <div>\n",
              "<style scoped>\n",
              "    .dataframe tbody tr th:only-of-type {\n",
              "        vertical-align: middle;\n",
              "    }\n",
              "\n",
              "    .dataframe tbody tr th {\n",
              "        vertical-align: top;\n",
              "    }\n",
              "\n",
              "    .dataframe thead th {\n",
              "        text-align: right;\n",
              "    }\n",
              "</style>\n",
              "<table border=\"1\" class=\"dataframe\">\n",
              "  <thead>\n",
              "    <tr style=\"text-align: right;\">\n",
              "      <th></th>\n",
              "      <th>User_ID</th>\n",
              "      <th>UTC_Time</th>\n",
              "      <th>Account</th>\n",
              "      <th>Operation</th>\n",
              "      <th>Coin</th>\n",
              "      <th>Change</th>\n",
              "      <th>Remark</th>\n",
              "    </tr>\n",
              "  </thead>\n",
              "  <tbody>\n",
              "    <tr>\n",
              "      <th>21384</th>\n",
              "      <td>59094579</td>\n",
              "      <td>16/10/2021 03:38</td>\n",
              "      <td>Spot</td>\n",
              "      <td>Staking Rewards</td>\n",
              "      <td>SOL</td>\n",
              "      <td>0.002268</td>\n",
              "      <td>NaN</td>\n",
              "    </tr>\n",
              "    <tr>\n",
              "      <th>21385</th>\n",
              "      <td>59094579</td>\n",
              "      <td>16/10/2021 03:37</td>\n",
              "      <td>Spot</td>\n",
              "      <td>Staking Rewards</td>\n",
              "      <td>SOL</td>\n",
              "      <td>0.002143</td>\n",
              "      <td>NaN</td>\n",
              "    </tr>\n",
              "    <tr>\n",
              "      <th>21386</th>\n",
              "      <td>59094579</td>\n",
              "      <td>16/10/2021 03:37</td>\n",
              "      <td>Spot</td>\n",
              "      <td>Staking Rewards</td>\n",
              "      <td>SOL</td>\n",
              "      <td>0.002087</td>\n",
              "      <td>NaN</td>\n",
              "    </tr>\n",
              "    <tr>\n",
              "      <th>21387</th>\n",
              "      <td>59094579</td>\n",
              "      <td>07/11/2021 07:36</td>\n",
              "      <td>Spot</td>\n",
              "      <td>Staking Rewards</td>\n",
              "      <td>SOL</td>\n",
              "      <td>0.000029</td>\n",
              "      <td>NaN</td>\n",
              "    </tr>\n",
              "    <tr>\n",
              "      <th>21388</th>\n",
              "      <td>59094579</td>\n",
              "      <td>31/12/2021 01:07</td>\n",
              "      <td>Spot</td>\n",
              "      <td>Staking Rewards</td>\n",
              "      <td>SOL</td>\n",
              "      <td>0.000222</td>\n",
              "      <td>NaN</td>\n",
              "    </tr>\n",
              "  </tbody>\n",
              "</table>\n",
              "</div>\n",
              "      <button class=\"colab-df-convert\" onclick=\"convertToInteractive('df-1112d31b-a94c-4bed-b1f0-3144bcf3f5d7')\"\n",
              "              title=\"Convert this dataframe to an interactive table.\"\n",
              "              style=\"display:none;\">\n",
              "        \n",
              "  <svg xmlns=\"http://www.w3.org/2000/svg\" height=\"24px\"viewBox=\"0 0 24 24\"\n",
              "       width=\"24px\">\n",
              "    <path d=\"M0 0h24v24H0V0z\" fill=\"none\"/>\n",
              "    <path d=\"M18.56 5.44l.94 2.06.94-2.06 2.06-.94-2.06-.94-.94-2.06-.94 2.06-2.06.94zm-11 1L8.5 8.5l.94-2.06 2.06-.94-2.06-.94L8.5 2.5l-.94 2.06-2.06.94zm10 10l.94 2.06.94-2.06 2.06-.94-2.06-.94-.94-2.06-.94 2.06-2.06.94z\"/><path d=\"M17.41 7.96l-1.37-1.37c-.4-.4-.92-.59-1.43-.59-.52 0-1.04.2-1.43.59L10.3 9.45l-7.72 7.72c-.78.78-.78 2.05 0 2.83L4 21.41c.39.39.9.59 1.41.59.51 0 1.02-.2 1.41-.59l7.78-7.78 2.81-2.81c.8-.78.8-2.07 0-2.86zM5.41 20L4 18.59l7.72-7.72 1.47 1.35L5.41 20z\"/>\n",
              "  </svg>\n",
              "      </button>\n",
              "      \n",
              "  <style>\n",
              "    .colab-df-container {\n",
              "      display:flex;\n",
              "      flex-wrap:wrap;\n",
              "      gap: 12px;\n",
              "    }\n",
              "\n",
              "    .colab-df-convert {\n",
              "      background-color: #E8F0FE;\n",
              "      border: none;\n",
              "      border-radius: 50%;\n",
              "      cursor: pointer;\n",
              "      display: none;\n",
              "      fill: #1967D2;\n",
              "      height: 32px;\n",
              "      padding: 0 0 0 0;\n",
              "      width: 32px;\n",
              "    }\n",
              "\n",
              "    .colab-df-convert:hover {\n",
              "      background-color: #E2EBFA;\n",
              "      box-shadow: 0px 1px 2px rgba(60, 64, 67, 0.3), 0px 1px 3px 1px rgba(60, 64, 67, 0.15);\n",
              "      fill: #174EA6;\n",
              "    }\n",
              "\n",
              "    [theme=dark] .colab-df-convert {\n",
              "      background-color: #3B4455;\n",
              "      fill: #D2E3FC;\n",
              "    }\n",
              "\n",
              "    [theme=dark] .colab-df-convert:hover {\n",
              "      background-color: #434B5C;\n",
              "      box-shadow: 0px 1px 3px 1px rgba(0, 0, 0, 0.15);\n",
              "      filter: drop-shadow(0px 1px 2px rgba(0, 0, 0, 0.3));\n",
              "      fill: #FFFFFF;\n",
              "    }\n",
              "  </style>\n",
              "\n",
              "      <script>\n",
              "        const buttonEl =\n",
              "          document.querySelector('#df-1112d31b-a94c-4bed-b1f0-3144bcf3f5d7 button.colab-df-convert');\n",
              "        buttonEl.style.display =\n",
              "          google.colab.kernel.accessAllowed ? 'block' : 'none';\n",
              "\n",
              "        async function convertToInteractive(key) {\n",
              "          const element = document.querySelector('#df-1112d31b-a94c-4bed-b1f0-3144bcf3f5d7');\n",
              "          const dataTable =\n",
              "            await google.colab.kernel.invokeFunction('convertToInteractive',\n",
              "                                                     [key], {});\n",
              "          if (!dataTable) return;\n",
              "\n",
              "          const docLinkHtml = 'Like what you see? Visit the ' +\n",
              "            '<a target=\"_blank\" href=https://colab.research.google.com/notebooks/data_table.ipynb>data table notebook</a>'\n",
              "            + ' to learn more about interactive tables.';\n",
              "          element.innerHTML = '';\n",
              "          dataTable['output_type'] = 'display_data';\n",
              "          await google.colab.output.renderOutput(dataTable, element);\n",
              "          const docLink = document.createElement('div');\n",
              "          docLink.innerHTML = docLinkHtml;\n",
              "          element.appendChild(docLink);\n",
              "        }\n",
              "      </script>\n",
              "    </div>\n",
              "  </div>\n",
              "  "
            ]
          },
          "metadata": {},
          "execution_count": 2
        }
      ]
    },
    {
      "cell_type": "code",
      "source": [],
      "metadata": {
        "id": "aLkYth2ibTgR"
      },
      "execution_count": null,
      "outputs": []
    },
    {
      "cell_type": "code",
      "source": [
        "def open_multiple_csv_as_df(xyz):\n",
        "  name = 'df_{}_rates_2021'.format(xyz)\n",
        "  filename = '{}-EUR_2021'.format(xyz)\n",
        "  return (name, filename)"
      ],
      "metadata": {
        "id": "rX0XroPb6aGU"
      },
      "execution_count": null,
      "outputs": []
    },
    {
      "cell_type": "code",
      "source": [],
      "metadata": {
        "id": "AUij73j7uofd"
      },
      "execution_count": null,
      "outputs": []
    },
    {
      "cell_type": "code",
      "source": [],
      "metadata": {
        "id": "L1RHR93yuwWb"
      },
      "execution_count": null,
      "outputs": []
    },
    {
      "cell_type": "code",
      "source": [
        "list_coins_staking_rates = list(map(open_multiple_csv_as_df,list_staking_pool))"
      ],
      "metadata": {
        "id": "hYU4eSAY8qLO"
      },
      "execution_count": null,
      "outputs": []
    },
    {
      "cell_type": "code",
      "source": [
        "list_coins_staking_rates"
      ],
      "metadata": {
        "colab": {
          "base_uri": "https://localhost:8080/"
        },
        "id": "A8zcOiLWEnMh",
        "outputId": "40abba4b-c42e-49e7-c92d-1f4947f0ab7f"
      },
      "execution_count": null,
      "outputs": [
        {
          "output_type": "execute_result",
          "data": {
            "text/plain": [
              "[('df_ALGO_rates_2021', 'ALGO-EUR_2021'),\n",
              " ('df_ATOM_rates_2021', 'ATOM-EUR_2021'),\n",
              " ('df_AVAX_rates_2021', 'AVAX-EUR_2021'),\n",
              " ('df_AXS_rates_2021', 'AXS-EUR_2021'),\n",
              " ('df_BNB_rates_2021', 'BNB-EUR_2021'),\n",
              " ('df_CAKE_rates_2021', 'CAKE-EUR_2021'),\n",
              " ('df_COTI_rates_2021', 'COTI-EUR_2021'),\n",
              " ('df_DOT_rates_2021', 'DOT-EUR_2021'),\n",
              " ('df_EGLD_rates_2021', 'EGLD-EUR_2021'),\n",
              " ('df_FIL_rates_2021', 'FIL-EUR_2021'),\n",
              " ('df_HNT_rates_2021', 'HNT-EUR_2021'),\n",
              " ('df_KSM_rates_2021', 'KSM-EUR_2021'),\n",
              " ('df_MATIC_rates_2021', 'MATIC-EUR_2021'),\n",
              " ('df_ONE_rates_2021', 'ONE-EUR_2021'),\n",
              " ('df_SAND_rates_2021', 'SAND-EUR_2021'),\n",
              " ('df_SOL_rates_2021', 'SOL-EUR_2021')]"
            ]
          },
          "metadata": {},
          "execution_count": 20
        }
      ]
    },
    {
      "cell_type": "code",
      "source": [
        "for coin in list_coins_staking_rates:\n",
        "  coin[0] = pd.read_csv('{}.csv'.format(coin[1]))"
      ],
      "metadata": {
        "colab": {
          "base_uri": "https://localhost:8080/",
          "height": 189
        },
        "id": "MiqiTk57-_7s",
        "outputId": "86cc34de-8d8c-49cd-d763-5ca9a9ca4fc2"
      },
      "execution_count": null,
      "outputs": [
        {
          "output_type": "error",
          "ename": "TypeError",
          "evalue": "ignored",
          "traceback": [
            "\u001b[0;31m---------------------------------------------------------------------------\u001b[0m",
            "\u001b[0;31mTypeError\u001b[0m                                 Traceback (most recent call last)",
            "\u001b[0;32m<ipython-input-21-48cd78bb60c8>\u001b[0m in \u001b[0;36m<module>\u001b[0;34m\u001b[0m\n\u001b[1;32m      1\u001b[0m \u001b[0;32mfor\u001b[0m \u001b[0mcoin\u001b[0m \u001b[0;32min\u001b[0m \u001b[0mlist_coins_staking_rates\u001b[0m\u001b[0;34m:\u001b[0m\u001b[0;34m\u001b[0m\u001b[0;34m\u001b[0m\u001b[0m\n\u001b[0;32m----> 2\u001b[0;31m   \u001b[0mcoin\u001b[0m\u001b[0;34m[\u001b[0m\u001b[0;36m0\u001b[0m\u001b[0;34m]\u001b[0m \u001b[0;34m=\u001b[0m \u001b[0mpd\u001b[0m\u001b[0;34m.\u001b[0m\u001b[0mread_csv\u001b[0m\u001b[0;34m(\u001b[0m\u001b[0;34m'{}.csv'\u001b[0m\u001b[0;34m.\u001b[0m\u001b[0mformat\u001b[0m\u001b[0;34m(\u001b[0m\u001b[0mcoin\u001b[0m\u001b[0;34m[\u001b[0m\u001b[0;36m1\u001b[0m\u001b[0;34m]\u001b[0m\u001b[0;34m)\u001b[0m\u001b[0;34m)\u001b[0m\u001b[0;34m\u001b[0m\u001b[0;34m\u001b[0m\u001b[0m\n\u001b[0m",
            "\u001b[0;31mTypeError\u001b[0m: 'tuple' object does not support item assignment"
          ]
        }
      ]
    },
    {
      "cell_type": "code",
      "source": [
        "df_ADA_rates_2021 = pd.read_csv('ADA-EUR_2021.csv')\n",
        "df_ALGO_rates_2021 = pd.read_csv('ALGO-EUR_2021.csv')\n",
        "df_ATOM_rates_2021 = pd.read_csv('ATOM-EUR_2021.csv')\n",
        "df_AVAX_rates_2021 = pd.read_csv('AVAX-EUR_2021.csv')\n",
        "df_AXS_rates_2021 = pd.read_csv('AXS-EUR_2021.csv')\n",
        "df_BNB_rates_2021 = pd.read_csv('BNB-EUR_2021.csv')\n",
        "df_CAKE_rates_2021 = pd.read_csv('CAKE-EUR_2021.csv')\n",
        "df_COTI_rates_2021 = pd.read_csv('COTI-EUR_2021.csv')\n",
        "df_DOT_rates_2021 = pd.read_csv('DOT-EUR_2021.csv')\n",
        "df_EGLD_rates_2021 = pd.read_csv('EGLD-EUR_2021.csv')\n",
        "df_FIL_rates_2021 = pd.read_csv('FIL-EUR_2021.csv')\n",
        "df_HNT_rates_2021 = pd.read_csv('HNT-EUR_2021.csv')\n",
        "df_KSM_rates_2021 = pd.read_csv('KSM-EUR_2021.csv')\n",
        "df_LINK_rates_2021 = pd.read_csv('LINK-EUR_2021.csv')\n",
        "df_MATIC_rates_2021 = pd.read_csv('MATIC-EUR_2021.csv')\n",
        "df_SAND_rates_2021 = pd.read_csv('SAND-EUR_2021.csv')\n",
        "# SOL's end outcome was wrong \n",
        "# trying to find what happened below\n",
        "#df_SOL_rates_2021 = pd.read_csv('SOL-EUR_2021.csv')"
      ],
      "metadata": {
        "id": "9-npvRtv6oOQ"
      },
      "execution_count": null,
      "outputs": []
    },
    {
      "cell_type": "code",
      "source": [
        "df_SOL_rates_2021 = pd.read_csv('SOL-EUR_2021.csv')"
      ],
      "metadata": {
        "id": "3R3J5ODrcYUm"
      },
      "execution_count": null,
      "outputs": []
    },
    {
      "cell_type": "code",
      "source": [
        "df_ADA_rates_2021['Date'] = pd.to_datetime(df_ADA_rates_2021['Date'],\n",
        "                                           dayfirst=True)"
      ],
      "metadata": {
        "id": "WRcKgaY2zHU9"
      },
      "execution_count": null,
      "outputs": []
    },
    {
      "cell_type": "code",
      "source": [
        "df_ALGO_rates_2021['Date'] = pd.to_datetime(df_ALGO_rates_2021['Date'],\n",
        "                                           dayfirst=True)\n",
        "df_ATOM_rates_2021['Date'] = pd.to_datetime(df_ATOM_rates_2021['Date'],\n",
        "                                           dayfirst=True)\n",
        "df_AVAX_rates_2021['Date'] = pd.to_datetime(df_AVAX_rates_2021['Date'],\n",
        "                                           dayfirst=True)\n",
        "df_AXS_rates_2021['Date'] = pd.to_datetime(df_AXS_rates_2021['Date'],\n",
        "                                           dayfirst=True)\n",
        "df_BNB_rates_2021['Date'] = pd.to_datetime(df_BNB_rates_2021['Date'],\n",
        "                                           dayfirst=True)\n",
        "df_CAKE_rates_2021['Date'] = pd.to_datetime(df_CAKE_rates_2021['Date'],\n",
        "                                           dayfirst=True)\n",
        "df_COTI_rates_2021['Date'] = pd.to_datetime(df_COTI_rates_2021['Date'],\n",
        "                                           dayfirst=True)\n",
        "df_DOT_rates_2021['Date'] = pd.to_datetime(df_DOT_rates_2021['Date'],\n",
        "                                           dayfirst=True)\n",
        "df_EGLD_rates_2021['Date'] = pd.to_datetime(df_EGLD_rates_2021['Date'],\n",
        "                                           dayfirst=True)\n",
        "df_FIL_rates_2021['Date'] = pd.to_datetime(df_FIL_rates_2021['Date'],\n",
        "                                           dayfirst=True)\n",
        "df_HNT_rates_2021['Date'] = pd.to_datetime(df_HNT_rates_2021['Date'],\n",
        "                                           dayfirst=True)\n",
        "df_KSM_rates_2021['Date'] = pd.to_datetime(df_KSM_rates_2021['Date'],\n",
        "                                           dayfirst=True)\n",
        "df_MATIC_rates_2021['Date'] = pd.to_datetime(df_MATIC_rates_2021['Date'],\n",
        "                                           dayfirst=True)\n",
        "df_SAND_rates_2021['Date'] = pd.to_datetime(df_SAND_rates_2021['Date'],\n",
        "'''                                           dayfirst=True)\n",
        "# SOL's end outcome was wrong \n",
        "# trying to find what happened below\n",
        "df_SOL_rates_2021['Date'] = pd.to_datetime(df_SOL_rates_2021['Date'],\n",
        "                                           dayfirst=True)\n",
        "'''"
      ],
      "metadata": {
        "id": "_z0EcY7_T7U3"
      },
      "execution_count": null,
      "outputs": []
    },
    {
      "cell_type": "code",
      "source": [
        "df_SOL_rates_2021['Date'] = pd.to_datetime(df_SOL_rates_2021['Date'],\n",
        "                                           dayfirst=True)"
      ],
      "metadata": {
        "id": "IRRu5B7Cckmm"
      },
      "execution_count": null,
      "outputs": []
    },
    {
      "cell_type": "code",
      "source": [
        "df_SOL_rates_2021.tail()"
      ],
      "metadata": {
        "colab": {
          "base_uri": "https://localhost:8080/",
          "height": 206
        },
        "id": "bRscJvBJc0-7",
        "outputId": "7793c560-0f4d-4f91-d3e0-ea5b6a254f16"
      },
      "execution_count": null,
      "outputs": [
        {
          "output_type": "execute_result",
          "data": {
            "text/plain": [
              "          Date        Open        High         Low       Close   Adj Close  \\\n",
              "360 2021-12-27  174.755386  180.632233  172.606262  172.494476  172.494476   \n",
              "361 2021-12-28  172.664078  172.664078  156.676651  156.830582  156.830582   \n",
              "362 2021-12-29  156.798264  159.686127  150.154846  150.229340  150.229340   \n",
              "363 2021-12-30  150.323730  155.101563  148.472061  152.570923  152.570923   \n",
              "364 2021-12-31  152.529099  156.579666  147.867035  149.727280  149.727280   \n",
              "\n",
              "         Volume  \n",
              "360  1588840985  \n",
              "361  2498022588  \n",
              "362  1915289600  \n",
              "363  1360665175  \n",
              "364  1378517362  "
            ],
            "text/html": [
              "\n",
              "  <div id=\"df-c7b5d934-91d5-48fa-946c-c6da7d3b2f5d\">\n",
              "    <div class=\"colab-df-container\">\n",
              "      <div>\n",
              "<style scoped>\n",
              "    .dataframe tbody tr th:only-of-type {\n",
              "        vertical-align: middle;\n",
              "    }\n",
              "\n",
              "    .dataframe tbody tr th {\n",
              "        vertical-align: top;\n",
              "    }\n",
              "\n",
              "    .dataframe thead th {\n",
              "        text-align: right;\n",
              "    }\n",
              "</style>\n",
              "<table border=\"1\" class=\"dataframe\">\n",
              "  <thead>\n",
              "    <tr style=\"text-align: right;\">\n",
              "      <th></th>\n",
              "      <th>Date</th>\n",
              "      <th>Open</th>\n",
              "      <th>High</th>\n",
              "      <th>Low</th>\n",
              "      <th>Close</th>\n",
              "      <th>Adj Close</th>\n",
              "      <th>Volume</th>\n",
              "    </tr>\n",
              "  </thead>\n",
              "  <tbody>\n",
              "    <tr>\n",
              "      <th>360</th>\n",
              "      <td>2021-12-27</td>\n",
              "      <td>174.755386</td>\n",
              "      <td>180.632233</td>\n",
              "      <td>172.606262</td>\n",
              "      <td>172.494476</td>\n",
              "      <td>172.494476</td>\n",
              "      <td>1588840985</td>\n",
              "    </tr>\n",
              "    <tr>\n",
              "      <th>361</th>\n",
              "      <td>2021-12-28</td>\n",
              "      <td>172.664078</td>\n",
              "      <td>172.664078</td>\n",
              "      <td>156.676651</td>\n",
              "      <td>156.830582</td>\n",
              "      <td>156.830582</td>\n",
              "      <td>2498022588</td>\n",
              "    </tr>\n",
              "    <tr>\n",
              "      <th>362</th>\n",
              "      <td>2021-12-29</td>\n",
              "      <td>156.798264</td>\n",
              "      <td>159.686127</td>\n",
              "      <td>150.154846</td>\n",
              "      <td>150.229340</td>\n",
              "      <td>150.229340</td>\n",
              "      <td>1915289600</td>\n",
              "    </tr>\n",
              "    <tr>\n",
              "      <th>363</th>\n",
              "      <td>2021-12-30</td>\n",
              "      <td>150.323730</td>\n",
              "      <td>155.101563</td>\n",
              "      <td>148.472061</td>\n",
              "      <td>152.570923</td>\n",
              "      <td>152.570923</td>\n",
              "      <td>1360665175</td>\n",
              "    </tr>\n",
              "    <tr>\n",
              "      <th>364</th>\n",
              "      <td>2021-12-31</td>\n",
              "      <td>152.529099</td>\n",
              "      <td>156.579666</td>\n",
              "      <td>147.867035</td>\n",
              "      <td>149.727280</td>\n",
              "      <td>149.727280</td>\n",
              "      <td>1378517362</td>\n",
              "    </tr>\n",
              "  </tbody>\n",
              "</table>\n",
              "</div>\n",
              "      <button class=\"colab-df-convert\" onclick=\"convertToInteractive('df-c7b5d934-91d5-48fa-946c-c6da7d3b2f5d')\"\n",
              "              title=\"Convert this dataframe to an interactive table.\"\n",
              "              style=\"display:none;\">\n",
              "        \n",
              "  <svg xmlns=\"http://www.w3.org/2000/svg\" height=\"24px\"viewBox=\"0 0 24 24\"\n",
              "       width=\"24px\">\n",
              "    <path d=\"M0 0h24v24H0V0z\" fill=\"none\"/>\n",
              "    <path d=\"M18.56 5.44l.94 2.06.94-2.06 2.06-.94-2.06-.94-.94-2.06-.94 2.06-2.06.94zm-11 1L8.5 8.5l.94-2.06 2.06-.94-2.06-.94L8.5 2.5l-.94 2.06-2.06.94zm10 10l.94 2.06.94-2.06 2.06-.94-2.06-.94-.94-2.06-.94 2.06-2.06.94z\"/><path d=\"M17.41 7.96l-1.37-1.37c-.4-.4-.92-.59-1.43-.59-.52 0-1.04.2-1.43.59L10.3 9.45l-7.72 7.72c-.78.78-.78 2.05 0 2.83L4 21.41c.39.39.9.59 1.41.59.51 0 1.02-.2 1.41-.59l7.78-7.78 2.81-2.81c.8-.78.8-2.07 0-2.86zM5.41 20L4 18.59l7.72-7.72 1.47 1.35L5.41 20z\"/>\n",
              "  </svg>\n",
              "      </button>\n",
              "      \n",
              "  <style>\n",
              "    .colab-df-container {\n",
              "      display:flex;\n",
              "      flex-wrap:wrap;\n",
              "      gap: 12px;\n",
              "    }\n",
              "\n",
              "    .colab-df-convert {\n",
              "      background-color: #E8F0FE;\n",
              "      border: none;\n",
              "      border-radius: 50%;\n",
              "      cursor: pointer;\n",
              "      display: none;\n",
              "      fill: #1967D2;\n",
              "      height: 32px;\n",
              "      padding: 0 0 0 0;\n",
              "      width: 32px;\n",
              "    }\n",
              "\n",
              "    .colab-df-convert:hover {\n",
              "      background-color: #E2EBFA;\n",
              "      box-shadow: 0px 1px 2px rgba(60, 64, 67, 0.3), 0px 1px 3px 1px rgba(60, 64, 67, 0.15);\n",
              "      fill: #174EA6;\n",
              "    }\n",
              "\n",
              "    [theme=dark] .colab-df-convert {\n",
              "      background-color: #3B4455;\n",
              "      fill: #D2E3FC;\n",
              "    }\n",
              "\n",
              "    [theme=dark] .colab-df-convert:hover {\n",
              "      background-color: #434B5C;\n",
              "      box-shadow: 0px 1px 3px 1px rgba(0, 0, 0, 0.15);\n",
              "      filter: drop-shadow(0px 1px 2px rgba(0, 0, 0, 0.3));\n",
              "      fill: #FFFFFF;\n",
              "    }\n",
              "  </style>\n",
              "\n",
              "      <script>\n",
              "        const buttonEl =\n",
              "          document.querySelector('#df-c7b5d934-91d5-48fa-946c-c6da7d3b2f5d button.colab-df-convert');\n",
              "        buttonEl.style.display =\n",
              "          google.colab.kernel.accessAllowed ? 'block' : 'none';\n",
              "\n",
              "        async function convertToInteractive(key) {\n",
              "          const element = document.querySelector('#df-c7b5d934-91d5-48fa-946c-c6da7d3b2f5d');\n",
              "          const dataTable =\n",
              "            await google.colab.kernel.invokeFunction('convertToInteractive',\n",
              "                                                     [key], {});\n",
              "          if (!dataTable) return;\n",
              "\n",
              "          const docLinkHtml = 'Like what you see? Visit the ' +\n",
              "            '<a target=\"_blank\" href=https://colab.research.google.com/notebooks/data_table.ipynb>data table notebook</a>'\n",
              "            + ' to learn more about interactive tables.';\n",
              "          element.innerHTML = '';\n",
              "          dataTable['output_type'] = 'display_data';\n",
              "          await google.colab.output.renderOutput(dataTable, element);\n",
              "          const docLink = document.createElement('div');\n",
              "          docLink.innerHTML = docLinkHtml;\n",
              "          element.appendChild(docLink);\n",
              "        }\n",
              "      </script>\n",
              "    </div>\n",
              "  </div>\n",
              "  "
            ]
          },
          "metadata": {},
          "execution_count": 5
        }
      ]
    },
    {
      "cell_type": "code",
      "source": [
        "df_SOL_rates_2021.dtypes"
      ],
      "metadata": {
        "colab": {
          "base_uri": "https://localhost:8080/"
        },
        "id": "04Ed5om1c6E_",
        "outputId": "2ea7987f-01f3-450b-dc24-ee2dd39cb402"
      },
      "execution_count": null,
      "outputs": [
        {
          "output_type": "execute_result",
          "data": {
            "text/plain": [
              "Date         datetime64[ns]\n",
              "Open                float64\n",
              "High                float64\n",
              "Low                 float64\n",
              "Close               float64\n",
              "Adj Close           float64\n",
              "Volume                int64\n",
              "dtype: object"
            ]
          },
          "metadata": {},
          "execution_count": 6
        }
      ]
    },
    {
      "cell_type": "code",
      "source": [
        "df_ADA_rates_2021.dtypes"
      ],
      "metadata": {
        "colab": {
          "base_uri": "https://localhost:8080/"
        },
        "id": "ofNDdSWCLN1T",
        "outputId": "4e041415-eec5-4e1b-f8e0-c73a1e005b0b"
      },
      "execution_count": null,
      "outputs": [
        {
          "output_type": "execute_result",
          "data": {
            "text/plain": [
              "Date         datetime64[ns]\n",
              "Open                float64\n",
              "High                float64\n",
              "Low                 float64\n",
              "Close               float64\n",
              "Adj Close           float64\n",
              "Volume                int64\n",
              "dtype: object"
            ]
          },
          "metadata": {},
          "execution_count": 38
        }
      ]
    },
    {
      "cell_type": "code",
      "source": [
        "df_ADA_StkRwrd_2021_Binance.dtypes"
      ],
      "metadata": {
        "colab": {
          "base_uri": "https://localhost:8080/"
        },
        "id": "SSzJNsG1MOUD",
        "outputId": "7663d72a-859b-4196-f216-320808ea3bfb"
      },
      "execution_count": null,
      "outputs": [
        {
          "output_type": "execute_result",
          "data": {
            "text/plain": [
              "User_ID               int64\n",
              "UTC_Time             object\n",
              "Account              object\n",
              "Operation            object\n",
              "Coin                 object\n",
              "Change              float64\n",
              "Remark               object\n",
              "DateTime     datetime64[ns]\n",
              "Date         datetime64[ns]\n",
              "dtype: object"
            ]
          },
          "metadata": {},
          "execution_count": 42
        }
      ]
    },
    {
      "cell_type": "code",
      "source": [
        "'''\n",
        "This is repeated\n",
        "df_ALGO_rates_2021['Date'] = pd.to_datetime(df_ALGO_rates_2021['Date'],\n",
        "                                           dayfirst=True)\n",
        "df_ATOM_rates_2021['Date'] = pd.to_datetime(df_ATOM_rates_2021['Date'],\n",
        "                                           dayfirst=True)\n",
        "df_AVAX_rates_2021['Date'] = pd.to_datetime(df_AVAX_rates_2021['Date'],\n",
        "                                           dayfirst=True)\n",
        "df_AXS_rates_2021['Date'] = pd.to_datetime(df_AXS_rates_2021['Date'],\n",
        "                                           dayfirst=True)\n",
        "df_BNB_rates_2021['Date'] = pd.to_datetime(df_BNB_rates_2021['Date'],\n",
        "                                           dayfirst=True)\n",
        "df_CAKE_rates_2021['Date'] = pd.to_datetime(df_CAKE_rates_2021['Date'],\n",
        "                                           dayfirst=True)\n",
        "df_COTI_rates_2021['Date'] = pd.to_datetime(df_COTI_rates_2021['Date'],\n",
        "                                           dayfirst=True)\n",
        "df_DOT_rates_2021['Date'] = pd.to_datetime(df_DOT_rates_2021['Date'],\n",
        "                                           dayfirst=True)\n",
        "df_EGLD_rates_2021['Date'] = pd.to_datetime(df_EGLD_rates_2021['Date'],\n",
        "                                           dayfirst=True)\n",
        "df_FIL_rates_2021['Date'] = pd.to_datetime(df_FIL_rates_2021['Date'],\n",
        "                                           dayfirst=True)\n",
        "df_HNT_rates_2021['Date'] = pd.to_datetime(df_HNT_rates_2021['Date'],\n",
        "                                           dayfirst=True)\n",
        "df_KSM_rates_2021['Date'] = pd.to_datetime(df_KSM_rates_2021['Date'],\n",
        "                                           dayfirst=True)\n",
        "df_MATIC_rates_2021['Date'] = pd.to_datetime(df_MATIC_rates_2021['Date'],\n",
        "                                           dayfirst=True)\n",
        "df_SAND_rates_2021['Date'] = pd.to_datetime(df_SAND_rates_2021['Date'],\n",
        "                                           dayfirst=True)\n",
        "'''                                           dayfirst=True)"
      ],
      "metadata": {
        "id": "uuP2d4A7BrN7"
      },
      "execution_count": null,
      "outputs": []
    },
    {
      "cell_type": "code",
      "source": [
        "df_ADA_StkRwrd_2021_Binance.head()"
      ],
      "metadata": {
        "colab": {
          "base_uri": "https://localhost:8080/",
          "height": 206
        },
        "id": "LcrT9aMkJsyw",
        "outputId": "553c945f-36c2-4968-f794-9e13b528c8d4"
      },
      "execution_count": null,
      "outputs": [
        {
          "output_type": "execute_result",
          "data": {
            "text/plain": [
              "       User_ID          UTC_Time Account        Operation Coin    Change  \\\n",
              "4196  59094579  01/07/2021 01:33    Spot  Staking Rewards  ADA  1.386135   \n",
              "4197  59094579  01/07/2021 01:35    Spot  Staking Rewards  ADA  0.000317   \n",
              "4198  59094579  01/07/2021 01:35    Spot  Staking Rewards  ADA  0.000317   \n",
              "4199  59094579  01/07/2021 01:37    Spot  Staking Rewards  ADA  0.000633   \n",
              "4200  59094579  01/07/2021 01:40    Spot  Staking Rewards  ADA  0.000634   \n",
              "\n",
              "     Remark            DateTime        Date  \n",
              "4196    NaN 2021-07-01 01:33:00  2021-07-01  \n",
              "4197    NaN 2021-07-01 01:35:00  2021-07-01  \n",
              "4198    NaN 2021-07-01 01:35:00  2021-07-01  \n",
              "4199    NaN 2021-07-01 01:37:00  2021-07-01  \n",
              "4200    NaN 2021-07-01 01:40:00  2021-07-01  "
            ],
            "text/html": [
              "\n",
              "  <div id=\"df-ca2e1f7c-887d-4ffd-afce-000cb2682eec\">\n",
              "    <div class=\"colab-df-container\">\n",
              "      <div>\n",
              "<style scoped>\n",
              "    .dataframe tbody tr th:only-of-type {\n",
              "        vertical-align: middle;\n",
              "    }\n",
              "\n",
              "    .dataframe tbody tr th {\n",
              "        vertical-align: top;\n",
              "    }\n",
              "\n",
              "    .dataframe thead th {\n",
              "        text-align: right;\n",
              "    }\n",
              "</style>\n",
              "<table border=\"1\" class=\"dataframe\">\n",
              "  <thead>\n",
              "    <tr style=\"text-align: right;\">\n",
              "      <th></th>\n",
              "      <th>User_ID</th>\n",
              "      <th>UTC_Time</th>\n",
              "      <th>Account</th>\n",
              "      <th>Operation</th>\n",
              "      <th>Coin</th>\n",
              "      <th>Change</th>\n",
              "      <th>Remark</th>\n",
              "      <th>DateTime</th>\n",
              "      <th>Date</th>\n",
              "    </tr>\n",
              "  </thead>\n",
              "  <tbody>\n",
              "    <tr>\n",
              "      <th>4196</th>\n",
              "      <td>59094579</td>\n",
              "      <td>01/07/2021 01:33</td>\n",
              "      <td>Spot</td>\n",
              "      <td>Staking Rewards</td>\n",
              "      <td>ADA</td>\n",
              "      <td>1.386135</td>\n",
              "      <td>NaN</td>\n",
              "      <td>2021-07-01 01:33:00</td>\n",
              "      <td>2021-07-01</td>\n",
              "    </tr>\n",
              "    <tr>\n",
              "      <th>4197</th>\n",
              "      <td>59094579</td>\n",
              "      <td>01/07/2021 01:35</td>\n",
              "      <td>Spot</td>\n",
              "      <td>Staking Rewards</td>\n",
              "      <td>ADA</td>\n",
              "      <td>0.000317</td>\n",
              "      <td>NaN</td>\n",
              "      <td>2021-07-01 01:35:00</td>\n",
              "      <td>2021-07-01</td>\n",
              "    </tr>\n",
              "    <tr>\n",
              "      <th>4198</th>\n",
              "      <td>59094579</td>\n",
              "      <td>01/07/2021 01:35</td>\n",
              "      <td>Spot</td>\n",
              "      <td>Staking Rewards</td>\n",
              "      <td>ADA</td>\n",
              "      <td>0.000317</td>\n",
              "      <td>NaN</td>\n",
              "      <td>2021-07-01 01:35:00</td>\n",
              "      <td>2021-07-01</td>\n",
              "    </tr>\n",
              "    <tr>\n",
              "      <th>4199</th>\n",
              "      <td>59094579</td>\n",
              "      <td>01/07/2021 01:37</td>\n",
              "      <td>Spot</td>\n",
              "      <td>Staking Rewards</td>\n",
              "      <td>ADA</td>\n",
              "      <td>0.000633</td>\n",
              "      <td>NaN</td>\n",
              "      <td>2021-07-01 01:37:00</td>\n",
              "      <td>2021-07-01</td>\n",
              "    </tr>\n",
              "    <tr>\n",
              "      <th>4200</th>\n",
              "      <td>59094579</td>\n",
              "      <td>01/07/2021 01:40</td>\n",
              "      <td>Spot</td>\n",
              "      <td>Staking Rewards</td>\n",
              "      <td>ADA</td>\n",
              "      <td>0.000634</td>\n",
              "      <td>NaN</td>\n",
              "      <td>2021-07-01 01:40:00</td>\n",
              "      <td>2021-07-01</td>\n",
              "    </tr>\n",
              "  </tbody>\n",
              "</table>\n",
              "</div>\n",
              "      <button class=\"colab-df-convert\" onclick=\"convertToInteractive('df-ca2e1f7c-887d-4ffd-afce-000cb2682eec')\"\n",
              "              title=\"Convert this dataframe to an interactive table.\"\n",
              "              style=\"display:none;\">\n",
              "        \n",
              "  <svg xmlns=\"http://www.w3.org/2000/svg\" height=\"24px\"viewBox=\"0 0 24 24\"\n",
              "       width=\"24px\">\n",
              "    <path d=\"M0 0h24v24H0V0z\" fill=\"none\"/>\n",
              "    <path d=\"M18.56 5.44l.94 2.06.94-2.06 2.06-.94-2.06-.94-.94-2.06-.94 2.06-2.06.94zm-11 1L8.5 8.5l.94-2.06 2.06-.94-2.06-.94L8.5 2.5l-.94 2.06-2.06.94zm10 10l.94 2.06.94-2.06 2.06-.94-2.06-.94-.94-2.06-.94 2.06-2.06.94z\"/><path d=\"M17.41 7.96l-1.37-1.37c-.4-.4-.92-.59-1.43-.59-.52 0-1.04.2-1.43.59L10.3 9.45l-7.72 7.72c-.78.78-.78 2.05 0 2.83L4 21.41c.39.39.9.59 1.41.59.51 0 1.02-.2 1.41-.59l7.78-7.78 2.81-2.81c.8-.78.8-2.07 0-2.86zM5.41 20L4 18.59l7.72-7.72 1.47 1.35L5.41 20z\"/>\n",
              "  </svg>\n",
              "      </button>\n",
              "      \n",
              "  <style>\n",
              "    .colab-df-container {\n",
              "      display:flex;\n",
              "      flex-wrap:wrap;\n",
              "      gap: 12px;\n",
              "    }\n",
              "\n",
              "    .colab-df-convert {\n",
              "      background-color: #E8F0FE;\n",
              "      border: none;\n",
              "      border-radius: 50%;\n",
              "      cursor: pointer;\n",
              "      display: none;\n",
              "      fill: #1967D2;\n",
              "      height: 32px;\n",
              "      padding: 0 0 0 0;\n",
              "      width: 32px;\n",
              "    }\n",
              "\n",
              "    .colab-df-convert:hover {\n",
              "      background-color: #E2EBFA;\n",
              "      box-shadow: 0px 1px 2px rgba(60, 64, 67, 0.3), 0px 1px 3px 1px rgba(60, 64, 67, 0.15);\n",
              "      fill: #174EA6;\n",
              "    }\n",
              "\n",
              "    [theme=dark] .colab-df-convert {\n",
              "      background-color: #3B4455;\n",
              "      fill: #D2E3FC;\n",
              "    }\n",
              "\n",
              "    [theme=dark] .colab-df-convert:hover {\n",
              "      background-color: #434B5C;\n",
              "      box-shadow: 0px 1px 3px 1px rgba(0, 0, 0, 0.15);\n",
              "      filter: drop-shadow(0px 1px 2px rgba(0, 0, 0, 0.3));\n",
              "      fill: #FFFFFF;\n",
              "    }\n",
              "  </style>\n",
              "\n",
              "      <script>\n",
              "        const buttonEl =\n",
              "          document.querySelector('#df-ca2e1f7c-887d-4ffd-afce-000cb2682eec button.colab-df-convert');\n",
              "        buttonEl.style.display =\n",
              "          google.colab.kernel.accessAllowed ? 'block' : 'none';\n",
              "\n",
              "        async function convertToInteractive(key) {\n",
              "          const element = document.querySelector('#df-ca2e1f7c-887d-4ffd-afce-000cb2682eec');\n",
              "          const dataTable =\n",
              "            await google.colab.kernel.invokeFunction('convertToInteractive',\n",
              "                                                     [key], {});\n",
              "          if (!dataTable) return;\n",
              "\n",
              "          const docLinkHtml = 'Like what you see? Visit the ' +\n",
              "            '<a target=\"_blank\" href=https://colab.research.google.com/notebooks/data_table.ipynb>data table notebook</a>'\n",
              "            + ' to learn more about interactive tables.';\n",
              "          element.innerHTML = '';\n",
              "          dataTable['output_type'] = 'display_data';\n",
              "          await google.colab.output.renderOutput(dataTable, element);\n",
              "          const docLink = document.createElement('div');\n",
              "          docLink.innerHTML = docLinkHtml;\n",
              "          element.appendChild(docLink);\n",
              "        }\n",
              "      </script>\n",
              "    </div>\n",
              "  </div>\n",
              "  "
            ]
          },
          "metadata": {},
          "execution_count": 27
        }
      ]
    },
    {
      "cell_type": "code",
      "execution_count": null,
      "metadata": {
        "id": "VvcjiIZAzHbf"
      },
      "outputs": [],
      "source": [
        "import datetime as dt"
      ]
    },
    {
      "cell_type": "code",
      "execution_count": null,
      "metadata": {
        "id": "DOpoPFDoLGBQ"
      },
      "outputs": [],
      "source": [
        "df_binance_stakingRewards_2021_ADA = df_binance_stakingRewards_2021[df_binance_stakingRewards_2021['Coin'] == 'ADA'].sort_values(by='UTC_Time')"
      ]
    },
    {
      "cell_type": "code",
      "source": [
        "df_binance_stakingRewards_2021_ALGO = df_binance_stakingRewards_2021[df_binance_stakingRewards_2021['Coin'] == 'ALGO'].sort_values(by='UTC_Time')\n",
        "df_binance_stakingRewards_2021_ATOM = df_binance_stakingRewards_2021[df_binance_stakingRewards_2021['Coin'] == 'ATOM'].sort_values(by='UTC_Time')\n",
        "df_binance_stakingRewards_2021_AVAX = df_binance_stakingRewards_2021[df_binance_stakingRewards_2021['Coin'] == 'AVAX'].sort_values(by='UTC_Time')\n",
        "df_binance_stakingRewards_2021_AXS = df_binance_stakingRewards_2021[df_binance_stakingRewards_2021['Coin'] == 'AXS'].sort_values(by='UTC_Time')\n",
        "df_binance_stakingRewards_2021_BNB = df_binance_stakingRewards_2021[df_binance_stakingRewards_2021['Coin'] == 'BNB'].sort_values(by='UTC_Time')\n",
        "df_binance_stakingRewards_2021_CAKE = df_binance_stakingRewards_2021[df_binance_stakingRewards_2021['Coin'] == 'CAKE'].sort_values(by='UTC_Time')\n",
        "df_binance_stakingRewards_2021_COTI = df_binance_stakingRewards_2021[df_binance_stakingRewards_2021['Coin'] == 'COTI'].sort_values(by='UTC_Time')\n",
        "df_binance_stakingRewards_2021_DOT = df_binance_stakingRewards_2021[df_binance_stakingRewards_2021['Coin'] == 'DOT'].sort_values(by='UTC_Time')\n",
        "df_binance_stakingRewards_2021_EGLD = df_binance_stakingRewards_2021[df_binance_stakingRewards_2021['Coin'] == 'EGLD'].sort_values(by='UTC_Time')\n",
        "df_binance_stakingRewards_2021_FIL = df_binance_stakingRewards_2021[df_binance_stakingRewards_2021['Coin'] == 'FIL'].sort_values(by='UTC_Time')\n",
        "df_binance_stakingRewards_2021_HNT = df_binance_stakingRewards_2021[df_binance_stakingRewards_2021['Coin'] == 'HNT'].sort_values(by='UTC_Time')\n",
        "df_binance_stakingRewards_2021_KSM = df_binance_stakingRewards_2021[df_binance_stakingRewards_2021['Coin'] == 'KSM'].sort_values(by='UTC_Time')\n",
        "df_binance_stakingRewards_2021_MATIC = df_binance_stakingRewards_2021[df_binance_stakingRewards_2021['Coin'] == 'MATIC'].sort_values(by='UTC_Time')\n",
        "df_binance_stakingRewards_2021_SAND = df_binance_stakingRewards_2021[df_binance_stakingRewards_2021['Coin'] == 'SAND'].sort_values(by='UTC_Time')\n",
        "                                           dayfirst=True)\n",
        "'''\n",
        "# SOL's end outcome was wrong \n",
        "# trying to find what happened below\n",
        "df_binance_stakingRewards_2021_SOL = df_binance_stakingRewards_2021[df_binance_stakingRewards_2021['Coin'] == 'SOL'].sort_values(by='UTC_Time')\n",
        "'''\n"
      ],
      "metadata": {
        "id": "0qw6RnoHWgx7"
      },
      "execution_count": null,
      "outputs": []
    },
    {
      "cell_type": "code",
      "source": [
        "df_binance_stakingRewards_2021_SOL = df_binance_stakingRewards_2021[df_binance_stakingRewards_2021['Coin'] == 'SOL'].sort_values(by='UTC_Time')"
      ],
      "metadata": {
        "id": "l2sy9ghniLFC"
      },
      "execution_count": null,
      "outputs": []
    },
    {
      "cell_type": "code",
      "execution_count": null,
      "metadata": {
        "colab": {
          "base_uri": "https://localhost:8080/"
        },
        "id": "FrLd3x6CX_jX",
        "outputId": "b268ded9-102a-40b1-fd25-93b84035105b"
      },
      "outputs": [
        {
          "data": {
            "text/plain": [
              "291.56445833"
            ]
          },
          "execution_count": 7,
          "metadata": {},
          "output_type": "execute_result"
        }
      ],
      "source": [
        "df_binance_stakingRewards_2021_ADA['Change'].sum()"
      ]
    },
    {
      "cell_type": "code",
      "source": [
        "df_binance_stakingRewards_2021_SOL['Change'].sum()"
      ],
      "metadata": {
        "colab": {
          "base_uri": "https://localhost:8080/"
        },
        "id": "xfuU2heTidIJ",
        "outputId": "0b2afe9f-1eda-4cef-9358-d84f2b688658"
      },
      "execution_count": null,
      "outputs": [
        {
          "output_type": "execute_result",
          "data": {
            "text/plain": [
              "0.70715899"
            ]
          },
          "metadata": {},
          "execution_count": 8
        }
      ]
    },
    {
      "cell_type": "code",
      "source": [
        "df_ALGO_StkRwrd_2021_Binance = df_binance_stakingRewards_2021_ALGO\n",
        "df_ATOM_StkRwrd_2021_Binance = df_binance_stakingRewards_2021_ATOM\n",
        "df_AVAX_StkRwrd_2021_Binance = df_binance_stakingRewards_2021_AVAX\n",
        "df_AXS_StkRwrd_2021_Binance = df_binance_stakingRewards_2021_AXS\n",
        "df_BNB_StkRwrd_2021_Binance = df_binance_stakingRewards_2021_BNB\n",
        "df_CAKE_StkRwrd_2021_Binance = df_binance_stakingRewards_2021_CAKE\n",
        "df_COTI_StkRwrd_2021_Binance = df_binance_stakingRewards_2021_COTI\n",
        "df_DOT_StkRwrd_2021_Binance = df_binance_stakingRewards_2021_DOT\n",
        "df_EGLD_StkRwrd_2021_Binance = df_binance_stakingRewards_2021_EGLD\n",
        "df_FIL_StkRwrd_2021_Binance = df_binance_stakingRewards_2021_FIL\n",
        "df_HNT_StkRwrd_2021_Binance = df_binance_stakingRewards_2021_HNT\n",
        "df_KSM_StkRwrd_2021_Binance = df_binance_stakingRewards_2021_KSM\n",
        "df_MATIC_StkRwrd_2021_Binance = df_binance_stakingRewards_2021_MATIC\n",
        "df_SAND_StkRwrd_2021_Binance = df_binance_stakingRewards_2021_SAND\n",
        "'''\n",
        "# SOL's end outcome was wrong \n",
        "# trying to find what happened below\n",
        "df_SOL_StkRwrd_2021_Binance = df_binance_stakingRewards_2021_SOL\n",
        "'''"
      ],
      "metadata": {
        "id": "2TkE2-L4Yu8b"
      },
      "execution_count": null,
      "outputs": []
    },
    {
      "cell_type": "code",
      "source": [],
      "metadata": {
        "id": "mZfdNufqkmgu"
      },
      "execution_count": null,
      "outputs": []
    },
    {
      "cell_type": "code",
      "source": [
        "df_SOL_StkRwrd_2021_Binance = df_binance_stakingRewards_2021_SOL"
      ],
      "metadata": {
        "id": "OAtKeuK_itM_"
      },
      "execution_count": null,
      "outputs": []
    },
    {
      "cell_type": "code",
      "source": [
        "print(df_SOL_StkRwrd_2021_Binance.dtypes)\n",
        "print(df_binance_stakingRewards_2021_SOL.dtypes)\n",
        "df_SOL_StkRwrd_2021_Binance.head()"
      ],
      "metadata": {
        "colab": {
          "base_uri": "https://localhost:8080/",
          "height": 498
        },
        "id": "4kVyCbPToz23",
        "outputId": "4324698b-5c83-4fa3-a004-9eab79c18cc8"
      },
      "execution_count": 12,
      "outputs": [
        {
          "output_type": "stream",
          "name": "stdout",
          "text": [
            "User_ID        int64\n",
            "UTC_Time      object\n",
            "Account       object\n",
            "Operation     object\n",
            "Coin          object\n",
            "Change       float64\n",
            "Remark       float64\n",
            "dtype: object\n",
            "User_ID        int64\n",
            "UTC_Time      object\n",
            "Account       object\n",
            "Operation     object\n",
            "Coin          object\n",
            "Change       float64\n",
            "Remark       float64\n",
            "dtype: object\n"
          ]
        },
        {
          "output_type": "execute_result",
          "data": {
            "text/plain": [
              "        User_ID          UTC_Time Account        Operation Coin    Change  \\\n",
              "20589  59094579  01/07/2021 07:58    Spot  Staking Rewards  SOL  0.000596   \n",
              "20786  59094579  01/08/2021 01:58    Spot  Staking Rewards  SOL  0.000596   \n",
              "20499  59094579  01/09/2021 01:50    Spot  Staking Rewards  SOL  0.000605   \n",
              "21016  59094579  01/10/2021 03:19    Spot  Staking Rewards  SOL  0.000605   \n",
              "20955  59094579  01/10/2021 03:20    Spot  Staking Rewards  SOL  0.000589   \n",
              "\n",
              "       Remark  \n",
              "20589     NaN  \n",
              "20786     NaN  \n",
              "20499     NaN  \n",
              "21016     NaN  \n",
              "20955     NaN  "
            ],
            "text/html": [
              "\n",
              "  <div id=\"df-ab3be3a1-6c05-438b-b9b5-31d168f1ae3d\">\n",
              "    <div class=\"colab-df-container\">\n",
              "      <div>\n",
              "<style scoped>\n",
              "    .dataframe tbody tr th:only-of-type {\n",
              "        vertical-align: middle;\n",
              "    }\n",
              "\n",
              "    .dataframe tbody tr th {\n",
              "        vertical-align: top;\n",
              "    }\n",
              "\n",
              "    .dataframe thead th {\n",
              "        text-align: right;\n",
              "    }\n",
              "</style>\n",
              "<table border=\"1\" class=\"dataframe\">\n",
              "  <thead>\n",
              "    <tr style=\"text-align: right;\">\n",
              "      <th></th>\n",
              "      <th>User_ID</th>\n",
              "      <th>UTC_Time</th>\n",
              "      <th>Account</th>\n",
              "      <th>Operation</th>\n",
              "      <th>Coin</th>\n",
              "      <th>Change</th>\n",
              "      <th>Remark</th>\n",
              "    </tr>\n",
              "  </thead>\n",
              "  <tbody>\n",
              "    <tr>\n",
              "      <th>20589</th>\n",
              "      <td>59094579</td>\n",
              "      <td>01/07/2021 07:58</td>\n",
              "      <td>Spot</td>\n",
              "      <td>Staking Rewards</td>\n",
              "      <td>SOL</td>\n",
              "      <td>0.000596</td>\n",
              "      <td>NaN</td>\n",
              "    </tr>\n",
              "    <tr>\n",
              "      <th>20786</th>\n",
              "      <td>59094579</td>\n",
              "      <td>01/08/2021 01:58</td>\n",
              "      <td>Spot</td>\n",
              "      <td>Staking Rewards</td>\n",
              "      <td>SOL</td>\n",
              "      <td>0.000596</td>\n",
              "      <td>NaN</td>\n",
              "    </tr>\n",
              "    <tr>\n",
              "      <th>20499</th>\n",
              "      <td>59094579</td>\n",
              "      <td>01/09/2021 01:50</td>\n",
              "      <td>Spot</td>\n",
              "      <td>Staking Rewards</td>\n",
              "      <td>SOL</td>\n",
              "      <td>0.000605</td>\n",
              "      <td>NaN</td>\n",
              "    </tr>\n",
              "    <tr>\n",
              "      <th>21016</th>\n",
              "      <td>59094579</td>\n",
              "      <td>01/10/2021 03:19</td>\n",
              "      <td>Spot</td>\n",
              "      <td>Staking Rewards</td>\n",
              "      <td>SOL</td>\n",
              "      <td>0.000605</td>\n",
              "      <td>NaN</td>\n",
              "    </tr>\n",
              "    <tr>\n",
              "      <th>20955</th>\n",
              "      <td>59094579</td>\n",
              "      <td>01/10/2021 03:20</td>\n",
              "      <td>Spot</td>\n",
              "      <td>Staking Rewards</td>\n",
              "      <td>SOL</td>\n",
              "      <td>0.000589</td>\n",
              "      <td>NaN</td>\n",
              "    </tr>\n",
              "  </tbody>\n",
              "</table>\n",
              "</div>\n",
              "      <button class=\"colab-df-convert\" onclick=\"convertToInteractive('df-ab3be3a1-6c05-438b-b9b5-31d168f1ae3d')\"\n",
              "              title=\"Convert this dataframe to an interactive table.\"\n",
              "              style=\"display:none;\">\n",
              "        \n",
              "  <svg xmlns=\"http://www.w3.org/2000/svg\" height=\"24px\"viewBox=\"0 0 24 24\"\n",
              "       width=\"24px\">\n",
              "    <path d=\"M0 0h24v24H0V0z\" fill=\"none\"/>\n",
              "    <path d=\"M18.56 5.44l.94 2.06.94-2.06 2.06-.94-2.06-.94-.94-2.06-.94 2.06-2.06.94zm-11 1L8.5 8.5l.94-2.06 2.06-.94-2.06-.94L8.5 2.5l-.94 2.06-2.06.94zm10 10l.94 2.06.94-2.06 2.06-.94-2.06-.94-.94-2.06-.94 2.06-2.06.94z\"/><path d=\"M17.41 7.96l-1.37-1.37c-.4-.4-.92-.59-1.43-.59-.52 0-1.04.2-1.43.59L10.3 9.45l-7.72 7.72c-.78.78-.78 2.05 0 2.83L4 21.41c.39.39.9.59 1.41.59.51 0 1.02-.2 1.41-.59l7.78-7.78 2.81-2.81c.8-.78.8-2.07 0-2.86zM5.41 20L4 18.59l7.72-7.72 1.47 1.35L5.41 20z\"/>\n",
              "  </svg>\n",
              "      </button>\n",
              "      \n",
              "  <style>\n",
              "    .colab-df-container {\n",
              "      display:flex;\n",
              "      flex-wrap:wrap;\n",
              "      gap: 12px;\n",
              "    }\n",
              "\n",
              "    .colab-df-convert {\n",
              "      background-color: #E8F0FE;\n",
              "      border: none;\n",
              "      border-radius: 50%;\n",
              "      cursor: pointer;\n",
              "      display: none;\n",
              "      fill: #1967D2;\n",
              "      height: 32px;\n",
              "      padding: 0 0 0 0;\n",
              "      width: 32px;\n",
              "    }\n",
              "\n",
              "    .colab-df-convert:hover {\n",
              "      background-color: #E2EBFA;\n",
              "      box-shadow: 0px 1px 2px rgba(60, 64, 67, 0.3), 0px 1px 3px 1px rgba(60, 64, 67, 0.15);\n",
              "      fill: #174EA6;\n",
              "    }\n",
              "\n",
              "    [theme=dark] .colab-df-convert {\n",
              "      background-color: #3B4455;\n",
              "      fill: #D2E3FC;\n",
              "    }\n",
              "\n",
              "    [theme=dark] .colab-df-convert:hover {\n",
              "      background-color: #434B5C;\n",
              "      box-shadow: 0px 1px 3px 1px rgba(0, 0, 0, 0.15);\n",
              "      filter: drop-shadow(0px 1px 2px rgba(0, 0, 0, 0.3));\n",
              "      fill: #FFFFFF;\n",
              "    }\n",
              "  </style>\n",
              "\n",
              "      <script>\n",
              "        const buttonEl =\n",
              "          document.querySelector('#df-ab3be3a1-6c05-438b-b9b5-31d168f1ae3d button.colab-df-convert');\n",
              "        buttonEl.style.display =\n",
              "          google.colab.kernel.accessAllowed ? 'block' : 'none';\n",
              "\n",
              "        async function convertToInteractive(key) {\n",
              "          const element = document.querySelector('#df-ab3be3a1-6c05-438b-b9b5-31d168f1ae3d');\n",
              "          const dataTable =\n",
              "            await google.colab.kernel.invokeFunction('convertToInteractive',\n",
              "                                                     [key], {});\n",
              "          if (!dataTable) return;\n",
              "\n",
              "          const docLinkHtml = 'Like what you see? Visit the ' +\n",
              "            '<a target=\"_blank\" href=https://colab.research.google.com/notebooks/data_table.ipynb>data table notebook</a>'\n",
              "            + ' to learn more about interactive tables.';\n",
              "          element.innerHTML = '';\n",
              "          dataTable['output_type'] = 'display_data';\n",
              "          await google.colab.output.renderOutput(dataTable, element);\n",
              "          const docLink = document.createElement('div');\n",
              "          docLink.innerHTML = docLinkHtml;\n",
              "          element.appendChild(docLink);\n",
              "        }\n",
              "      </script>\n",
              "    </div>\n",
              "  </div>\n",
              "  "
            ]
          },
          "metadata": {},
          "execution_count": 12
        }
      ]
    },
    {
      "cell_type": "code",
      "execution_count": null,
      "metadata": {
        "id": "Y9TPEeE5YMse"
      },
      "outputs": [],
      "source": [
        "df_ADA_StkRwrd_2021_Binance = df_binance_stakingRewards_2021_ADA"
      ]
    },
    {
      "cell_type": "code",
      "execution_count": null,
      "metadata": {
        "id": "wTd0xPnTYMxV"
      },
      "outputs": [],
      "source": [
        "df_ADA_StkRwrd_2021_Binance['DateTime'] = pd.to_datetime(df_binance_stakingRewards_2021_ADA['UTC_Time'],dayfirst=True)"
      ]
    },
    {
      "cell_type": "code",
      "source": [
        "df_ALGO_StkRwrd_2021_Binance['DateTime'] = pd.to_datetime(df_binance_stakingRewards_2021_ALGO['UTC_Time'],dayfirst=True)\n",
        "df_ATOM_StkRwrd_2021_Binance['DateTime'] = pd.to_datetime(df_binance_stakingRewards_2021_ATOM['UTC_Time'],dayfirst=True)\n",
        "df_AVAX_StkRwrd_2021_Binance['DateTime'] = pd.to_datetime(df_binance_stakingRewards_2021_AVAX['UTC_Time'],dayfirst=True)\n",
        "df_AXS_StkRwrd_2021_Binance['DateTime'] = pd.to_datetime(df_binance_stakingRewards_2021_AXS['UTC_Time'],dayfirst=True)\n",
        "df_BNB_StkRwrd_2021_Binance['DateTime'] = pd.to_datetime(df_binance_stakingRewards_2021_BNB['UTC_Time'],dayfirst=True)\n",
        "df_CAKE_StkRwrd_2021_Binance['DateTime'] = pd.to_datetime(df_binance_stakingRewards_2021_CAKE['UTC_Time'],dayfirst=True)\n",
        "df_COTI_StkRwrd_2021_Binance['DateTime'] = pd.to_datetime(df_binance_stakingRewards_2021_COTI['UTC_Time'],dayfirst=True)\n",
        "df_DOT_StkRwrd_2021_Binance['DateTime'] = pd.to_datetime(df_binance_stakingRewards_2021_DOT['UTC_Time'],dayfirst=True)\n",
        "df_EGLD_StkRwrd_2021_Binance['DateTime'] = pd.to_datetime(df_binance_stakingRewards_2021_EGLD['UTC_Time'],dayfirst=True)\n",
        "df_FIL_StkRwrd_2021_Binance['DateTime'] = pd.to_datetime(df_binance_stakingRewards_2021_FIL['UTC_Time'],dayfirst=True)\n",
        "df_HNT_StkRwrd_2021_Binance['DateTime'] = pd.to_datetime(df_binance_stakingRewards_2021_HNT['UTC_Time'],dayfirst=True)\n",
        "df_KSM_StkRwrd_2021_Binance['DateTime'] = pd.to_datetime(df_binance_stakingRewards_2021_KSM['UTC_Time'],dayfirst=True)\n",
        "df_MATIC_StkRwrd_2021_Binance['DateTime'] = pd.to_datetime(df_binance_stakingRewards_2021_MATIC['UTC_Time'],dayfirst=True)\n",
        "df_SAND_StkRwrd_2021_Binance['DateTime'] = pd.to_datetime(df_binance_stakingRewards_2021_SAND['UTC_Time'],dayfirst=True)\n",
        "'''\n",
        "# SOL's end outcome was wrong \n",
        "# trying to find what happened below\n",
        "df_SOL_StkRwrd_2021_Binance['DateTime'] = pd.to_datetime(df_binance_stakingRewards_2021_SOL['UTC_Time'],dayfirst=True)\n",
        "'''"
      ],
      "metadata": {
        "id": "GmN30gLeb0nL"
      },
      "execution_count": null,
      "outputs": []
    },
    {
      "cell_type": "code",
      "source": [
        "df_SOL_StkRwrd_2021_Binance['DateTime'] = pd.to_datetime(df_binance_stakingRewards_2021_SOL['UTC_Time'],dayfirst=True)"
      ],
      "metadata": {
        "id": "yA4kqqMC5sv5"
      },
      "execution_count": 13,
      "outputs": []
    },
    {
      "cell_type": "code",
      "source": [
        "print(df_SOL_StkRwrd_2021_Binance.dtypes)\n",
        "df_SOL_StkRwrd_2021_Binance.tail()"
      ],
      "metadata": {
        "colab": {
          "base_uri": "https://localhost:8080/",
          "height": 370
        },
        "id": "CBRUuZjv50ec",
        "outputId": "b82576e5-0ba7-4978-cd20-74a72304a540"
      },
      "execution_count": 15,
      "outputs": [
        {
          "output_type": "stream",
          "name": "stdout",
          "text": [
            "User_ID               int64\n",
            "UTC_Time             object\n",
            "Account              object\n",
            "Operation            object\n",
            "Coin                 object\n",
            "Change              float64\n",
            "Remark              float64\n",
            "DateTime     datetime64[ns]\n",
            "dtype: object\n"
          ]
        },
        {
          "output_type": "execute_result",
          "data": {
            "text/plain": [
              "        User_ID          UTC_Time Account        Operation Coin    Change  \\\n",
              "20457  59094579  31/12/2021 01:07    Spot  Staking Rewards  SOL  0.000412   \n",
              "20455  59094579  31/12/2021 01:07    Spot  Staking Rewards  SOL  0.000222   \n",
              "20452  59094579  31/12/2021 01:07    Spot  Staking Rewards  SOL  0.003473   \n",
              "20740  59094579  31/12/2021 01:07    Spot  Staking Rewards  SOL  0.000222   \n",
              "21388  59094579  31/12/2021 01:07    Spot  Staking Rewards  SOL  0.000222   \n",
              "\n",
              "       Remark            DateTime  \n",
              "20457     NaN 2021-12-31 01:07:00  \n",
              "20455     NaN 2021-12-31 01:07:00  \n",
              "20452     NaN 2021-12-31 01:07:00  \n",
              "20740     NaN 2021-12-31 01:07:00  \n",
              "21388     NaN 2021-12-31 01:07:00  "
            ],
            "text/html": [
              "\n",
              "  <div id=\"df-2bec441b-0fed-4a38-ab19-6b3fa492f6dc\">\n",
              "    <div class=\"colab-df-container\">\n",
              "      <div>\n",
              "<style scoped>\n",
              "    .dataframe tbody tr th:only-of-type {\n",
              "        vertical-align: middle;\n",
              "    }\n",
              "\n",
              "    .dataframe tbody tr th {\n",
              "        vertical-align: top;\n",
              "    }\n",
              "\n",
              "    .dataframe thead th {\n",
              "        text-align: right;\n",
              "    }\n",
              "</style>\n",
              "<table border=\"1\" class=\"dataframe\">\n",
              "  <thead>\n",
              "    <tr style=\"text-align: right;\">\n",
              "      <th></th>\n",
              "      <th>User_ID</th>\n",
              "      <th>UTC_Time</th>\n",
              "      <th>Account</th>\n",
              "      <th>Operation</th>\n",
              "      <th>Coin</th>\n",
              "      <th>Change</th>\n",
              "      <th>Remark</th>\n",
              "      <th>DateTime</th>\n",
              "    </tr>\n",
              "  </thead>\n",
              "  <tbody>\n",
              "    <tr>\n",
              "      <th>20457</th>\n",
              "      <td>59094579</td>\n",
              "      <td>31/12/2021 01:07</td>\n",
              "      <td>Spot</td>\n",
              "      <td>Staking Rewards</td>\n",
              "      <td>SOL</td>\n",
              "      <td>0.000412</td>\n",
              "      <td>NaN</td>\n",
              "      <td>2021-12-31 01:07:00</td>\n",
              "    </tr>\n",
              "    <tr>\n",
              "      <th>20455</th>\n",
              "      <td>59094579</td>\n",
              "      <td>31/12/2021 01:07</td>\n",
              "      <td>Spot</td>\n",
              "      <td>Staking Rewards</td>\n",
              "      <td>SOL</td>\n",
              "      <td>0.000222</td>\n",
              "      <td>NaN</td>\n",
              "      <td>2021-12-31 01:07:00</td>\n",
              "    </tr>\n",
              "    <tr>\n",
              "      <th>20452</th>\n",
              "      <td>59094579</td>\n",
              "      <td>31/12/2021 01:07</td>\n",
              "      <td>Spot</td>\n",
              "      <td>Staking Rewards</td>\n",
              "      <td>SOL</td>\n",
              "      <td>0.003473</td>\n",
              "      <td>NaN</td>\n",
              "      <td>2021-12-31 01:07:00</td>\n",
              "    </tr>\n",
              "    <tr>\n",
              "      <th>20740</th>\n",
              "      <td>59094579</td>\n",
              "      <td>31/12/2021 01:07</td>\n",
              "      <td>Spot</td>\n",
              "      <td>Staking Rewards</td>\n",
              "      <td>SOL</td>\n",
              "      <td>0.000222</td>\n",
              "      <td>NaN</td>\n",
              "      <td>2021-12-31 01:07:00</td>\n",
              "    </tr>\n",
              "    <tr>\n",
              "      <th>21388</th>\n",
              "      <td>59094579</td>\n",
              "      <td>31/12/2021 01:07</td>\n",
              "      <td>Spot</td>\n",
              "      <td>Staking Rewards</td>\n",
              "      <td>SOL</td>\n",
              "      <td>0.000222</td>\n",
              "      <td>NaN</td>\n",
              "      <td>2021-12-31 01:07:00</td>\n",
              "    </tr>\n",
              "  </tbody>\n",
              "</table>\n",
              "</div>\n",
              "      <button class=\"colab-df-convert\" onclick=\"convertToInteractive('df-2bec441b-0fed-4a38-ab19-6b3fa492f6dc')\"\n",
              "              title=\"Convert this dataframe to an interactive table.\"\n",
              "              style=\"display:none;\">\n",
              "        \n",
              "  <svg xmlns=\"http://www.w3.org/2000/svg\" height=\"24px\"viewBox=\"0 0 24 24\"\n",
              "       width=\"24px\">\n",
              "    <path d=\"M0 0h24v24H0V0z\" fill=\"none\"/>\n",
              "    <path d=\"M18.56 5.44l.94 2.06.94-2.06 2.06-.94-2.06-.94-.94-2.06-.94 2.06-2.06.94zm-11 1L8.5 8.5l.94-2.06 2.06-.94-2.06-.94L8.5 2.5l-.94 2.06-2.06.94zm10 10l.94 2.06.94-2.06 2.06-.94-2.06-.94-.94-2.06-.94 2.06-2.06.94z\"/><path d=\"M17.41 7.96l-1.37-1.37c-.4-.4-.92-.59-1.43-.59-.52 0-1.04.2-1.43.59L10.3 9.45l-7.72 7.72c-.78.78-.78 2.05 0 2.83L4 21.41c.39.39.9.59 1.41.59.51 0 1.02-.2 1.41-.59l7.78-7.78 2.81-2.81c.8-.78.8-2.07 0-2.86zM5.41 20L4 18.59l7.72-7.72 1.47 1.35L5.41 20z\"/>\n",
              "  </svg>\n",
              "      </button>\n",
              "      \n",
              "  <style>\n",
              "    .colab-df-container {\n",
              "      display:flex;\n",
              "      flex-wrap:wrap;\n",
              "      gap: 12px;\n",
              "    }\n",
              "\n",
              "    .colab-df-convert {\n",
              "      background-color: #E8F0FE;\n",
              "      border: none;\n",
              "      border-radius: 50%;\n",
              "      cursor: pointer;\n",
              "      display: none;\n",
              "      fill: #1967D2;\n",
              "      height: 32px;\n",
              "      padding: 0 0 0 0;\n",
              "      width: 32px;\n",
              "    }\n",
              "\n",
              "    .colab-df-convert:hover {\n",
              "      background-color: #E2EBFA;\n",
              "      box-shadow: 0px 1px 2px rgba(60, 64, 67, 0.3), 0px 1px 3px 1px rgba(60, 64, 67, 0.15);\n",
              "      fill: #174EA6;\n",
              "    }\n",
              "\n",
              "    [theme=dark] .colab-df-convert {\n",
              "      background-color: #3B4455;\n",
              "      fill: #D2E3FC;\n",
              "    }\n",
              "\n",
              "    [theme=dark] .colab-df-convert:hover {\n",
              "      background-color: #434B5C;\n",
              "      box-shadow: 0px 1px 3px 1px rgba(0, 0, 0, 0.15);\n",
              "      filter: drop-shadow(0px 1px 2px rgba(0, 0, 0, 0.3));\n",
              "      fill: #FFFFFF;\n",
              "    }\n",
              "  </style>\n",
              "\n",
              "      <script>\n",
              "        const buttonEl =\n",
              "          document.querySelector('#df-2bec441b-0fed-4a38-ab19-6b3fa492f6dc button.colab-df-convert');\n",
              "        buttonEl.style.display =\n",
              "          google.colab.kernel.accessAllowed ? 'block' : 'none';\n",
              "\n",
              "        async function convertToInteractive(key) {\n",
              "          const element = document.querySelector('#df-2bec441b-0fed-4a38-ab19-6b3fa492f6dc');\n",
              "          const dataTable =\n",
              "            await google.colab.kernel.invokeFunction('convertToInteractive',\n",
              "                                                     [key], {});\n",
              "          if (!dataTable) return;\n",
              "\n",
              "          const docLinkHtml = 'Like what you see? Visit the ' +\n",
              "            '<a target=\"_blank\" href=https://colab.research.google.com/notebooks/data_table.ipynb>data table notebook</a>'\n",
              "            + ' to learn more about interactive tables.';\n",
              "          element.innerHTML = '';\n",
              "          dataTable['output_type'] = 'display_data';\n",
              "          await google.colab.output.renderOutput(dataTable, element);\n",
              "          const docLink = document.createElement('div');\n",
              "          docLink.innerHTML = docLinkHtml;\n",
              "          element.appendChild(docLink);\n",
              "        }\n",
              "      </script>\n",
              "    </div>\n",
              "  </div>\n",
              "  "
            ]
          },
          "metadata": {},
          "execution_count": 15
        }
      ]
    },
    {
      "cell_type": "code",
      "execution_count": null,
      "metadata": {
        "colab": {
          "base_uri": "https://localhost:8080/",
          "height": 363
        },
        "id": "sSbtMKvWDOJR",
        "outputId": "0dc47f20-9527-4b28-bc88-e16aa679dc91"
      },
      "outputs": [
        {
          "data": {
            "text/html": [
              "\n",
              "  <div id=\"df-79d03390-f017-413d-9d47-a796cc711bb7\">\n",
              "    <div class=\"colab-df-container\">\n",
              "      <div>\n",
              "<style scoped>\n",
              "    .dataframe tbody tr th:only-of-type {\n",
              "        vertical-align: middle;\n",
              "    }\n",
              "\n",
              "    .dataframe tbody tr th {\n",
              "        vertical-align: top;\n",
              "    }\n",
              "\n",
              "    .dataframe thead th {\n",
              "        text-align: right;\n",
              "    }\n",
              "</style>\n",
              "<table border=\"1\" class=\"dataframe\">\n",
              "  <thead>\n",
              "    <tr style=\"text-align: right;\">\n",
              "      <th></th>\n",
              "      <th>User_ID</th>\n",
              "      <th>UTC_Time</th>\n",
              "      <th>Account</th>\n",
              "      <th>Operation</th>\n",
              "      <th>Coin</th>\n",
              "      <th>Change</th>\n",
              "      <th>Remark</th>\n",
              "      <th>DateTime</th>\n",
              "    </tr>\n",
              "  </thead>\n",
              "  <tbody>\n",
              "    <tr>\n",
              "      <th>24802</th>\n",
              "      <td>59094579</td>\n",
              "      <td>31/12/2021 00:41</td>\n",
              "      <td>Spot</td>\n",
              "      <td>Staking Rewards</td>\n",
              "      <td>ADA</td>\n",
              "      <td>0.064026</td>\n",
              "      <td>NaN</td>\n",
              "      <td>2021-12-31 00:41:00</td>\n",
              "    </tr>\n",
              "    <tr>\n",
              "      <th>24814</th>\n",
              "      <td>59094579</td>\n",
              "      <td>31/12/2021 00:41</td>\n",
              "      <td>Spot</td>\n",
              "      <td>Staking Rewards</td>\n",
              "      <td>ADA</td>\n",
              "      <td>0.006726</td>\n",
              "      <td>NaN</td>\n",
              "      <td>2021-12-31 00:41:00</td>\n",
              "    </tr>\n",
              "    <tr>\n",
              "      <th>24810</th>\n",
              "      <td>59094579</td>\n",
              "      <td>31/12/2021 00:41</td>\n",
              "      <td>Spot</td>\n",
              "      <td>Staking Rewards</td>\n",
              "      <td>ADA</td>\n",
              "      <td>0.002134</td>\n",
              "      <td>NaN</td>\n",
              "      <td>2021-12-31 00:41:00</td>\n",
              "    </tr>\n",
              "    <tr>\n",
              "      <th>24809</th>\n",
              "      <td>59094579</td>\n",
              "      <td>31/12/2021 00:41</td>\n",
              "      <td>Spot</td>\n",
              "      <td>Staking Rewards</td>\n",
              "      <td>ADA</td>\n",
              "      <td>0.002134</td>\n",
              "      <td>NaN</td>\n",
              "      <td>2021-12-31 00:41:00</td>\n",
              "    </tr>\n",
              "    <tr>\n",
              "      <th>24806</th>\n",
              "      <td>59094579</td>\n",
              "      <td>31/12/2021 00:41</td>\n",
              "      <td>Spot</td>\n",
              "      <td>Staking Rewards</td>\n",
              "      <td>ADA</td>\n",
              "      <td>0.094545</td>\n",
              "      <td>NaN</td>\n",
              "      <td>2021-12-31 00:41:00</td>\n",
              "    </tr>\n",
              "    <tr>\n",
              "      <th>24818</th>\n",
              "      <td>59094579</td>\n",
              "      <td>31/12/2021 00:42</td>\n",
              "      <td>Spot</td>\n",
              "      <td>Staking Rewards</td>\n",
              "      <td>ADA</td>\n",
              "      <td>0.015296</td>\n",
              "      <td>NaN</td>\n",
              "      <td>2021-12-31 00:42:00</td>\n",
              "    </tr>\n",
              "    <tr>\n",
              "      <th>24822</th>\n",
              "      <td>59094579</td>\n",
              "      <td>31/12/2021 00:42</td>\n",
              "      <td>Spot</td>\n",
              "      <td>Staking Rewards</td>\n",
              "      <td>ADA</td>\n",
              "      <td>0.021342</td>\n",
              "      <td>NaN</td>\n",
              "      <td>2021-12-31 00:42:00</td>\n",
              "    </tr>\n",
              "    <tr>\n",
              "      <th>24825</th>\n",
              "      <td>59094579</td>\n",
              "      <td>31/12/2021 00:42</td>\n",
              "      <td>Spot</td>\n",
              "      <td>Staking Rewards</td>\n",
              "      <td>ADA</td>\n",
              "      <td>0.596207</td>\n",
              "      <td>NaN</td>\n",
              "      <td>2021-12-31 00:42:00</td>\n",
              "    </tr>\n",
              "    <tr>\n",
              "      <th>24828</th>\n",
              "      <td>59094579</td>\n",
              "      <td>31/12/2021 00:43</td>\n",
              "      <td>Spot</td>\n",
              "      <td>Staking Rewards</td>\n",
              "      <td>ADA</td>\n",
              "      <td>0.066628</td>\n",
              "      <td>NaN</td>\n",
              "      <td>2021-12-31 00:43:00</td>\n",
              "    </tr>\n",
              "    <tr>\n",
              "      <th>24830</th>\n",
              "      <td>59094579</td>\n",
              "      <td>31/12/2021 00:43</td>\n",
              "      <td>Spot</td>\n",
              "      <td>Staking Rewards</td>\n",
              "      <td>ADA</td>\n",
              "      <td>0.149940</td>\n",
              "      <td>NaN</td>\n",
              "      <td>2021-12-31 00:43:00</td>\n",
              "    </tr>\n",
              "  </tbody>\n",
              "</table>\n",
              "</div>\n",
              "      <button class=\"colab-df-convert\" onclick=\"convertToInteractive('df-79d03390-f017-413d-9d47-a796cc711bb7')\"\n",
              "              title=\"Convert this dataframe to an interactive table.\"\n",
              "              style=\"display:none;\">\n",
              "        \n",
              "  <svg xmlns=\"http://www.w3.org/2000/svg\" height=\"24px\"viewBox=\"0 0 24 24\"\n",
              "       width=\"24px\">\n",
              "    <path d=\"M0 0h24v24H0V0z\" fill=\"none\"/>\n",
              "    <path d=\"M18.56 5.44l.94 2.06.94-2.06 2.06-.94-2.06-.94-.94-2.06-.94 2.06-2.06.94zm-11 1L8.5 8.5l.94-2.06 2.06-.94-2.06-.94L8.5 2.5l-.94 2.06-2.06.94zm10 10l.94 2.06.94-2.06 2.06-.94-2.06-.94-.94-2.06-.94 2.06-2.06.94z\"/><path d=\"M17.41 7.96l-1.37-1.37c-.4-.4-.92-.59-1.43-.59-.52 0-1.04.2-1.43.59L10.3 9.45l-7.72 7.72c-.78.78-.78 2.05 0 2.83L4 21.41c.39.39.9.59 1.41.59.51 0 1.02-.2 1.41-.59l7.78-7.78 2.81-2.81c.8-.78.8-2.07 0-2.86zM5.41 20L4 18.59l7.72-7.72 1.47 1.35L5.41 20z\"/>\n",
              "  </svg>\n",
              "      </button>\n",
              "      \n",
              "  <style>\n",
              "    .colab-df-container {\n",
              "      display:flex;\n",
              "      flex-wrap:wrap;\n",
              "      gap: 12px;\n",
              "    }\n",
              "\n",
              "    .colab-df-convert {\n",
              "      background-color: #E8F0FE;\n",
              "      border: none;\n",
              "      border-radius: 50%;\n",
              "      cursor: pointer;\n",
              "      display: none;\n",
              "      fill: #1967D2;\n",
              "      height: 32px;\n",
              "      padding: 0 0 0 0;\n",
              "      width: 32px;\n",
              "    }\n",
              "\n",
              "    .colab-df-convert:hover {\n",
              "      background-color: #E2EBFA;\n",
              "      box-shadow: 0px 1px 2px rgba(60, 64, 67, 0.3), 0px 1px 3px 1px rgba(60, 64, 67, 0.15);\n",
              "      fill: #174EA6;\n",
              "    }\n",
              "\n",
              "    [theme=dark] .colab-df-convert {\n",
              "      background-color: #3B4455;\n",
              "      fill: #D2E3FC;\n",
              "    }\n",
              "\n",
              "    [theme=dark] .colab-df-convert:hover {\n",
              "      background-color: #434B5C;\n",
              "      box-shadow: 0px 1px 3px 1px rgba(0, 0, 0, 0.15);\n",
              "      filter: drop-shadow(0px 1px 2px rgba(0, 0, 0, 0.3));\n",
              "      fill: #FFFFFF;\n",
              "    }\n",
              "  </style>\n",
              "\n",
              "      <script>\n",
              "        const buttonEl =\n",
              "          document.querySelector('#df-79d03390-f017-413d-9d47-a796cc711bb7 button.colab-df-convert');\n",
              "        buttonEl.style.display =\n",
              "          google.colab.kernel.accessAllowed ? 'block' : 'none';\n",
              "\n",
              "        async function convertToInteractive(key) {\n",
              "          const element = document.querySelector('#df-79d03390-f017-413d-9d47-a796cc711bb7');\n",
              "          const dataTable =\n",
              "            await google.colab.kernel.invokeFunction('convertToInteractive',\n",
              "                                                     [key], {});\n",
              "          if (!dataTable) return;\n",
              "\n",
              "          const docLinkHtml = 'Like what you see? Visit the ' +\n",
              "            '<a target=\"_blank\" href=https://colab.research.google.com/notebooks/data_table.ipynb>data table notebook</a>'\n",
              "            + ' to learn more about interactive tables.';\n",
              "          element.innerHTML = '';\n",
              "          dataTable['output_type'] = 'display_data';\n",
              "          await google.colab.output.renderOutput(dataTable, element);\n",
              "          const docLink = document.createElement('div');\n",
              "          docLink.innerHTML = docLinkHtml;\n",
              "          element.appendChild(docLink);\n",
              "        }\n",
              "      </script>\n",
              "    </div>\n",
              "  </div>\n",
              "  "
            ],
            "text/plain": [
              "        User_ID          UTC_Time Account        Operation Coin    Change  \\\n",
              "24802  59094579  31/12/2021 00:41    Spot  Staking Rewards  ADA  0.064026   \n",
              "24814  59094579  31/12/2021 00:41    Spot  Staking Rewards  ADA  0.006726   \n",
              "24810  59094579  31/12/2021 00:41    Spot  Staking Rewards  ADA  0.002134   \n",
              "24809  59094579  31/12/2021 00:41    Spot  Staking Rewards  ADA  0.002134   \n",
              "24806  59094579  31/12/2021 00:41    Spot  Staking Rewards  ADA  0.094545   \n",
              "24818  59094579  31/12/2021 00:42    Spot  Staking Rewards  ADA  0.015296   \n",
              "24822  59094579  31/12/2021 00:42    Spot  Staking Rewards  ADA  0.021342   \n",
              "24825  59094579  31/12/2021 00:42    Spot  Staking Rewards  ADA  0.596207   \n",
              "24828  59094579  31/12/2021 00:43    Spot  Staking Rewards  ADA  0.066628   \n",
              "24830  59094579  31/12/2021 00:43    Spot  Staking Rewards  ADA  0.149940   \n",
              "\n",
              "      Remark            DateTime  \n",
              "24802    NaN 2021-12-31 00:41:00  \n",
              "24814    NaN 2021-12-31 00:41:00  \n",
              "24810    NaN 2021-12-31 00:41:00  \n",
              "24809    NaN 2021-12-31 00:41:00  \n",
              "24806    NaN 2021-12-31 00:41:00  \n",
              "24818    NaN 2021-12-31 00:42:00  \n",
              "24822    NaN 2021-12-31 00:42:00  \n",
              "24825    NaN 2021-12-31 00:42:00  \n",
              "24828    NaN 2021-12-31 00:43:00  \n",
              "24830    NaN 2021-12-31 00:43:00  "
            ]
          },
          "execution_count": 11,
          "metadata": {},
          "output_type": "execute_result"
        }
      ],
      "source": [
        "df_ADA_StkRwrd_2021_Binance.tail(10)"
      ]
    },
    {
      "cell_type": "code",
      "execution_count": 17,
      "metadata": {
        "id": "bdpwEvvt-J5j"
      },
      "outputs": [],
      "source": [
        "def datetime2date(date_time):\n",
        "  date = date_time.date()\n",
        "  return date"
      ]
    },
    {
      "cell_type": "code",
      "execution_count": null,
      "metadata": {
        "id": "ra1WaddcFZZ3"
      },
      "outputs": [],
      "source": [
        "df_ADA_StkRwrd_2021_Binance['Date'] = df_ADA_StkRwrd_2021_Binance['DateTime'].map(datetime2date)\n",
        "df_ADA_StkRwrd_2021_Binance['Date'] = pd.to_datetime(df_ADA_StkRwrd_2021_Binance['Date'])"
      ]
    },
    {
      "cell_type": "code",
      "source": [
        "ATlist_staking_pool = ['ALGO', 'ATOM', 'AVAX', 'AXS', 'BNB', 'CAKE', 'COTI', 'DOT',\n",
        "       'EGLD', 'FIL', 'HNT', 'KSM', 'MATIC', 'ONE', 'SAND',\n",
        "       'SOL']"
      ],
      "metadata": {
        "id": "d5ARNnr651pX"
      },
      "execution_count": null,
      "outputs": []
    },
    {
      "cell_type": "code",
      "source": [
        "df_ALGO_StkRwrd_2021_Binance['Date'] = df_ALGO_StkRwrd_2021_Binance['DateTime'].map(datetime2date)\n",
        "df_ALGO_StkRwrd_2021_Binance['Date'] = pd.to_datetime(df_ALGO_StkRwrd_2021_Binance['Date'])\n",
        "df_ATOM_StkRwrd_2021_Binance['Date'] = df_ATOM_StkRwrd_2021_Binance['DateTime'].map(datetime2date)\n",
        "df_ATOM_StkRwrd_2021_Binance['Date'] = pd.to_datetime(df_ATOM_StkRwrd_2021_Binance['Date'])\n",
        "df_AVAX_StkRwrd_2021_Binance['Date'] = df_AVAX_StkRwrd_2021_Binance['DateTime'].map(datetime2date)\n",
        "df_AVAX_StkRwrd_2021_Binance['Date'] = pd.to_datetime(df_AVAX_StkRwrd_2021_Binance['Date'])\n",
        "df_AXS_StkRwrd_2021_Binance['Date'] = df_AXS_StkRwrd_2021_Binance['DateTime'].map(datetime2date)\n",
        "df_AXS_StkRwrd_2021_Binance['Date'] = pd.to_datetime(df_AXS_StkRwrd_2021_Binance['Date'])\n",
        "df_BNB_StkRwrd_2021_Binance['Date'] = df_BNB_StkRwrd_2021_Binance['DateTime'].map(datetime2date)\n",
        "df_BNB_StkRwrd_2021_Binance['Date'] = pd.to_datetime(df_BNB_StkRwrd_2021_Binance['Date'])\n",
        "df_CAKE_StkRwrd_2021_Binance['Date'] = df_CAKE_StkRwrd_2021_Binance['DateTime'].map(datetime2date)\n",
        "df_CAKE_StkRwrd_2021_Binance['Date'] = pd.to_datetime(df_CAKE_StkRwrd_2021_Binance['Date'])\n",
        "df_COTI_StkRwrd_2021_Binance['Date'] = df_COTI_StkRwrd_2021_Binance['DateTime'].map(datetime2date)\n",
        "df_COTI_StkRwrd_2021_Binance['Date'] = pd.to_datetime(df_COTI_StkRwrd_2021_Binance['Date'])\n",
        "df_DOT_StkRwrd_2021_Binance['Date'] = df_DOT_StkRwrd_2021_Binance['DateTime'].map(datetime2date)\n",
        "df_DOT_StkRwrd_2021_Binance['Date'] = pd.to_datetime(df_DOT_StkRwrd_2021_Binance['Date'])\n",
        "df_EGLD_StkRwrd_2021_Binance['Date'] = df_EGLD_StkRwrd_2021_Binance['DateTime'].map(datetime2date)\n",
        "df_EGLD_StkRwrd_2021_Binance['Date'] = pd.to_datetime(df_EGLD_StkRwrd_2021_Binance['Date'])\n",
        "df_FIL_StkRwrd_2021_Binance['Date'] = df_FIL_StkRwrd_2021_Binance['DateTime'].map(datetime2date)\n",
        "df_FIL_StkRwrd_2021_Binance['Date'] = pd.to_datetime(df_FIL_StkRwrd_2021_Binance['Date'])\n",
        "df_HNT_StkRwrd_2021_Binance['Date'] = df_HNT_StkRwrd_2021_Binance['DateTime'].map(datetime2date)\n",
        "df_HNT_StkRwrd_2021_Binance['Date'] = pd.to_datetime(df_HNT_StkRwrd_2021_Binance['Date'])\n",
        "df_KSM_StkRwrd_2021_Binance['Date'] = df_KSM_StkRwrd_2021_Binance['DateTime'].map(datetime2date)\n",
        "df_KSM_StkRwrd_2021_Binance['Date'] = pd.to_datetime(df_KSM_StkRwrd_2021_Binance['Date'])\n",
        "df_MATIC_StkRwrd_2021_Binance['Date'] = df_MATIC_StkRwrd_2021_Binance['DateTime'].map(datetime2date)\n",
        "df_MATIC_StkRwrd_2021_Binance['Date'] = pd.to_datetime(df_MATIC_StkRwrd_2021_Binance['Date'])\n",
        "df_SAND_StkRwrd_2021_Binance['Date'] = df_SAND_StkRwrd_2021_Binance['DateTime'].map(datetime2date)\n",
        "df_SAND_StkRwrd_2021_Binance['Date'] = pd.to_datetime(df_SAND_StkRwrd_2021_Binance['Date'])\n",
        "'''\n",
        "# SOL's end outcome was wrong \n",
        "# trying to find what happened below\n",
        "df_SOL_StkRwrd_2021_Binance['Date'] = df_SAND_StkRwrd_2021_Binance['DateTime'].map(datetime2date)\n",
        "df_SOL_StkRwrd_2021_Binance['Date'] = pd.to_datetime(df_SOL_StkRwrd_2021_Binance['Date'])\n",
        "'''"
      ],
      "metadata": {
        "id": "HLbrs-_Od77r"
      },
      "execution_count": null,
      "outputs": []
    },
    {
      "cell_type": "code",
      "source": [
        "df_SOL_StkRwrd_2021_Binance['Date'] = df_SOL_StkRwrd_2021_Binance['DateTime'].map(datetime2date)\n",
        "df_SOL_StkRwrd_2021_Binance['Date'] = pd.to_datetime(df_SOL_StkRwrd_2021_Binance['Date'])"
      ],
      "metadata": {
        "id": "rFfC8h4d-aB6"
      },
      "execution_count": 18,
      "outputs": []
    },
    {
      "cell_type": "code",
      "source": [
        "df_SOL_StkRwrd_2021_Binance.tail(10)"
      ],
      "metadata": {
        "colab": {
          "base_uri": "https://localhost:8080/",
          "height": 363
        },
        "id": "XIrk6s-Y-vlM",
        "outputId": "a6dfbeb7-481b-41b4-a541-2ddcef68d233"
      },
      "execution_count": 19,
      "outputs": [
        {
          "output_type": "execute_result",
          "data": {
            "text/plain": [
              "        User_ID          UTC_Time Account        Operation Coin    Change  \\\n",
              "20472  59094579  31/12/2021 01:06    Spot  Staking Rewards  SOL  0.000278   \n",
              "20464  59094579  31/12/2021 01:06    Spot  Staking Rewards  SOL  0.000219   \n",
              "20462  59094579  31/12/2021 01:06    Spot  Staking Rewards  SOL  0.000219   \n",
              "20459  59094579  31/12/2021 01:06    Spot  Staking Rewards  SOL  0.000334   \n",
              "20458  59094579  31/12/2021 01:06    Spot  Staking Rewards  SOL  0.003511   \n",
              "20457  59094579  31/12/2021 01:07    Spot  Staking Rewards  SOL  0.000412   \n",
              "20455  59094579  31/12/2021 01:07    Spot  Staking Rewards  SOL  0.000222   \n",
              "20452  59094579  31/12/2021 01:07    Spot  Staking Rewards  SOL  0.003473   \n",
              "20740  59094579  31/12/2021 01:07    Spot  Staking Rewards  SOL  0.000222   \n",
              "21388  59094579  31/12/2021 01:07    Spot  Staking Rewards  SOL  0.000222   \n",
              "\n",
              "       Remark            DateTime       Date  \n",
              "20472     NaN 2021-12-31 01:06:00 2021-12-31  \n",
              "20464     NaN 2021-12-31 01:06:00 2021-12-31  \n",
              "20462     NaN 2021-12-31 01:06:00 2021-12-31  \n",
              "20459     NaN 2021-12-31 01:06:00 2021-12-31  \n",
              "20458     NaN 2021-12-31 01:06:00 2021-12-31  \n",
              "20457     NaN 2021-12-31 01:07:00 2021-12-31  \n",
              "20455     NaN 2021-12-31 01:07:00 2021-12-31  \n",
              "20452     NaN 2021-12-31 01:07:00 2021-12-31  \n",
              "20740     NaN 2021-12-31 01:07:00 2021-12-31  \n",
              "21388     NaN 2021-12-31 01:07:00 2021-12-31  "
            ],
            "text/html": [
              "\n",
              "  <div id=\"df-5171ec4a-6af4-4159-88e2-b543712aacbc\">\n",
              "    <div class=\"colab-df-container\">\n",
              "      <div>\n",
              "<style scoped>\n",
              "    .dataframe tbody tr th:only-of-type {\n",
              "        vertical-align: middle;\n",
              "    }\n",
              "\n",
              "    .dataframe tbody tr th {\n",
              "        vertical-align: top;\n",
              "    }\n",
              "\n",
              "    .dataframe thead th {\n",
              "        text-align: right;\n",
              "    }\n",
              "</style>\n",
              "<table border=\"1\" class=\"dataframe\">\n",
              "  <thead>\n",
              "    <tr style=\"text-align: right;\">\n",
              "      <th></th>\n",
              "      <th>User_ID</th>\n",
              "      <th>UTC_Time</th>\n",
              "      <th>Account</th>\n",
              "      <th>Operation</th>\n",
              "      <th>Coin</th>\n",
              "      <th>Change</th>\n",
              "      <th>Remark</th>\n",
              "      <th>DateTime</th>\n",
              "      <th>Date</th>\n",
              "    </tr>\n",
              "  </thead>\n",
              "  <tbody>\n",
              "    <tr>\n",
              "      <th>20472</th>\n",
              "      <td>59094579</td>\n",
              "      <td>31/12/2021 01:06</td>\n",
              "      <td>Spot</td>\n",
              "      <td>Staking Rewards</td>\n",
              "      <td>SOL</td>\n",
              "      <td>0.000278</td>\n",
              "      <td>NaN</td>\n",
              "      <td>2021-12-31 01:06:00</td>\n",
              "      <td>2021-12-31</td>\n",
              "    </tr>\n",
              "    <tr>\n",
              "      <th>20464</th>\n",
              "      <td>59094579</td>\n",
              "      <td>31/12/2021 01:06</td>\n",
              "      <td>Spot</td>\n",
              "      <td>Staking Rewards</td>\n",
              "      <td>SOL</td>\n",
              "      <td>0.000219</td>\n",
              "      <td>NaN</td>\n",
              "      <td>2021-12-31 01:06:00</td>\n",
              "      <td>2021-12-31</td>\n",
              "    </tr>\n",
              "    <tr>\n",
              "      <th>20462</th>\n",
              "      <td>59094579</td>\n",
              "      <td>31/12/2021 01:06</td>\n",
              "      <td>Spot</td>\n",
              "      <td>Staking Rewards</td>\n",
              "      <td>SOL</td>\n",
              "      <td>0.000219</td>\n",
              "      <td>NaN</td>\n",
              "      <td>2021-12-31 01:06:00</td>\n",
              "      <td>2021-12-31</td>\n",
              "    </tr>\n",
              "    <tr>\n",
              "      <th>20459</th>\n",
              "      <td>59094579</td>\n",
              "      <td>31/12/2021 01:06</td>\n",
              "      <td>Spot</td>\n",
              "      <td>Staking Rewards</td>\n",
              "      <td>SOL</td>\n",
              "      <td>0.000334</td>\n",
              "      <td>NaN</td>\n",
              "      <td>2021-12-31 01:06:00</td>\n",
              "      <td>2021-12-31</td>\n",
              "    </tr>\n",
              "    <tr>\n",
              "      <th>20458</th>\n",
              "      <td>59094579</td>\n",
              "      <td>31/12/2021 01:06</td>\n",
              "      <td>Spot</td>\n",
              "      <td>Staking Rewards</td>\n",
              "      <td>SOL</td>\n",
              "      <td>0.003511</td>\n",
              "      <td>NaN</td>\n",
              "      <td>2021-12-31 01:06:00</td>\n",
              "      <td>2021-12-31</td>\n",
              "    </tr>\n",
              "    <tr>\n",
              "      <th>20457</th>\n",
              "      <td>59094579</td>\n",
              "      <td>31/12/2021 01:07</td>\n",
              "      <td>Spot</td>\n",
              "      <td>Staking Rewards</td>\n",
              "      <td>SOL</td>\n",
              "      <td>0.000412</td>\n",
              "      <td>NaN</td>\n",
              "      <td>2021-12-31 01:07:00</td>\n",
              "      <td>2021-12-31</td>\n",
              "    </tr>\n",
              "    <tr>\n",
              "      <th>20455</th>\n",
              "      <td>59094579</td>\n",
              "      <td>31/12/2021 01:07</td>\n",
              "      <td>Spot</td>\n",
              "      <td>Staking Rewards</td>\n",
              "      <td>SOL</td>\n",
              "      <td>0.000222</td>\n",
              "      <td>NaN</td>\n",
              "      <td>2021-12-31 01:07:00</td>\n",
              "      <td>2021-12-31</td>\n",
              "    </tr>\n",
              "    <tr>\n",
              "      <th>20452</th>\n",
              "      <td>59094579</td>\n",
              "      <td>31/12/2021 01:07</td>\n",
              "      <td>Spot</td>\n",
              "      <td>Staking Rewards</td>\n",
              "      <td>SOL</td>\n",
              "      <td>0.003473</td>\n",
              "      <td>NaN</td>\n",
              "      <td>2021-12-31 01:07:00</td>\n",
              "      <td>2021-12-31</td>\n",
              "    </tr>\n",
              "    <tr>\n",
              "      <th>20740</th>\n",
              "      <td>59094579</td>\n",
              "      <td>31/12/2021 01:07</td>\n",
              "      <td>Spot</td>\n",
              "      <td>Staking Rewards</td>\n",
              "      <td>SOL</td>\n",
              "      <td>0.000222</td>\n",
              "      <td>NaN</td>\n",
              "      <td>2021-12-31 01:07:00</td>\n",
              "      <td>2021-12-31</td>\n",
              "    </tr>\n",
              "    <tr>\n",
              "      <th>21388</th>\n",
              "      <td>59094579</td>\n",
              "      <td>31/12/2021 01:07</td>\n",
              "      <td>Spot</td>\n",
              "      <td>Staking Rewards</td>\n",
              "      <td>SOL</td>\n",
              "      <td>0.000222</td>\n",
              "      <td>NaN</td>\n",
              "      <td>2021-12-31 01:07:00</td>\n",
              "      <td>2021-12-31</td>\n",
              "    </tr>\n",
              "  </tbody>\n",
              "</table>\n",
              "</div>\n",
              "      <button class=\"colab-df-convert\" onclick=\"convertToInteractive('df-5171ec4a-6af4-4159-88e2-b543712aacbc')\"\n",
              "              title=\"Convert this dataframe to an interactive table.\"\n",
              "              style=\"display:none;\">\n",
              "        \n",
              "  <svg xmlns=\"http://www.w3.org/2000/svg\" height=\"24px\"viewBox=\"0 0 24 24\"\n",
              "       width=\"24px\">\n",
              "    <path d=\"M0 0h24v24H0V0z\" fill=\"none\"/>\n",
              "    <path d=\"M18.56 5.44l.94 2.06.94-2.06 2.06-.94-2.06-.94-.94-2.06-.94 2.06-2.06.94zm-11 1L8.5 8.5l.94-2.06 2.06-.94-2.06-.94L8.5 2.5l-.94 2.06-2.06.94zm10 10l.94 2.06.94-2.06 2.06-.94-2.06-.94-.94-2.06-.94 2.06-2.06.94z\"/><path d=\"M17.41 7.96l-1.37-1.37c-.4-.4-.92-.59-1.43-.59-.52 0-1.04.2-1.43.59L10.3 9.45l-7.72 7.72c-.78.78-.78 2.05 0 2.83L4 21.41c.39.39.9.59 1.41.59.51 0 1.02-.2 1.41-.59l7.78-7.78 2.81-2.81c.8-.78.8-2.07 0-2.86zM5.41 20L4 18.59l7.72-7.72 1.47 1.35L5.41 20z\"/>\n",
              "  </svg>\n",
              "      </button>\n",
              "      \n",
              "  <style>\n",
              "    .colab-df-container {\n",
              "      display:flex;\n",
              "      flex-wrap:wrap;\n",
              "      gap: 12px;\n",
              "    }\n",
              "\n",
              "    .colab-df-convert {\n",
              "      background-color: #E8F0FE;\n",
              "      border: none;\n",
              "      border-radius: 50%;\n",
              "      cursor: pointer;\n",
              "      display: none;\n",
              "      fill: #1967D2;\n",
              "      height: 32px;\n",
              "      padding: 0 0 0 0;\n",
              "      width: 32px;\n",
              "    }\n",
              "\n",
              "    .colab-df-convert:hover {\n",
              "      background-color: #E2EBFA;\n",
              "      box-shadow: 0px 1px 2px rgba(60, 64, 67, 0.3), 0px 1px 3px 1px rgba(60, 64, 67, 0.15);\n",
              "      fill: #174EA6;\n",
              "    }\n",
              "\n",
              "    [theme=dark] .colab-df-convert {\n",
              "      background-color: #3B4455;\n",
              "      fill: #D2E3FC;\n",
              "    }\n",
              "\n",
              "    [theme=dark] .colab-df-convert:hover {\n",
              "      background-color: #434B5C;\n",
              "      box-shadow: 0px 1px 3px 1px rgba(0, 0, 0, 0.15);\n",
              "      filter: drop-shadow(0px 1px 2px rgba(0, 0, 0, 0.3));\n",
              "      fill: #FFFFFF;\n",
              "    }\n",
              "  </style>\n",
              "\n",
              "      <script>\n",
              "        const buttonEl =\n",
              "          document.querySelector('#df-5171ec4a-6af4-4159-88e2-b543712aacbc button.colab-df-convert');\n",
              "        buttonEl.style.display =\n",
              "          google.colab.kernel.accessAllowed ? 'block' : 'none';\n",
              "\n",
              "        async function convertToInteractive(key) {\n",
              "          const element = document.querySelector('#df-5171ec4a-6af4-4159-88e2-b543712aacbc');\n",
              "          const dataTable =\n",
              "            await google.colab.kernel.invokeFunction('convertToInteractive',\n",
              "                                                     [key], {});\n",
              "          if (!dataTable) return;\n",
              "\n",
              "          const docLinkHtml = 'Like what you see? Visit the ' +\n",
              "            '<a target=\"_blank\" href=https://colab.research.google.com/notebooks/data_table.ipynb>data table notebook</a>'\n",
              "            + ' to learn more about interactive tables.';\n",
              "          element.innerHTML = '';\n",
              "          dataTable['output_type'] = 'display_data';\n",
              "          await google.colab.output.renderOutput(dataTable, element);\n",
              "          const docLink = document.createElement('div');\n",
              "          docLink.innerHTML = docLinkHtml;\n",
              "          element.appendChild(docLink);\n",
              "        }\n",
              "      </script>\n",
              "    </div>\n",
              "  </div>\n",
              "  "
            ]
          },
          "metadata": {},
          "execution_count": 19
        }
      ]
    },
    {
      "cell_type": "code",
      "execution_count": null,
      "metadata": {
        "colab": {
          "base_uri": "https://localhost:8080/",
          "height": 363
        },
        "id": "IJ9JFkoBGVAZ",
        "outputId": "18a5530e-fd8f-4d82-8fdd-5655b518ee4a"
      },
      "outputs": [
        {
          "output_type": "execute_result",
          "data": {
            "text/plain": [
              "        User_ID          UTC_Time Account        Operation Coin    Change  \\\n",
              "24802  59094579  31/12/2021 00:41    Spot  Staking Rewards  ADA  0.064026   \n",
              "24814  59094579  31/12/2021 00:41    Spot  Staking Rewards  ADA  0.006726   \n",
              "24810  59094579  31/12/2021 00:41    Spot  Staking Rewards  ADA  0.002134   \n",
              "24809  59094579  31/12/2021 00:41    Spot  Staking Rewards  ADA  0.002134   \n",
              "24806  59094579  31/12/2021 00:41    Spot  Staking Rewards  ADA  0.094545   \n",
              "24818  59094579  31/12/2021 00:42    Spot  Staking Rewards  ADA  0.015296   \n",
              "24822  59094579  31/12/2021 00:42    Spot  Staking Rewards  ADA  0.021342   \n",
              "24825  59094579  31/12/2021 00:42    Spot  Staking Rewards  ADA  0.596207   \n",
              "24828  59094579  31/12/2021 00:43    Spot  Staking Rewards  ADA  0.066628   \n",
              "24830  59094579  31/12/2021 00:43    Spot  Staking Rewards  ADA  0.149940   \n",
              "\n",
              "      Remark            DateTime       Date  \n",
              "24802    NaN 2021-12-31 00:41:00 2021-12-31  \n",
              "24814    NaN 2021-12-31 00:41:00 2021-12-31  \n",
              "24810    NaN 2021-12-31 00:41:00 2021-12-31  \n",
              "24809    NaN 2021-12-31 00:41:00 2021-12-31  \n",
              "24806    NaN 2021-12-31 00:41:00 2021-12-31  \n",
              "24818    NaN 2021-12-31 00:42:00 2021-12-31  \n",
              "24822    NaN 2021-12-31 00:42:00 2021-12-31  \n",
              "24825    NaN 2021-12-31 00:42:00 2021-12-31  \n",
              "24828    NaN 2021-12-31 00:43:00 2021-12-31  \n",
              "24830    NaN 2021-12-31 00:43:00 2021-12-31  "
            ],
            "text/html": [
              "\n",
              "  <div id=\"df-b6cc68fb-660b-4406-975f-aff47464fafe\">\n",
              "    <div class=\"colab-df-container\">\n",
              "      <div>\n",
              "<style scoped>\n",
              "    .dataframe tbody tr th:only-of-type {\n",
              "        vertical-align: middle;\n",
              "    }\n",
              "\n",
              "    .dataframe tbody tr th {\n",
              "        vertical-align: top;\n",
              "    }\n",
              "\n",
              "    .dataframe thead th {\n",
              "        text-align: right;\n",
              "    }\n",
              "</style>\n",
              "<table border=\"1\" class=\"dataframe\">\n",
              "  <thead>\n",
              "    <tr style=\"text-align: right;\">\n",
              "      <th></th>\n",
              "      <th>User_ID</th>\n",
              "      <th>UTC_Time</th>\n",
              "      <th>Account</th>\n",
              "      <th>Operation</th>\n",
              "      <th>Coin</th>\n",
              "      <th>Change</th>\n",
              "      <th>Remark</th>\n",
              "      <th>DateTime</th>\n",
              "      <th>Date</th>\n",
              "    </tr>\n",
              "  </thead>\n",
              "  <tbody>\n",
              "    <tr>\n",
              "      <th>24802</th>\n",
              "      <td>59094579</td>\n",
              "      <td>31/12/2021 00:41</td>\n",
              "      <td>Spot</td>\n",
              "      <td>Staking Rewards</td>\n",
              "      <td>ADA</td>\n",
              "      <td>0.064026</td>\n",
              "      <td>NaN</td>\n",
              "      <td>2021-12-31 00:41:00</td>\n",
              "      <td>2021-12-31</td>\n",
              "    </tr>\n",
              "    <tr>\n",
              "      <th>24814</th>\n",
              "      <td>59094579</td>\n",
              "      <td>31/12/2021 00:41</td>\n",
              "      <td>Spot</td>\n",
              "      <td>Staking Rewards</td>\n",
              "      <td>ADA</td>\n",
              "      <td>0.006726</td>\n",
              "      <td>NaN</td>\n",
              "      <td>2021-12-31 00:41:00</td>\n",
              "      <td>2021-12-31</td>\n",
              "    </tr>\n",
              "    <tr>\n",
              "      <th>24810</th>\n",
              "      <td>59094579</td>\n",
              "      <td>31/12/2021 00:41</td>\n",
              "      <td>Spot</td>\n",
              "      <td>Staking Rewards</td>\n",
              "      <td>ADA</td>\n",
              "      <td>0.002134</td>\n",
              "      <td>NaN</td>\n",
              "      <td>2021-12-31 00:41:00</td>\n",
              "      <td>2021-12-31</td>\n",
              "    </tr>\n",
              "    <tr>\n",
              "      <th>24809</th>\n",
              "      <td>59094579</td>\n",
              "      <td>31/12/2021 00:41</td>\n",
              "      <td>Spot</td>\n",
              "      <td>Staking Rewards</td>\n",
              "      <td>ADA</td>\n",
              "      <td>0.002134</td>\n",
              "      <td>NaN</td>\n",
              "      <td>2021-12-31 00:41:00</td>\n",
              "      <td>2021-12-31</td>\n",
              "    </tr>\n",
              "    <tr>\n",
              "      <th>24806</th>\n",
              "      <td>59094579</td>\n",
              "      <td>31/12/2021 00:41</td>\n",
              "      <td>Spot</td>\n",
              "      <td>Staking Rewards</td>\n",
              "      <td>ADA</td>\n",
              "      <td>0.094545</td>\n",
              "      <td>NaN</td>\n",
              "      <td>2021-12-31 00:41:00</td>\n",
              "      <td>2021-12-31</td>\n",
              "    </tr>\n",
              "    <tr>\n",
              "      <th>24818</th>\n",
              "      <td>59094579</td>\n",
              "      <td>31/12/2021 00:42</td>\n",
              "      <td>Spot</td>\n",
              "      <td>Staking Rewards</td>\n",
              "      <td>ADA</td>\n",
              "      <td>0.015296</td>\n",
              "      <td>NaN</td>\n",
              "      <td>2021-12-31 00:42:00</td>\n",
              "      <td>2021-12-31</td>\n",
              "    </tr>\n",
              "    <tr>\n",
              "      <th>24822</th>\n",
              "      <td>59094579</td>\n",
              "      <td>31/12/2021 00:42</td>\n",
              "      <td>Spot</td>\n",
              "      <td>Staking Rewards</td>\n",
              "      <td>ADA</td>\n",
              "      <td>0.021342</td>\n",
              "      <td>NaN</td>\n",
              "      <td>2021-12-31 00:42:00</td>\n",
              "      <td>2021-12-31</td>\n",
              "    </tr>\n",
              "    <tr>\n",
              "      <th>24825</th>\n",
              "      <td>59094579</td>\n",
              "      <td>31/12/2021 00:42</td>\n",
              "      <td>Spot</td>\n",
              "      <td>Staking Rewards</td>\n",
              "      <td>ADA</td>\n",
              "      <td>0.596207</td>\n",
              "      <td>NaN</td>\n",
              "      <td>2021-12-31 00:42:00</td>\n",
              "      <td>2021-12-31</td>\n",
              "    </tr>\n",
              "    <tr>\n",
              "      <th>24828</th>\n",
              "      <td>59094579</td>\n",
              "      <td>31/12/2021 00:43</td>\n",
              "      <td>Spot</td>\n",
              "      <td>Staking Rewards</td>\n",
              "      <td>ADA</td>\n",
              "      <td>0.066628</td>\n",
              "      <td>NaN</td>\n",
              "      <td>2021-12-31 00:43:00</td>\n",
              "      <td>2021-12-31</td>\n",
              "    </tr>\n",
              "    <tr>\n",
              "      <th>24830</th>\n",
              "      <td>59094579</td>\n",
              "      <td>31/12/2021 00:43</td>\n",
              "      <td>Spot</td>\n",
              "      <td>Staking Rewards</td>\n",
              "      <td>ADA</td>\n",
              "      <td>0.149940</td>\n",
              "      <td>NaN</td>\n",
              "      <td>2021-12-31 00:43:00</td>\n",
              "      <td>2021-12-31</td>\n",
              "    </tr>\n",
              "  </tbody>\n",
              "</table>\n",
              "</div>\n",
              "      <button class=\"colab-df-convert\" onclick=\"convertToInteractive('df-b6cc68fb-660b-4406-975f-aff47464fafe')\"\n",
              "              title=\"Convert this dataframe to an interactive table.\"\n",
              "              style=\"display:none;\">\n",
              "        \n",
              "  <svg xmlns=\"http://www.w3.org/2000/svg\" height=\"24px\"viewBox=\"0 0 24 24\"\n",
              "       width=\"24px\">\n",
              "    <path d=\"M0 0h24v24H0V0z\" fill=\"none\"/>\n",
              "    <path d=\"M18.56 5.44l.94 2.06.94-2.06 2.06-.94-2.06-.94-.94-2.06-.94 2.06-2.06.94zm-11 1L8.5 8.5l.94-2.06 2.06-.94-2.06-.94L8.5 2.5l-.94 2.06-2.06.94zm10 10l.94 2.06.94-2.06 2.06-.94-2.06-.94-.94-2.06-.94 2.06-2.06.94z\"/><path d=\"M17.41 7.96l-1.37-1.37c-.4-.4-.92-.59-1.43-.59-.52 0-1.04.2-1.43.59L10.3 9.45l-7.72 7.72c-.78.78-.78 2.05 0 2.83L4 21.41c.39.39.9.59 1.41.59.51 0 1.02-.2 1.41-.59l7.78-7.78 2.81-2.81c.8-.78.8-2.07 0-2.86zM5.41 20L4 18.59l7.72-7.72 1.47 1.35L5.41 20z\"/>\n",
              "  </svg>\n",
              "      </button>\n",
              "      \n",
              "  <style>\n",
              "    .colab-df-container {\n",
              "      display:flex;\n",
              "      flex-wrap:wrap;\n",
              "      gap: 12px;\n",
              "    }\n",
              "\n",
              "    .colab-df-convert {\n",
              "      background-color: #E8F0FE;\n",
              "      border: none;\n",
              "      border-radius: 50%;\n",
              "      cursor: pointer;\n",
              "      display: none;\n",
              "      fill: #1967D2;\n",
              "      height: 32px;\n",
              "      padding: 0 0 0 0;\n",
              "      width: 32px;\n",
              "    }\n",
              "\n",
              "    .colab-df-convert:hover {\n",
              "      background-color: #E2EBFA;\n",
              "      box-shadow: 0px 1px 2px rgba(60, 64, 67, 0.3), 0px 1px 3px 1px rgba(60, 64, 67, 0.15);\n",
              "      fill: #174EA6;\n",
              "    }\n",
              "\n",
              "    [theme=dark] .colab-df-convert {\n",
              "      background-color: #3B4455;\n",
              "      fill: #D2E3FC;\n",
              "    }\n",
              "\n",
              "    [theme=dark] .colab-df-convert:hover {\n",
              "      background-color: #434B5C;\n",
              "      box-shadow: 0px 1px 3px 1px rgba(0, 0, 0, 0.15);\n",
              "      filter: drop-shadow(0px 1px 2px rgba(0, 0, 0, 0.3));\n",
              "      fill: #FFFFFF;\n",
              "    }\n",
              "  </style>\n",
              "\n",
              "      <script>\n",
              "        const buttonEl =\n",
              "          document.querySelector('#df-b6cc68fb-660b-4406-975f-aff47464fafe button.colab-df-convert');\n",
              "        buttonEl.style.display =\n",
              "          google.colab.kernel.accessAllowed ? 'block' : 'none';\n",
              "\n",
              "        async function convertToInteractive(key) {\n",
              "          const element = document.querySelector('#df-b6cc68fb-660b-4406-975f-aff47464fafe');\n",
              "          const dataTable =\n",
              "            await google.colab.kernel.invokeFunction('convertToInteractive',\n",
              "                                                     [key], {});\n",
              "          if (!dataTable) return;\n",
              "\n",
              "          const docLinkHtml = 'Like what you see? Visit the ' +\n",
              "            '<a target=\"_blank\" href=https://colab.research.google.com/notebooks/data_table.ipynb>data table notebook</a>'\n",
              "            + ' to learn more about interactive tables.';\n",
              "          element.innerHTML = '';\n",
              "          dataTable['output_type'] = 'display_data';\n",
              "          await google.colab.output.renderOutput(dataTable, element);\n",
              "          const docLink = document.createElement('div');\n",
              "          docLink.innerHTML = docLinkHtml;\n",
              "          element.appendChild(docLink);\n",
              "        }\n",
              "      </script>\n",
              "    </div>\n",
              "  </div>\n",
              "  "
            ]
          },
          "metadata": {},
          "execution_count": 41
        }
      ],
      "source": [
        "df_ADA_StkRwrd_2021_Binance.tail(10)"
      ]
    },
    {
      "cell_type": "code",
      "source": [
        "df_ada_stk = pd.merge(df_ADA_StkRwrd_2021_Binance, df_ADA_rates_2021, on='Date')"
      ],
      "metadata": {
        "id": "vISixkU8D8il"
      },
      "execution_count": null,
      "outputs": []
    },
    {
      "cell_type": "code",
      "source": [
        "df_ada_stk.to_csv('ada_stk_2021.csv',index=False)"
      ],
      "metadata": {
        "id": "xS3iMVjFNoD6"
      },
      "execution_count": null,
      "outputs": []
    },
    {
      "cell_type": "code",
      "source": [
        "df_algo_stk = pd.merge(df_ALGO_StkRwrd_2021_Binance, df_ALGO_rates_2021, on='Date')"
      ],
      "metadata": {
        "id": "3f3mA4RHht4e"
      },
      "execution_count": null,
      "outputs": []
    },
    {
      "cell_type": "code",
      "source": [
        "df_ada_stk['Eur_Low'] = df_ada_stk['Low'] * df_ada_stk['Change']\n",
        "df_ada_stk['Eur_Open'] = df_ada_stk['Open'] * df_ada_stk['Change']\n",
        "print(df_ada_stk['Eur_Low'].sum())\n",
        "print(df_ada_stk['Eur_Open'].sum())"
      ],
      "metadata": {
        "colab": {
          "base_uri": "https://localhost:8080/"
        },
        "id": "7JYjFeRUOa9K",
        "outputId": "12f97ce3-bc96-4a8c-f9b7-3a8f13a374f0"
      },
      "execution_count": null,
      "outputs": [
        {
          "output_type": "stream",
          "name": "stdout",
          "text": [
            "447.1121490256332\n",
            "465.199743863104\n"
          ]
        }
      ]
    },
    {
      "cell_type": "code",
      "source": [
        "df_algo_stk['Eur_Low'] = df_algo_stk['Low'] * df_algo_stk['Change']\n",
        "df_algo_stk['Eur_Open'] = df_algo_stk['Open'] * df_algo_stk['Change']\n",
        "print(df_algo_stk['Eur_Low'].sum())\n",
        "print(df_algo_stk['Eur_Open'].sum())\n",
        "df_algo_stk.to_csv('algo_stk_2021.csv',index=False)"
      ],
      "metadata": {
        "colab": {
          "base_uri": "https://localhost:8080/"
        },
        "id": "aDRCfVXaiaPn",
        "outputId": "9cff15f8-10e8-493e-d279-d79b5e0a1fa8"
      },
      "execution_count": null,
      "outputs": [
        {
          "output_type": "stream",
          "name": "stdout",
          "text": [
            "7.146058884428331\n",
            "7.533297992528251\n"
          ]
        }
      ]
    },
    {
      "cell_type": "code",
      "source": [
        "df_atom_stk = pd.merge(df_ATOM_StkRwrd_2021_Binance, df_ATOM_rates_2021, on='Date')\n",
        "df_atom_stk['Eur_Low'] = df_atom_stk['Low'] * df_atom_stk['Change']\n",
        "df_atom_stk['Eur_Open'] = df_atom_stk['Open'] * df_atom_stk['Change']\n",
        "print(df_atom_stk['Eur_Low'].sum())\n",
        "print(df_atom_stk['Eur_Open'].sum())\n",
        "df_atom_stk.to_csv('atom_stk_2021.csv',index=False)"
      ],
      "metadata": {
        "colab": {
          "base_uri": "https://localhost:8080/"
        },
        "id": "TEZ7TW5sjQhi",
        "outputId": "28528a19-770e-4d64-f7a3-86f4223da902"
      },
      "execution_count": null,
      "outputs": [
        {
          "output_type": "stream",
          "name": "stdout",
          "text": [
            "5.72627486141397\n",
            "6.094873257628029\n"
          ]
        }
      ]
    },
    {
      "cell_type": "code",
      "source": [
        "df_avax_stk = pd.merge(df_AVAX_StkRwrd_2021_Binance, df_AVAX_rates_2021, on='Date')\n",
        "df_avax_stk['Eur_Low'] = df_avax_stk['Low'] * df_avax_stk['Change']\n",
        "df_avax_stk['Eur_Open'] = df_avax_stk['Open'] * df_avax_stk['Change']\n",
        "print(df_avax_stk['Eur_Low'].sum())\n",
        "print(df_avax_stk['Eur_Open'].sum())\n",
        "df_avax_stk.to_csv('avax_stk_2021.csv',index=False)"
      ],
      "metadata": {
        "colab": {
          "base_uri": "https://localhost:8080/"
        },
        "id": "JYJ9YoGVkc3d",
        "outputId": "897a0acf-0897-4818-81fd-5cd4176073da"
      },
      "execution_count": null,
      "outputs": [
        {
          "output_type": "stream",
          "name": "stdout",
          "text": [
            "367.3880936449615\n",
            "388.387718527046\n"
          ]
        }
      ]
    },
    {
      "cell_type": "code",
      "source": [
        "df_axs_stk = pd.merge(df_AXS_StkRwrd_2021_Binance, df_AXS_rates_2021, on='Date')\n",
        "df_axs_stk['Eur_Low'] = df_axs_stk['Low'] * df_axs_stk['Change']\n",
        "df_axs_stk['Eur_Open'] = df_axs_stk['Open'] * df_axs_stk['Change']\n",
        "print(df_axs_stk['Eur_Low'].sum())\n",
        "print(df_axs_stk['Eur_Open'].sum())\n",
        "df_axs_stk.to_csv('axs_stk_2021.csv',index=False)"
      ],
      "metadata": {
        "colab": {
          "base_uri": "https://localhost:8080/"
        },
        "id": "Kr_oAdtjlS1C",
        "outputId": "e24b9561-9204-460f-a375-93bec76b79e9"
      },
      "execution_count": null,
      "outputs": [
        {
          "output_type": "stream",
          "name": "stdout",
          "text": [
            "248.91680575441552\n",
            "260.26574449896026\n"
          ]
        }
      ]
    },
    {
      "cell_type": "code",
      "source": [
        "df_bnb_stk = pd.merge(df_BNB_StkRwrd_2021_Binance, df_BNB_rates_2021, on='Date')\n",
        "df_bnb_stk['Eur_Low'] = df_bnb_stk['Low'] * df_bnb_stk['Change']\n",
        "df_bnb_stk['Eur_Open'] = df_bnb_stk['Open'] * df_bnb_stk['Change']\n",
        "print(df_bnb_stk['Eur_Low'].sum())\n",
        "print(df_bnb_stk['Eur_Open'].sum())\n",
        "df_bnb_stk.to_csv('bnb_stk_2021.csv',index=False)"
      ],
      "metadata": {
        "colab": {
          "base_uri": "https://localhost:8080/"
        },
        "id": "rssgiL8Gl1lQ",
        "outputId": "e2a9b8df-f37a-4cbc-9e0a-8d6f12572324"
      },
      "execution_count": null,
      "outputs": [
        {
          "output_type": "stream",
          "name": "stdout",
          "text": [
            "5.37498577155984\n",
            "5.56827171842728\n"
          ]
        }
      ]
    },
    {
      "cell_type": "code",
      "source": [
        "df_cake_stk = pd.merge(df_CAKE_StkRwrd_2021_Binance, df_CAKE_rates_2021, on='Date')\n",
        "df_cake_stk['Eur_Low'] = df_cake_stk['Low'] * df_cake_stk['Change']\n",
        "df_cake_stk['Eur_Open'] = df_cake_stk['Open'] * df_cake_stk['Change']\n",
        "print(df_cake_stk['Eur_Low'].sum())\n",
        "print(df_cake_stk['Eur_Open'].sum())\n",
        "df_cake_stk.to_csv('cake_stk_2021.csv',index=False)"
      ],
      "metadata": {
        "colab": {
          "base_uri": "https://localhost:8080/"
        },
        "id": "Jk4ykD3UoARL",
        "outputId": "a605649e-072c-4112-98e6-02ea7814aa36"
      },
      "execution_count": null,
      "outputs": [
        {
          "output_type": "stream",
          "name": "stdout",
          "text": [
            "58.927866610568884\n",
            "61.30673179749533\n"
          ]
        }
      ]
    },
    {
      "cell_type": "code",
      "source": [
        "df_coti_stk = pd.merge(df_COTI_StkRwrd_2021_Binance, df_COTI_rates_2021, on='Date')\n",
        "df_coti_stk['Eur_Low'] = df_coti_stk['Low'] * df_coti_stk['Change']\n",
        "df_coti_stk['Eur_Open'] = df_coti_stk['Open'] * df_coti_stk['Change']\n",
        "print(df_coti_stk['Eur_Low'].sum())\n",
        "print(df_coti_stk['Eur_Open'].sum())\n",
        "df_coti_stk.to_csv('coti_stk_2021.csv',index=False)"
      ],
      "metadata": {
        "colab": {
          "base_uri": "https://localhost:8080/"
        },
        "id": "ABCJjj6_ooUc",
        "outputId": "60cf8981-8557-47b3-90de-32a96bb6b098"
      },
      "execution_count": null,
      "outputs": [
        {
          "output_type": "stream",
          "name": "stdout",
          "text": [
            "0.55301269236165\n",
            "0.5782096578156299\n"
          ]
        }
      ]
    },
    {
      "cell_type": "code",
      "source": [
        "df_dot_stk = pd.merge(df_DOT_StkRwrd_2021_Binance, df_DOT_rates_2021, on='Date')\n",
        "df_dot_stk['Eur_Low'] = df_dot_stk['Low'] * df_dot_stk['Change']\n",
        "df_dot_stk['Eur_Open'] = df_dot_stk['Open'] * df_dot_stk['Change']\n",
        "print(df_dot_stk['Eur_Low'].sum())\n",
        "print(df_dot_stk['Eur_Open'].sum())\n",
        "df_dot_stk.to_csv('dot_stk_2021.csv',index=False)"
      ],
      "metadata": {
        "colab": {
          "base_uri": "https://localhost:8080/"
        },
        "id": "AzoffZcMpMP3",
        "outputId": "490b55c2-975f-46d3-dee4-eca3137dbbde"
      },
      "execution_count": null,
      "outputs": [
        {
          "output_type": "stream",
          "name": "stdout",
          "text": [
            "515.6347698961524\n",
            "540.9150277697821\n"
          ]
        }
      ]
    },
    {
      "cell_type": "code",
      "source": [
        "df_egld_stk = pd.merge(df_EGLD_StkRwrd_2021_Binance, df_EGLD_rates_2021, on='Date')\n",
        "df_egld_stk['Eur_Low'] = df_egld_stk['Low'] * df_egld_stk['Change']\n",
        "df_egld_stk['Eur_Open'] = df_egld_stk['Open'] * df_egld_stk['Change']\n",
        "print(df_egld_stk['Eur_Low'].sum())\n",
        "print(df_egld_stk['Eur_Open'].sum())\n",
        "df_egld_stk.to_csv('egld_stk_2021.csv',index=False)"
      ],
      "metadata": {
        "colab": {
          "base_uri": "https://localhost:8080/"
        },
        "id": "qCsntbc8pzps",
        "outputId": "b0640b63-e5a6-4c4c-e488-149123622cbe"
      },
      "execution_count": null,
      "outputs": [
        {
          "output_type": "stream",
          "name": "stdout",
          "text": [
            "20.68967300869329\n",
            "21.885044985864354\n"
          ]
        }
      ]
    },
    {
      "cell_type": "code",
      "source": [
        "df_fil_stk = pd.merge(df_FIL_StkRwrd_2021_Binance, df_FIL_rates_2021, on='Date')\n",
        "df_fil_stk['Eur_Low'] = df_fil_stk['Low'] * df_fil_stk['Change']\n",
        "df_fil_stk['Eur_Open'] = df_fil_stk['Open'] * df_fil_stk['Change']\n",
        "print(df_fil_stk['Eur_Low'].sum())\n",
        "print(df_fil_stk['Eur_Open'].sum())\n",
        "df_fil_stk.to_csv('fil_stk_2021.csv',index=False)"
      ],
      "metadata": {
        "colab": {
          "base_uri": "https://localhost:8080/"
        },
        "id": "X-ggDkuyqV76",
        "outputId": "1512c69f-5df4-4454-c21e-06d069211d3e"
      },
      "execution_count": null,
      "outputs": [
        {
          "output_type": "stream",
          "name": "stdout",
          "text": [
            "5.22700694070061\n",
            "5.44997076006388\n"
          ]
        }
      ]
    },
    {
      "cell_type": "code",
      "source": [
        "df_hnt_stk = pd.merge(df_HNT_StkRwrd_2021_Binance, df_HNT_rates_2021, on='Date')\n",
        "df_hnt_stk['Eur_Low'] = df_hnt_stk['Low'] * df_hnt_stk['Change']\n",
        "df_hnt_stk['Eur_Open'] = df_hnt_stk['Open'] * df_hnt_stk['Change']\n",
        "print(df_hnt_stk['Eur_Low'].sum())\n",
        "print(df_hnt_stk['Eur_Open'].sum())\n",
        "df_hnt_stk.to_csv('hnt_stk_2021.csv',index=False)"
      ],
      "metadata": {
        "colab": {
          "base_uri": "https://localhost:8080/"
        },
        "id": "tinP2ersqx8k",
        "outputId": "5ea2dc40-6507-4fef-86ff-89bad67a9909"
      },
      "execution_count": null,
      "outputs": [
        {
          "output_type": "stream",
          "name": "stdout",
          "text": [
            "0.22339463801833997\n",
            "0.2360759494194\n"
          ]
        }
      ]
    },
    {
      "cell_type": "code",
      "source": [
        "df_ksm_stk = pd.merge(df_KSM_StkRwrd_2021_Binance, df_KSM_rates_2021, on='Date')\n",
        "df_ksm_stk['Eur_Low'] = df_ksm_stk['Low'] * df_ksm_stk['Change']\n",
        "df_ksm_stk['Eur_Open'] = df_ksm_stk['Open'] * df_ksm_stk['Change']\n",
        "print(df_ksm_stk['Eur_Low'].sum())\n",
        "print(df_ksm_stk['Eur_Open'].sum())\n",
        "df_ksm_stk.to_csv('ksm_stk_2021.csv',index=False)"
      ],
      "metadata": {
        "colab": {
          "base_uri": "https://localhost:8080/"
        },
        "id": "63uhu6e5rTHd",
        "outputId": "3b1737f9-9e07-4dff-eb60-13dcbece8233"
      },
      "execution_count": null,
      "outputs": [
        {
          "output_type": "stream",
          "name": "stdout",
          "text": [
            "134.7794085243631\n",
            "142.11701762569268\n"
          ]
        }
      ]
    },
    {
      "cell_type": "code",
      "source": [
        "#No staking rewards received for LINK\n",
        "df_link_stk = pd.merge(df_LINK_StkRwrd_2021_Binance, df_LINK_rates_2021, on='Date')\n",
        "df_link_stk['Eur_Low'] = df_link_stk['Low'] * df_link_stk['Change']\n",
        "df_link_stk['Eur_Open'] = df_link_stk['Open'] * df_link_stk['Change']\n",
        "print(df_link_stk['Eur_Low'].sum())\n",
        "print(df_link_stk['Eur_Open'].sum())\n",
        "df_link_stk.to_csv('link_stk_2021.csv',index=False)"
      ],
      "metadata": {
        "colab": {
          "base_uri": "https://localhost:8080/",
          "height": 244
        },
        "id": "9bYs-9Rorvxi",
        "outputId": "c06e4a30-7657-44b9-90cb-9215ba204f93"
      },
      "execution_count": null,
      "outputs": [
        {
          "output_type": "error",
          "ename": "NameError",
          "evalue": "ignored",
          "traceback": [
            "\u001b[0;31m---------------------------------------------------------------------------\u001b[0m",
            "\u001b[0;31mNameError\u001b[0m                                 Traceback (most recent call last)",
            "\u001b[0;32m<ipython-input-69-1bf336361c88>\u001b[0m in \u001b[0;36m<module>\u001b[0;34m\u001b[0m\n\u001b[0;32m----> 1\u001b[0;31m \u001b[0mdf_link_stk\u001b[0m \u001b[0;34m=\u001b[0m \u001b[0mpd\u001b[0m\u001b[0;34m.\u001b[0m\u001b[0mmerge\u001b[0m\u001b[0;34m(\u001b[0m\u001b[0mdf_LINK_StkRwrd_2021_Binance\u001b[0m\u001b[0;34m,\u001b[0m \u001b[0mdf_LINK_rates_2021\u001b[0m\u001b[0;34m,\u001b[0m \u001b[0mon\u001b[0m\u001b[0;34m=\u001b[0m\u001b[0;34m'Date'\u001b[0m\u001b[0;34m)\u001b[0m\u001b[0;34m\u001b[0m\u001b[0;34m\u001b[0m\u001b[0m\n\u001b[0m\u001b[1;32m      2\u001b[0m \u001b[0mdf_link_stk\u001b[0m\u001b[0;34m[\u001b[0m\u001b[0;34m'Eur_Low'\u001b[0m\u001b[0;34m]\u001b[0m \u001b[0;34m=\u001b[0m \u001b[0mdf_link_stk\u001b[0m\u001b[0;34m[\u001b[0m\u001b[0;34m'Low'\u001b[0m\u001b[0;34m]\u001b[0m \u001b[0;34m*\u001b[0m \u001b[0mdf_link_stk\u001b[0m\u001b[0;34m[\u001b[0m\u001b[0;34m'Change'\u001b[0m\u001b[0;34m]\u001b[0m\u001b[0;34m\u001b[0m\u001b[0;34m\u001b[0m\u001b[0m\n\u001b[1;32m      3\u001b[0m \u001b[0mdf_link_stk\u001b[0m\u001b[0;34m[\u001b[0m\u001b[0;34m'Eur_Open'\u001b[0m\u001b[0;34m]\u001b[0m \u001b[0;34m=\u001b[0m \u001b[0mdf_link_stk\u001b[0m\u001b[0;34m[\u001b[0m\u001b[0;34m'Open'\u001b[0m\u001b[0;34m]\u001b[0m \u001b[0;34m*\u001b[0m \u001b[0mdf_link_stk\u001b[0m\u001b[0;34m[\u001b[0m\u001b[0;34m'Change'\u001b[0m\u001b[0;34m]\u001b[0m\u001b[0;34m\u001b[0m\u001b[0;34m\u001b[0m\u001b[0m\n\u001b[1;32m      4\u001b[0m \u001b[0mprint\u001b[0m\u001b[0;34m(\u001b[0m\u001b[0mdf_link_stk\u001b[0m\u001b[0;34m[\u001b[0m\u001b[0;34m'Eur_Low'\u001b[0m\u001b[0;34m]\u001b[0m\u001b[0;34m.\u001b[0m\u001b[0msum\u001b[0m\u001b[0;34m(\u001b[0m\u001b[0;34m)\u001b[0m\u001b[0;34m)\u001b[0m\u001b[0;34m\u001b[0m\u001b[0;34m\u001b[0m\u001b[0m\n\u001b[1;32m      5\u001b[0m \u001b[0mprint\u001b[0m\u001b[0;34m(\u001b[0m\u001b[0mdf_link_stk\u001b[0m\u001b[0;34m[\u001b[0m\u001b[0;34m'Eur_Open'\u001b[0m\u001b[0;34m]\u001b[0m\u001b[0;34m.\u001b[0m\u001b[0msum\u001b[0m\u001b[0;34m(\u001b[0m\u001b[0;34m)\u001b[0m\u001b[0;34m)\u001b[0m\u001b[0;34m\u001b[0m\u001b[0;34m\u001b[0m\u001b[0m\n",
            "\u001b[0;31mNameError\u001b[0m: name 'df_LINK_StkRwrd_2021_Binance' is not defined"
          ]
        }
      ]
    },
    {
      "cell_type": "code",
      "source": [
        "df_matic_stk = pd.merge(df_MATIC_StkRwrd_2021_Binance, df_MATIC_rates_2021, on='Date')\n",
        "df_matic_stk['Eur_Low'] = df_matic_stk['Low'] * df_matic_stk['Change']\n",
        "df_matic_stk['Eur_Open'] = df_matic_stk['Open'] * df_matic_stk['Change']\n",
        "print(df_matic_stk['Eur_Low'].sum())\n",
        "print(df_matic_stk['Eur_Open'].sum())\n",
        "df_matic_stk.to_csv('matic_stk_2021.csv',index=False)"
      ],
      "metadata": {
        "colab": {
          "base_uri": "https://localhost:8080/"
        },
        "id": "Qb3wcUlvtugH",
        "outputId": "469ede34-8643-4c72-d65e-90e894f5aad2"
      },
      "execution_count": null,
      "outputs": [
        {
          "output_type": "stream",
          "name": "stdout",
          "text": [
            "119.78427845309812\n",
            "126.07912355959047\n"
          ]
        }
      ]
    },
    {
      "cell_type": "code",
      "source": [
        "df_sand_stk = pd.merge(df_SAND_StkRwrd_2021_Binance, df_SAND_rates_2021, on='Date')\n",
        "df_sand_stk['Eur_Low'] = df_sand_stk['Low'] * df_sand_stk['Change']\n",
        "df_sand_stk['Eur_Open'] = df_sand_stk['Open'] * df_sand_stk['Change']\n",
        "print(df_sand_stk['Eur_Low'].sum())\n",
        "print(df_sand_stk['Eur_Open'].sum())\n",
        "df_sand_stk.to_csv('sand_stk_2021.csv',index=False)"
      ],
      "metadata": {
        "colab": {
          "base_uri": "https://localhost:8080/"
        },
        "id": "0LjULgjluOLu",
        "outputId": "d6590fec-b1e8-49e4-fab5-c6e3325048ee"
      },
      "execution_count": null,
      "outputs": [
        {
          "output_type": "stream",
          "name": "stdout",
          "text": [
            "24.864554883490914\n",
            "26.71371314419566\n"
          ]
        }
      ]
    },
    {
      "cell_type": "code",
      "source": [
        "df_sol_stk = pd.merge(df_SOL_StkRwrd_2021_Binance, df_SOL_rates_2021, on='Date')\n",
        "df_sol_stk['Eur_Low'] = df_sol_stk['Low'] * df_sol_stk['Change']\n",
        "df_sol_stk['Eur_Open'] = df_sol_stk['Open'] * df_sol_stk['Change']\n",
        "print(df_sol_stk['Eur_Low'].sum())\n",
        "print(df_sol_stk['Eur_Open'].sum())\n",
        "df_sol_stk.to_csv('sol_stk_2021.csv',index=False)"
      ],
      "metadata": {
        "colab": {
          "base_uri": "https://localhost:8080/"
        },
        "id": "mj_1XnFpuxV7",
        "outputId": "6ecb704c-cd6b-47ff-8905-50151136ffe5"
      },
      "execution_count": 20,
      "outputs": [
        {
          "output_type": "stream",
          "name": "stdout",
          "text": [
            "100.65089166976898\n",
            "104.77984025020649\n"
          ]
        }
      ]
    },
    {
      "cell_type": "code",
      "source": [
        "df_ADA_rates_2021.head()"
      ],
      "metadata": {
        "colab": {
          "base_uri": "https://localhost:8080/",
          "height": 206
        },
        "id": "OI1XZxmX_e8-",
        "outputId": "70743ddf-208f-43f5-8a12-77ab46cdd985"
      },
      "execution_count": null,
      "outputs": [
        {
          "output_type": "execute_result",
          "data": {
            "text/plain": [
              "        Date      Open      High       Low     Close  Adj Close      Volume\n",
              "0 2021-01-01  0.148485  0.150854  0.141780  0.144257   0.144257   923227430\n",
              "1 2021-01-02  0.144264  0.151836  0.139458  0.146207   0.146207  1160980748\n",
              "2 2021-01-03  0.146174  0.170391  0.142873  0.167342   0.167342  1880692200\n",
              "3 2021-01-04  0.167539  0.195633  0.158172  0.183441   0.183441  2661232602\n",
              "4 2021-01-05  0.183485  0.215437  0.169860  0.210037   0.210037  3331468004"
            ],
            "text/html": [
              "\n",
              "  <div id=\"df-e7a02a66-eac9-4434-83e4-3ca624011b80\">\n",
              "    <div class=\"colab-df-container\">\n",
              "      <div>\n",
              "<style scoped>\n",
              "    .dataframe tbody tr th:only-of-type {\n",
              "        vertical-align: middle;\n",
              "    }\n",
              "\n",
              "    .dataframe tbody tr th {\n",
              "        vertical-align: top;\n",
              "    }\n",
              "\n",
              "    .dataframe thead th {\n",
              "        text-align: right;\n",
              "    }\n",
              "</style>\n",
              "<table border=\"1\" class=\"dataframe\">\n",
              "  <thead>\n",
              "    <tr style=\"text-align: right;\">\n",
              "      <th></th>\n",
              "      <th>Date</th>\n",
              "      <th>Open</th>\n",
              "      <th>High</th>\n",
              "      <th>Low</th>\n",
              "      <th>Close</th>\n",
              "      <th>Adj Close</th>\n",
              "      <th>Volume</th>\n",
              "    </tr>\n",
              "  </thead>\n",
              "  <tbody>\n",
              "    <tr>\n",
              "      <th>0</th>\n",
              "      <td>2021-01-01</td>\n",
              "      <td>0.148485</td>\n",
              "      <td>0.150854</td>\n",
              "      <td>0.141780</td>\n",
              "      <td>0.144257</td>\n",
              "      <td>0.144257</td>\n",
              "      <td>923227430</td>\n",
              "    </tr>\n",
              "    <tr>\n",
              "      <th>1</th>\n",
              "      <td>2021-01-02</td>\n",
              "      <td>0.144264</td>\n",
              "      <td>0.151836</td>\n",
              "      <td>0.139458</td>\n",
              "      <td>0.146207</td>\n",
              "      <td>0.146207</td>\n",
              "      <td>1160980748</td>\n",
              "    </tr>\n",
              "    <tr>\n",
              "      <th>2</th>\n",
              "      <td>2021-01-03</td>\n",
              "      <td>0.146174</td>\n",
              "      <td>0.170391</td>\n",
              "      <td>0.142873</td>\n",
              "      <td>0.167342</td>\n",
              "      <td>0.167342</td>\n",
              "      <td>1880692200</td>\n",
              "    </tr>\n",
              "    <tr>\n",
              "      <th>3</th>\n",
              "      <td>2021-01-04</td>\n",
              "      <td>0.167539</td>\n",
              "      <td>0.195633</td>\n",
              "      <td>0.158172</td>\n",
              "      <td>0.183441</td>\n",
              "      <td>0.183441</td>\n",
              "      <td>2661232602</td>\n",
              "    </tr>\n",
              "    <tr>\n",
              "      <th>4</th>\n",
              "      <td>2021-01-05</td>\n",
              "      <td>0.183485</td>\n",
              "      <td>0.215437</td>\n",
              "      <td>0.169860</td>\n",
              "      <td>0.210037</td>\n",
              "      <td>0.210037</td>\n",
              "      <td>3331468004</td>\n",
              "    </tr>\n",
              "  </tbody>\n",
              "</table>\n",
              "</div>\n",
              "      <button class=\"colab-df-convert\" onclick=\"convertToInteractive('df-e7a02a66-eac9-4434-83e4-3ca624011b80')\"\n",
              "              title=\"Convert this dataframe to an interactive table.\"\n",
              "              style=\"display:none;\">\n",
              "        \n",
              "  <svg xmlns=\"http://www.w3.org/2000/svg\" height=\"24px\"viewBox=\"0 0 24 24\"\n",
              "       width=\"24px\">\n",
              "    <path d=\"M0 0h24v24H0V0z\" fill=\"none\"/>\n",
              "    <path d=\"M18.56 5.44l.94 2.06.94-2.06 2.06-.94-2.06-.94-.94-2.06-.94 2.06-2.06.94zm-11 1L8.5 8.5l.94-2.06 2.06-.94-2.06-.94L8.5 2.5l-.94 2.06-2.06.94zm10 10l.94 2.06.94-2.06 2.06-.94-2.06-.94-.94-2.06-.94 2.06-2.06.94z\"/><path d=\"M17.41 7.96l-1.37-1.37c-.4-.4-.92-.59-1.43-.59-.52 0-1.04.2-1.43.59L10.3 9.45l-7.72 7.72c-.78.78-.78 2.05 0 2.83L4 21.41c.39.39.9.59 1.41.59.51 0 1.02-.2 1.41-.59l7.78-7.78 2.81-2.81c.8-.78.8-2.07 0-2.86zM5.41 20L4 18.59l7.72-7.72 1.47 1.35L5.41 20z\"/>\n",
              "  </svg>\n",
              "      </button>\n",
              "      \n",
              "  <style>\n",
              "    .colab-df-container {\n",
              "      display:flex;\n",
              "      flex-wrap:wrap;\n",
              "      gap: 12px;\n",
              "    }\n",
              "\n",
              "    .colab-df-convert {\n",
              "      background-color: #E8F0FE;\n",
              "      border: none;\n",
              "      border-radius: 50%;\n",
              "      cursor: pointer;\n",
              "      display: none;\n",
              "      fill: #1967D2;\n",
              "      height: 32px;\n",
              "      padding: 0 0 0 0;\n",
              "      width: 32px;\n",
              "    }\n",
              "\n",
              "    .colab-df-convert:hover {\n",
              "      background-color: #E2EBFA;\n",
              "      box-shadow: 0px 1px 2px rgba(60, 64, 67, 0.3), 0px 1px 3px 1px rgba(60, 64, 67, 0.15);\n",
              "      fill: #174EA6;\n",
              "    }\n",
              "\n",
              "    [theme=dark] .colab-df-convert {\n",
              "      background-color: #3B4455;\n",
              "      fill: #D2E3FC;\n",
              "    }\n",
              "\n",
              "    [theme=dark] .colab-df-convert:hover {\n",
              "      background-color: #434B5C;\n",
              "      box-shadow: 0px 1px 3px 1px rgba(0, 0, 0, 0.15);\n",
              "      filter: drop-shadow(0px 1px 2px rgba(0, 0, 0, 0.3));\n",
              "      fill: #FFFFFF;\n",
              "    }\n",
              "  </style>\n",
              "\n",
              "      <script>\n",
              "        const buttonEl =\n",
              "          document.querySelector('#df-e7a02a66-eac9-4434-83e4-3ca624011b80 button.colab-df-convert');\n",
              "        buttonEl.style.display =\n",
              "          google.colab.kernel.accessAllowed ? 'block' : 'none';\n",
              "\n",
              "        async function convertToInteractive(key) {\n",
              "          const element = document.querySelector('#df-e7a02a66-eac9-4434-83e4-3ca624011b80');\n",
              "          const dataTable =\n",
              "            await google.colab.kernel.invokeFunction('convertToInteractive',\n",
              "                                                     [key], {});\n",
              "          if (!dataTable) return;\n",
              "\n",
              "          const docLinkHtml = 'Like what you see? Visit the ' +\n",
              "            '<a target=\"_blank\" href=https://colab.research.google.com/notebooks/data_table.ipynb>data table notebook</a>'\n",
              "            + ' to learn more about interactive tables.';\n",
              "          element.innerHTML = '';\n",
              "          dataTable['output_type'] = 'display_data';\n",
              "          await google.colab.output.renderOutput(dataTable, element);\n",
              "          const docLink = document.createElement('div');\n",
              "          docLink.innerHTML = docLinkHtml;\n",
              "          element.appendChild(docLink);\n",
              "        }\n",
              "      </script>\n",
              "    </div>\n",
              "  </div>\n",
              "  "
            ]
          },
          "metadata": {},
          "execution_count": 10
        }
      ]
    },
    {
      "cell_type": "code",
      "source": [
        "df_all_rates_2021 = pd.concat([df_ADA_rates_2021,\n",
        "                               df_ALGO_rates_2021,\n",
        "                               df_ATOM_rates_2021,\n",
        "                               df_AVAX_rates_2021,\n",
        "                               df_AXS_rates_2021,\n",
        "                               df_BNB_rates_2021,\n",
        "                               df_CAKE_rates_2021,\n",
        "                               df_COTI_rates_2021,\n",
        "                               df_DOT_rates_2021,\n",
        "                               df_EGLD_rates_2021,\n",
        "                               df_FIL_rates_2021,\n",
        "                               df_HNT_rates_2021,\n",
        "                               df_KSM_rates_2021,\n",
        "                               df_LINK_rates_2021,\n",
        "                               df_MATIC_rates_2021,\n",
        "                               df_SAND_rates_2021,\n",
        "                               df_SOL_rates_2021])"
      ],
      "metadata": {
        "id": "zVjakjPM78bS"
      },
      "execution_count": null,
      "outputs": []
    },
    {
      "cell_type": "code",
      "source": [
        "df_all_rates_2021"
      ],
      "metadata": {
        "colab": {
          "base_uri": "https://localhost:8080/",
          "height": 423
        },
        "id": "LDRl0vrD9ItB",
        "outputId": "d84334f4-f476-4f50-9ee4-55f988747b58"
      },
      "execution_count": null,
      "outputs": [
        {
          "output_type": "execute_result",
          "data": {
            "text/plain": [
              "           Date        Open        High         Low       Close   Adj Close  \\\n",
              "0    01/01/2021    0.148485    0.150854    0.141780    0.144257    0.144257   \n",
              "1    02/01/2021    0.144264    0.151836    0.139458    0.146207    0.146207   \n",
              "2    03/01/2021    0.146174    0.170391    0.142873    0.167342    0.167342   \n",
              "3    04/01/2021    0.167539    0.195633    0.158172    0.183441    0.183441   \n",
              "4    05/01/2021    0.183485    0.215437    0.169860    0.210037    0.210037   \n",
              "..          ...         ...         ...         ...         ...         ...   \n",
              "360  27/12/2021  174.755386  180.632233  172.606262  172.494476  172.494476   \n",
              "361  28/12/2021  172.664078  172.664078  156.676651  156.830582  156.830582   \n",
              "362  29/12/2021  156.798264  159.686127  150.154846  150.229340  150.229340   \n",
              "363  30/12/2021  150.323730  155.101563  148.472061  152.570923  152.570923   \n",
              "364  31/12/2021  152.529099  156.579666  147.867035  149.727280  149.727280   \n",
              "\n",
              "           Volume  \n",
              "0    9.232274e+08  \n",
              "1    1.160981e+09  \n",
              "2    1.880692e+09  \n",
              "3    2.661233e+09  \n",
              "4    3.331468e+09  \n",
              "..            ...  \n",
              "360  1.588841e+09  \n",
              "361  2.498023e+09  \n",
              "362  1.915290e+09  \n",
              "363  1.360665e+09  \n",
              "364  1.378517e+09  \n",
              "\n",
              "[6205 rows x 7 columns]"
            ],
            "text/html": [
              "\n",
              "  <div id=\"df-23feb909-5af2-4e11-b272-02795b1ba993\">\n",
              "    <div class=\"colab-df-container\">\n",
              "      <div>\n",
              "<style scoped>\n",
              "    .dataframe tbody tr th:only-of-type {\n",
              "        vertical-align: middle;\n",
              "    }\n",
              "\n",
              "    .dataframe tbody tr th {\n",
              "        vertical-align: top;\n",
              "    }\n",
              "\n",
              "    .dataframe thead th {\n",
              "        text-align: right;\n",
              "    }\n",
              "</style>\n",
              "<table border=\"1\" class=\"dataframe\">\n",
              "  <thead>\n",
              "    <tr style=\"text-align: right;\">\n",
              "      <th></th>\n",
              "      <th>Date</th>\n",
              "      <th>Open</th>\n",
              "      <th>High</th>\n",
              "      <th>Low</th>\n",
              "      <th>Close</th>\n",
              "      <th>Adj Close</th>\n",
              "      <th>Volume</th>\n",
              "    </tr>\n",
              "  </thead>\n",
              "  <tbody>\n",
              "    <tr>\n",
              "      <th>0</th>\n",
              "      <td>01/01/2021</td>\n",
              "      <td>0.148485</td>\n",
              "      <td>0.150854</td>\n",
              "      <td>0.141780</td>\n",
              "      <td>0.144257</td>\n",
              "      <td>0.144257</td>\n",
              "      <td>9.232274e+08</td>\n",
              "    </tr>\n",
              "    <tr>\n",
              "      <th>1</th>\n",
              "      <td>02/01/2021</td>\n",
              "      <td>0.144264</td>\n",
              "      <td>0.151836</td>\n",
              "      <td>0.139458</td>\n",
              "      <td>0.146207</td>\n",
              "      <td>0.146207</td>\n",
              "      <td>1.160981e+09</td>\n",
              "    </tr>\n",
              "    <tr>\n",
              "      <th>2</th>\n",
              "      <td>03/01/2021</td>\n",
              "      <td>0.146174</td>\n",
              "      <td>0.170391</td>\n",
              "      <td>0.142873</td>\n",
              "      <td>0.167342</td>\n",
              "      <td>0.167342</td>\n",
              "      <td>1.880692e+09</td>\n",
              "    </tr>\n",
              "    <tr>\n",
              "      <th>3</th>\n",
              "      <td>04/01/2021</td>\n",
              "      <td>0.167539</td>\n",
              "      <td>0.195633</td>\n",
              "      <td>0.158172</td>\n",
              "      <td>0.183441</td>\n",
              "      <td>0.183441</td>\n",
              "      <td>2.661233e+09</td>\n",
              "    </tr>\n",
              "    <tr>\n",
              "      <th>4</th>\n",
              "      <td>05/01/2021</td>\n",
              "      <td>0.183485</td>\n",
              "      <td>0.215437</td>\n",
              "      <td>0.169860</td>\n",
              "      <td>0.210037</td>\n",
              "      <td>0.210037</td>\n",
              "      <td>3.331468e+09</td>\n",
              "    </tr>\n",
              "    <tr>\n",
              "      <th>...</th>\n",
              "      <td>...</td>\n",
              "      <td>...</td>\n",
              "      <td>...</td>\n",
              "      <td>...</td>\n",
              "      <td>...</td>\n",
              "      <td>...</td>\n",
              "      <td>...</td>\n",
              "    </tr>\n",
              "    <tr>\n",
              "      <th>360</th>\n",
              "      <td>27/12/2021</td>\n",
              "      <td>174.755386</td>\n",
              "      <td>180.632233</td>\n",
              "      <td>172.606262</td>\n",
              "      <td>172.494476</td>\n",
              "      <td>172.494476</td>\n",
              "      <td>1.588841e+09</td>\n",
              "    </tr>\n",
              "    <tr>\n",
              "      <th>361</th>\n",
              "      <td>28/12/2021</td>\n",
              "      <td>172.664078</td>\n",
              "      <td>172.664078</td>\n",
              "      <td>156.676651</td>\n",
              "      <td>156.830582</td>\n",
              "      <td>156.830582</td>\n",
              "      <td>2.498023e+09</td>\n",
              "    </tr>\n",
              "    <tr>\n",
              "      <th>362</th>\n",
              "      <td>29/12/2021</td>\n",
              "      <td>156.798264</td>\n",
              "      <td>159.686127</td>\n",
              "      <td>150.154846</td>\n",
              "      <td>150.229340</td>\n",
              "      <td>150.229340</td>\n",
              "      <td>1.915290e+09</td>\n",
              "    </tr>\n",
              "    <tr>\n",
              "      <th>363</th>\n",
              "      <td>30/12/2021</td>\n",
              "      <td>150.323730</td>\n",
              "      <td>155.101563</td>\n",
              "      <td>148.472061</td>\n",
              "      <td>152.570923</td>\n",
              "      <td>152.570923</td>\n",
              "      <td>1.360665e+09</td>\n",
              "    </tr>\n",
              "    <tr>\n",
              "      <th>364</th>\n",
              "      <td>31/12/2021</td>\n",
              "      <td>152.529099</td>\n",
              "      <td>156.579666</td>\n",
              "      <td>147.867035</td>\n",
              "      <td>149.727280</td>\n",
              "      <td>149.727280</td>\n",
              "      <td>1.378517e+09</td>\n",
              "    </tr>\n",
              "  </tbody>\n",
              "</table>\n",
              "<p>6205 rows × 7 columns</p>\n",
              "</div>\n",
              "      <button class=\"colab-df-convert\" onclick=\"convertToInteractive('df-23feb909-5af2-4e11-b272-02795b1ba993')\"\n",
              "              title=\"Convert this dataframe to an interactive table.\"\n",
              "              style=\"display:none;\">\n",
              "        \n",
              "  <svg xmlns=\"http://www.w3.org/2000/svg\" height=\"24px\"viewBox=\"0 0 24 24\"\n",
              "       width=\"24px\">\n",
              "    <path d=\"M0 0h24v24H0V0z\" fill=\"none\"/>\n",
              "    <path d=\"M18.56 5.44l.94 2.06.94-2.06 2.06-.94-2.06-.94-.94-2.06-.94 2.06-2.06.94zm-11 1L8.5 8.5l.94-2.06 2.06-.94-2.06-.94L8.5 2.5l-.94 2.06-2.06.94zm10 10l.94 2.06.94-2.06 2.06-.94-2.06-.94-.94-2.06-.94 2.06-2.06.94z\"/><path d=\"M17.41 7.96l-1.37-1.37c-.4-.4-.92-.59-1.43-.59-.52 0-1.04.2-1.43.59L10.3 9.45l-7.72 7.72c-.78.78-.78 2.05 0 2.83L4 21.41c.39.39.9.59 1.41.59.51 0 1.02-.2 1.41-.59l7.78-7.78 2.81-2.81c.8-.78.8-2.07 0-2.86zM5.41 20L4 18.59l7.72-7.72 1.47 1.35L5.41 20z\"/>\n",
              "  </svg>\n",
              "      </button>\n",
              "      \n",
              "  <style>\n",
              "    .colab-df-container {\n",
              "      display:flex;\n",
              "      flex-wrap:wrap;\n",
              "      gap: 12px;\n",
              "    }\n",
              "\n",
              "    .colab-df-convert {\n",
              "      background-color: #E8F0FE;\n",
              "      border: none;\n",
              "      border-radius: 50%;\n",
              "      cursor: pointer;\n",
              "      display: none;\n",
              "      fill: #1967D2;\n",
              "      height: 32px;\n",
              "      padding: 0 0 0 0;\n",
              "      width: 32px;\n",
              "    }\n",
              "\n",
              "    .colab-df-convert:hover {\n",
              "      background-color: #E2EBFA;\n",
              "      box-shadow: 0px 1px 2px rgba(60, 64, 67, 0.3), 0px 1px 3px 1px rgba(60, 64, 67, 0.15);\n",
              "      fill: #174EA6;\n",
              "    }\n",
              "\n",
              "    [theme=dark] .colab-df-convert {\n",
              "      background-color: #3B4455;\n",
              "      fill: #D2E3FC;\n",
              "    }\n",
              "\n",
              "    [theme=dark] .colab-df-convert:hover {\n",
              "      background-color: #434B5C;\n",
              "      box-shadow: 0px 1px 3px 1px rgba(0, 0, 0, 0.15);\n",
              "      filter: drop-shadow(0px 1px 2px rgba(0, 0, 0, 0.3));\n",
              "      fill: #FFFFFF;\n",
              "    }\n",
              "  </style>\n",
              "\n",
              "      <script>\n",
              "        const buttonEl =\n",
              "          document.querySelector('#df-23feb909-5af2-4e11-b272-02795b1ba993 button.colab-df-convert');\n",
              "        buttonEl.style.display =\n",
              "          google.colab.kernel.accessAllowed ? 'block' : 'none';\n",
              "\n",
              "        async function convertToInteractive(key) {\n",
              "          const element = document.querySelector('#df-23feb909-5af2-4e11-b272-02795b1ba993');\n",
              "          const dataTable =\n",
              "            await google.colab.kernel.invokeFunction('convertToInteractive',\n",
              "                                                     [key], {});\n",
              "          if (!dataTable) return;\n",
              "\n",
              "          const docLinkHtml = 'Like what you see? Visit the ' +\n",
              "            '<a target=\"_blank\" href=https://colab.research.google.com/notebooks/data_table.ipynb>data table notebook</a>'\n",
              "            + ' to learn more about interactive tables.';\n",
              "          element.innerHTML = '';\n",
              "          dataTable['output_type'] = 'display_data';\n",
              "          await google.colab.output.renderOutput(dataTable, element);\n",
              "          const docLink = document.createElement('div');\n",
              "          docLink.innerHTML = docLinkHtml;\n",
              "          element.appendChild(docLink);\n",
              "        }\n",
              "      </script>\n",
              "    </div>\n",
              "  </div>\n",
              "  "
            ]
          },
          "metadata": {},
          "execution_count": 7
        }
      ]
    },
    {
      "cell_type": "code",
      "source": [],
      "metadata": {
        "id": "WQe1iQwm9gOi"
      },
      "execution_count": null,
      "outputs": []
    },
    {
      "cell_type": "code",
      "execution_count": null,
      "metadata": {
        "colab": {
          "base_uri": "https://localhost:8080/",
          "height": 676
        },
        "id": "q7dEDkucYNBJ",
        "outputId": "c20befbf-6bcd-4ec2-8851-139b0fcab404"
      },
      "outputs": [
        {
          "ename": "RemoteDataError",
          "evalue": "ignored",
          "output_type": "error",
          "traceback": [
            "\u001b[0;31m---------------------------------------------------------------------------\u001b[0m",
            "\u001b[0;31mRemoteDataError\u001b[0m                           Traceback (most recent call last)",
            "\u001b[0;32m<ipython-input-34-6d3343e0eacc>\u001b[0m in \u001b[0;36m<module>\u001b[0;34m\u001b[0m\n\u001b[1;32m      2\u001b[0m \u001b[0;32mimport\u001b[0m \u001b[0mpandas_datareader\u001b[0m\u001b[0;34m.\u001b[0m\u001b[0mdata\u001b[0m \u001b[0;32mas\u001b[0m \u001b[0mweb\u001b[0m\u001b[0;34m\u001b[0m\u001b[0;34m\u001b[0m\u001b[0m\n\u001b[1;32m      3\u001b[0m \u001b[0;31m#ada_data = pdr.yahoo.daily.YahooDailyReader('ADA-EUR',start='2021-01-01', end='2021-12-31')\u001b[0m\u001b[0;34m\u001b[0m\u001b[0;34m\u001b[0m\u001b[0;34m\u001b[0m\u001b[0m\n\u001b[0;32m----> 4\u001b[0;31m \u001b[0mtsla_data\u001b[0m \u001b[0;34m=\u001b[0m \u001b[0mweb\u001b[0m\u001b[0;34m.\u001b[0m\u001b[0mDataReader\u001b[0m\u001b[0;34m(\u001b[0m\u001b[0;34m'TSLA'\u001b[0m\u001b[0;34m,\u001b[0m\u001b[0mdata_source\u001b[0m\u001b[0;34m=\u001b[0m\u001b[0;34m'yahoo'\u001b[0m\u001b[0;34m,\u001b[0m\u001b[0mstart\u001b[0m\u001b[0;34m=\u001b[0m\u001b[0;34m'2021-01-01'\u001b[0m\u001b[0;34m,\u001b[0m \u001b[0mend\u001b[0m\u001b[0;34m=\u001b[0m\u001b[0;34m'2021-12-31'\u001b[0m\u001b[0;34m)\u001b[0m\u001b[0;34m\u001b[0m\u001b[0;34m\u001b[0m\u001b[0m\n\u001b[0m\u001b[1;32m      5\u001b[0m \u001b[0mtsla_data\u001b[0m\u001b[0;34m.\u001b[0m\u001b[0mhead\u001b[0m\u001b[0;34m(\u001b[0m\u001b[0;34m)\u001b[0m\u001b[0;34m\u001b[0m\u001b[0;34m\u001b[0m\u001b[0m\n\u001b[1;32m      6\u001b[0m \u001b[0;31m#\u001b[0m\u001b[0;34m\u001b[0m\u001b[0;34m\u001b[0m\u001b[0;34m\u001b[0m\u001b[0m\n",
            "\u001b[0;32m/usr/local/lib/python3.8/dist-packages/pandas/util/_decorators.py\u001b[0m in \u001b[0;36mwrapper\u001b[0;34m(*args, **kwargs)\u001b[0m\n\u001b[1;32m    205\u001b[0m                 \u001b[0;32melse\u001b[0m\u001b[0;34m:\u001b[0m\u001b[0;34m\u001b[0m\u001b[0;34m\u001b[0m\u001b[0m\n\u001b[1;32m    206\u001b[0m                     \u001b[0mkwargs\u001b[0m\u001b[0;34m[\u001b[0m\u001b[0mnew_arg_name\u001b[0m\u001b[0;34m]\u001b[0m \u001b[0;34m=\u001b[0m \u001b[0mnew_arg_value\u001b[0m\u001b[0;34m\u001b[0m\u001b[0;34m\u001b[0m\u001b[0m\n\u001b[0;32m--> 207\u001b[0;31m             \u001b[0;32mreturn\u001b[0m \u001b[0mfunc\u001b[0m\u001b[0;34m(\u001b[0m\u001b[0;34m*\u001b[0m\u001b[0margs\u001b[0m\u001b[0;34m,\u001b[0m \u001b[0;34m**\u001b[0m\u001b[0mkwargs\u001b[0m\u001b[0;34m)\u001b[0m\u001b[0;34m\u001b[0m\u001b[0;34m\u001b[0m\u001b[0m\n\u001b[0m\u001b[1;32m    208\u001b[0m \u001b[0;34m\u001b[0m\u001b[0m\n\u001b[1;32m    209\u001b[0m         \u001b[0;32mreturn\u001b[0m \u001b[0mcast\u001b[0m\u001b[0;34m(\u001b[0m\u001b[0mF\u001b[0m\u001b[0;34m,\u001b[0m \u001b[0mwrapper\u001b[0m\u001b[0;34m)\u001b[0m\u001b[0;34m\u001b[0m\u001b[0;34m\u001b[0m\u001b[0m\n",
            "\u001b[0;32m/usr/local/lib/python3.8/dist-packages/pandas_datareader/data.py\u001b[0m in \u001b[0;36mDataReader\u001b[0;34m(name, data_source, start, end, retry_count, pause, session, api_key)\u001b[0m\n\u001b[1;32m    374\u001b[0m \u001b[0;34m\u001b[0m\u001b[0m\n\u001b[1;32m    375\u001b[0m     \u001b[0;32mif\u001b[0m \u001b[0mdata_source\u001b[0m \u001b[0;34m==\u001b[0m \u001b[0;34m\"yahoo\"\u001b[0m\u001b[0;34m:\u001b[0m\u001b[0;34m\u001b[0m\u001b[0;34m\u001b[0m\u001b[0m\n\u001b[0;32m--> 376\u001b[0;31m         return YahooDailyReader(\n\u001b[0m\u001b[1;32m    377\u001b[0m             \u001b[0msymbols\u001b[0m\u001b[0;34m=\u001b[0m\u001b[0mname\u001b[0m\u001b[0;34m,\u001b[0m\u001b[0;34m\u001b[0m\u001b[0;34m\u001b[0m\u001b[0m\n\u001b[1;32m    378\u001b[0m             \u001b[0mstart\u001b[0m\u001b[0;34m=\u001b[0m\u001b[0mstart\u001b[0m\u001b[0;34m,\u001b[0m\u001b[0;34m\u001b[0m\u001b[0;34m\u001b[0m\u001b[0m\n",
            "\u001b[0;32m/usr/local/lib/python3.8/dist-packages/pandas_datareader/base.py\u001b[0m in \u001b[0;36mread\u001b[0;34m(self)\u001b[0m\n\u001b[1;32m    251\u001b[0m         \u001b[0;31m# If a single symbol, (e.g., 'GOOG')\u001b[0m\u001b[0;34m\u001b[0m\u001b[0;34m\u001b[0m\u001b[0;34m\u001b[0m\u001b[0m\n\u001b[1;32m    252\u001b[0m         \u001b[0;32mif\u001b[0m \u001b[0misinstance\u001b[0m\u001b[0;34m(\u001b[0m\u001b[0mself\u001b[0m\u001b[0;34m.\u001b[0m\u001b[0msymbols\u001b[0m\u001b[0;34m,\u001b[0m \u001b[0;34m(\u001b[0m\u001b[0mstring_types\u001b[0m\u001b[0;34m,\u001b[0m \u001b[0mint\u001b[0m\u001b[0;34m)\u001b[0m\u001b[0;34m)\u001b[0m\u001b[0;34m:\u001b[0m\u001b[0;34m\u001b[0m\u001b[0;34m\u001b[0m\u001b[0m\n\u001b[0;32m--> 253\u001b[0;31m             \u001b[0mdf\u001b[0m \u001b[0;34m=\u001b[0m \u001b[0mself\u001b[0m\u001b[0;34m.\u001b[0m\u001b[0m_read_one_data\u001b[0m\u001b[0;34m(\u001b[0m\u001b[0mself\u001b[0m\u001b[0;34m.\u001b[0m\u001b[0murl\u001b[0m\u001b[0;34m,\u001b[0m \u001b[0mparams\u001b[0m\u001b[0;34m=\u001b[0m\u001b[0mself\u001b[0m\u001b[0;34m.\u001b[0m\u001b[0m_get_params\u001b[0m\u001b[0;34m(\u001b[0m\u001b[0mself\u001b[0m\u001b[0;34m.\u001b[0m\u001b[0msymbols\u001b[0m\u001b[0;34m)\u001b[0m\u001b[0;34m)\u001b[0m\u001b[0;34m\u001b[0m\u001b[0;34m\u001b[0m\u001b[0m\n\u001b[0m\u001b[1;32m    254\u001b[0m         \u001b[0;31m# Or multiple symbols, (e.g., ['GOOG', 'AAPL', 'MSFT'])\u001b[0m\u001b[0;34m\u001b[0m\u001b[0;34m\u001b[0m\u001b[0;34m\u001b[0m\u001b[0m\n\u001b[1;32m    255\u001b[0m         \u001b[0;32melif\u001b[0m \u001b[0misinstance\u001b[0m\u001b[0;34m(\u001b[0m\u001b[0mself\u001b[0m\u001b[0;34m.\u001b[0m\u001b[0msymbols\u001b[0m\u001b[0;34m,\u001b[0m \u001b[0mDataFrame\u001b[0m\u001b[0;34m)\u001b[0m\u001b[0;34m:\u001b[0m\u001b[0;34m\u001b[0m\u001b[0;34m\u001b[0m\u001b[0m\n",
            "\u001b[0;32m/usr/local/lib/python3.8/dist-packages/pandas_datareader/yahoo/daily.py\u001b[0m in \u001b[0;36m_read_one_data\u001b[0;34m(self, url, params)\u001b[0m\n\u001b[1;32m    151\u001b[0m         \u001b[0murl\u001b[0m \u001b[0;34m=\u001b[0m \u001b[0murl\u001b[0m\u001b[0;34m.\u001b[0m\u001b[0mformat\u001b[0m\u001b[0;34m(\u001b[0m\u001b[0msymbol\u001b[0m\u001b[0;34m)\u001b[0m\u001b[0;34m\u001b[0m\u001b[0;34m\u001b[0m\u001b[0m\n\u001b[1;32m    152\u001b[0m \u001b[0;34m\u001b[0m\u001b[0m\n\u001b[0;32m--> 153\u001b[0;31m         \u001b[0mresp\u001b[0m \u001b[0;34m=\u001b[0m \u001b[0mself\u001b[0m\u001b[0;34m.\u001b[0m\u001b[0m_get_response\u001b[0m\u001b[0;34m(\u001b[0m\u001b[0murl\u001b[0m\u001b[0;34m,\u001b[0m \u001b[0mparams\u001b[0m\u001b[0;34m=\u001b[0m\u001b[0mparams\u001b[0m\u001b[0;34m)\u001b[0m\u001b[0;34m\u001b[0m\u001b[0;34m\u001b[0m\u001b[0m\n\u001b[0m\u001b[1;32m    154\u001b[0m         \u001b[0mptrn\u001b[0m \u001b[0;34m=\u001b[0m \u001b[0;34mr\"root\\.App\\.main = (.*?);\\n}\\(this\\)\\);\"\u001b[0m\u001b[0;34m\u001b[0m\u001b[0;34m\u001b[0m\u001b[0m\n\u001b[1;32m    155\u001b[0m         \u001b[0;32mtry\u001b[0m\u001b[0;34m:\u001b[0m\u001b[0;34m\u001b[0m\u001b[0;34m\u001b[0m\u001b[0m\n",
            "\u001b[0;32m/usr/local/lib/python3.8/dist-packages/pandas_datareader/base.py\u001b[0m in \u001b[0;36m_get_response\u001b[0;34m(self, url, params, headers)\u001b[0m\n\u001b[1;32m    179\u001b[0m             \u001b[0mmsg\u001b[0m \u001b[0;34m+=\u001b[0m \u001b[0;34m\"\\nResponse Text:\\n{0}\"\u001b[0m\u001b[0;34m.\u001b[0m\u001b[0mformat\u001b[0m\u001b[0;34m(\u001b[0m\u001b[0mlast_response_text\u001b[0m\u001b[0;34m)\u001b[0m\u001b[0;34m\u001b[0m\u001b[0;34m\u001b[0m\u001b[0m\n\u001b[1;32m    180\u001b[0m \u001b[0;34m\u001b[0m\u001b[0m\n\u001b[0;32m--> 181\u001b[0;31m         \u001b[0;32mraise\u001b[0m \u001b[0mRemoteDataError\u001b[0m\u001b[0;34m(\u001b[0m\u001b[0mmsg\u001b[0m\u001b[0;34m)\u001b[0m\u001b[0;34m\u001b[0m\u001b[0;34m\u001b[0m\u001b[0m\n\u001b[0m\u001b[1;32m    182\u001b[0m \u001b[0;34m\u001b[0m\u001b[0m\n\u001b[1;32m    183\u001b[0m     \u001b[0;32mdef\u001b[0m \u001b[0m_get_crumb\u001b[0m\u001b[0;34m(\u001b[0m\u001b[0mself\u001b[0m\u001b[0;34m,\u001b[0m \u001b[0;34m*\u001b[0m\u001b[0margs\u001b[0m\u001b[0;34m)\u001b[0m\u001b[0;34m:\u001b[0m\u001b[0;34m\u001b[0m\u001b[0;34m\u001b[0m\u001b[0m\n",
            "\u001b[0;31mRemoteDataError\u001b[0m: Unable to read URL: https://finance.yahoo.com/quote/TSLA/history?period1=1609473600&period2=1641009599&interval=1d&frequency=1d&filter=history\nResponse Text:\nb'<!DOCTYPE html>\\n  <html lang=\"en-us\"><head>\\n  <meta http-equiv=\"content-type\" content=\"text/html; charset=UTF-8\">\\n      <meta charset=\"utf-8\">\\n      <title>Yahoo</title>\\n      <meta name=\"viewport\" content=\"width=device-width,initial-scale=1,minimal-ui\">\\n      <meta http-equiv=\"X-UA-Compatible\" content=\"IE=edge,chrome=1\">\\n      <style>\\n  html {\\n      height: 100%;\\n  }\\n  body {\\n      background: #fafafc url(https://s.yimg.com/nn/img/sad-panda-201402200631.png) 50% 50%;\\n      background-size: cover;\\n      height: 100%;\\n      text-align: center;\\n      font: 300 18px \"helvetica neue\", helvetica, verdana, tahoma, arial, sans-serif;\\n  }\\n  table {\\n      height: 100%;\\n      width: 100%;\\n      table-layout: fixed;\\n      border-collapse: collapse;\\n      border-spacing: 0;\\n      border: none;\\n  }\\n  h1 {\\n      font-size: 42px;\\n      font-weight: 400;\\n      color: #400090;\\n  }\\n  p {\\n      color: #1A1A1A;\\n  }\\n  #message-1 {\\n      font-weight: bold;\\n      margin: 0;\\n  }\\n  #message-2 {\\n      display: inline-block;\\n      *display: inline;\\n      zoom: 1;\\n      max-width: 17em;\\n      _width: 17em;\\n  }\\n      </style>\\n  <script>\\n    document.write(\\'<img src=\"//geo.yahoo.com/b?s=1197757129&t=\\'+new Date().getTime()+\\'&src=aws&err_url=\\'+encodeURIComponent(document.URL)+\\'&err=%<pssc>&test=\\'+encodeURIComponent(\\'%<{Bucket}cqh[:200]>\\')+\\'\" width=\"0px\" height=\"0px\"/>\\');var beacon = new Image();beacon.src=\"//bcn.fp.yahoo.com/p?s=1197757129&t=\"+ne..."
          ]
        }
      ],
      "source": [
        "#import pandas_datareader as pdr\n",
        "import pandas_datareader.data as web\n",
        "#ada_data = pdr.yahoo.daily.YahooDailyReader('ADA-EUR',start='2021-01-01', end='2021-12-31')\n",
        "tsla_data = web.DataReader('TSLA',data_source='yahoo',start='2021-01-01', end='2021-12-31')\n",
        "tsla_data.head()\n",
        "#\n",
        "# Get the data for Cardano (ADA) from Yahoo Finance\n",
        "#ada_data = web.DataReader(\"ADA-EUR\", data_source='yahoo', start='2021-01-01', end='2021-12-31')\n",
        "\n",
        "# Print the first five rows of the data\n",
        "#print(ada_data.head())"
      ]
    },
    {
      "cell_type": "code",
      "execution_count": null,
      "metadata": {
        "colab": {
          "background_save": true
        },
        "id": "P92tRd6ngQ8e",
        "outputId": "1c4194d1-3f05-4280-c7dc-14acc04f34a8"
      },
      "outputs": [
        {
          "data": {
            "text/plain": [
              "pandas_datareader.yahoo.daily.YahooDailyReader"
            ]
          },
          "execution_count": 35,
          "metadata": {},
          "output_type": "execute_result"
        }
      ],
      "source": [
        "type(ada_data)"
      ]
    },
    {
      "cell_type": "code",
      "execution_count": null,
      "metadata": {
        "colab": {
          "base_uri": "https://localhost:8080/",
          "height": 287
        },
        "id": "_Cp83iWHf68E",
        "outputId": "94b5ea30-d558-4ade-cf81-aa609faff9b2"
      },
      "outputs": [
        {
          "ename": "AttributeError",
          "evalue": "ignored",
          "output_type": "error",
          "traceback": [
            "\u001b[0;31m---------------------------------------------------------------------------\u001b[0m",
            "\u001b[0;31mAttributeError\u001b[0m                            Traceback (most recent call last)",
            "\u001b[0;32m<ipython-input-28-a87f6feed009>\u001b[0m in \u001b[0;36m<module>\u001b[0;34m\u001b[0m\n\u001b[0;32m----> 1\u001b[0;31m \u001b[0mdf_ada_data\u001b[0m \u001b[0;34m=\u001b[0m \u001b[0mpd\u001b[0m\u001b[0;34m.\u001b[0m\u001b[0mada_data\u001b[0m\u001b[0;34m\u001b[0m\u001b[0;34m\u001b[0m\u001b[0m\n\u001b[0m",
            "\u001b[0;32m/usr/local/lib/python3.8/dist-packages/pandas/__init__.py\u001b[0m in \u001b[0;36m__getattr__\u001b[0;34m(name)\u001b[0m\n\u001b[1;32m    242\u001b[0m         \u001b[0;32mreturn\u001b[0m \u001b[0m_SparseArray\u001b[0m\u001b[0;34m\u001b[0m\u001b[0;34m\u001b[0m\u001b[0m\n\u001b[1;32m    243\u001b[0m \u001b[0;34m\u001b[0m\u001b[0m\n\u001b[0;32m--> 244\u001b[0;31m     \u001b[0;32mraise\u001b[0m \u001b[0mAttributeError\u001b[0m\u001b[0;34m(\u001b[0m\u001b[0;34mf\"module 'pandas' has no attribute '{name}'\"\u001b[0m\u001b[0;34m)\u001b[0m\u001b[0;34m\u001b[0m\u001b[0;34m\u001b[0m\u001b[0m\n\u001b[0m\u001b[1;32m    245\u001b[0m \u001b[0;34m\u001b[0m\u001b[0m\n\u001b[1;32m    246\u001b[0m \u001b[0;34m\u001b[0m\u001b[0m\n",
            "\u001b[0;31mAttributeError\u001b[0m: module 'pandas' has no attribute 'ada_data'"
          ]
        }
      ],
      "source": [
        "df_ada_data = pd.ada_data"
      ]
    },
    {
      "cell_type": "code",
      "execution_count": null,
      "metadata": {
        "id": "glVhy4P5f57s"
      },
      "outputs": [],
      "source": []
    },
    {
      "cell_type": "code",
      "execution_count": null,
      "metadata": {
        "id": "ROKp5t0dEhhI"
      },
      "outputs": [],
      "source": [
        "import requests"
      ]
    },
    {
      "cell_type": "code",
      "execution_count": null,
      "metadata": {
        "id": "4KKP353gEhTC"
      },
      "outputs": [],
      "source": []
    },
    {
      "cell_type": "code",
      "execution_count": null,
      "metadata": {
        "id": "8MEyH07sEhFt"
      },
      "outputs": [],
      "source": []
    },
    {
      "cell_type": "code",
      "execution_count": null,
      "metadata": {
        "id": "tGh5VPmaEg4F"
      },
      "outputs": [],
      "source": []
    },
    {
      "cell_type": "code",
      "execution_count": null,
      "metadata": {
        "id": "NmCyiVPkEgqc"
      },
      "outputs": [],
      "source": []
    },
    {
      "cell_type": "code",
      "execution_count": null,
      "metadata": {
        "id": "Apj9230GEgYx"
      },
      "outputs": [],
      "source": []
    },
    {
      "cell_type": "code",
      "execution_count": null,
      "metadata": {
        "colab": {
          "base_uri": "https://localhost:8080/"
        },
        "id": "JF8ReT3IARyR",
        "outputId": "6e1905a0-f13c-4b7f-bfa6-b4a5451e1df1"
      },
      "outputs": [
        {
          "data": {
            "text/plain": [
              "Index(['User_ID', 'UTC_Time', 'Account', 'Operation', 'Coin', 'Change',\n",
              "       'Remark'],\n",
              "      dtype='object')"
            ]
          },
          "execution_count": 4,
          "metadata": {},
          "output_type": "execute_result"
        }
      ],
      "source": [
        "df.columns"
      ]
    },
    {
      "cell_type": "code",
      "execution_count": null,
      "metadata": {
        "colab": {
          "base_uri": "https://localhost:8080/"
        },
        "id": "00C2u8Df3yqv",
        "outputId": "54326e5a-6e7a-4abd-c16a-9ded16ece748"
      },
      "outputs": [
        {
          "data": {
            "text/plain": [
              "['BNB Vault Rewards',\n",
              " 'Buy',\n",
              " 'Deposit',\n",
              " 'Distribution',\n",
              " 'Fee',\n",
              " 'Liquid Swap Add/Sell',\n",
              " 'Liquidity Farming Remove',\n",
              " 'Savings Distribution',\n",
              " 'Sell',\n",
              " 'Simple Earn Flexible Airdrop',\n",
              " 'Simple Earn Flexible Interest',\n",
              " 'Simple Earn Flexible Redemption',\n",
              " 'Simple Earn Flexible Subscription',\n",
              " 'Simple Earn Locked Rewards',\n",
              " 'Small Assets Exchange BNB',\n",
              " 'Staking Purchase',\n",
              " 'Staking Redemption',\n",
              " 'Staking Rewards',\n",
              " 'Swap Farming Rewards',\n",
              " 'Transaction Related',\n",
              " 'Withdraw']"
            ]
          },
          "execution_count": 7,
          "metadata": {},
          "output_type": "execute_result"
        }
      ],
      "source": [
        "list(df['Operation'].unique())"
      ]
    },
    {
      "cell_type": "code",
      "execution_count": null,
      "metadata": {
        "id": "VATEX2iHAyrt"
      },
      "outputs": [],
      "source": [
        "df[df['Operation'] == 'Deposit'].sort_values(by='Coin')"
      ]
    },
    {
      "cell_type": "code",
      "execution_count": null,
      "metadata": {
        "id": "EnxRwMTIBjmn"
      },
      "outputs": [],
      "source": [
        "df_deposits_2021_Binance = df[df['Operation'] == 'Deposit'].sort_values(by='Coin')"
      ]
    },
    {
      "cell_type": "code",
      "execution_count": null,
      "metadata": {
        "id": "M0P9DdytF8hM"
      },
      "outputs": [],
      "source": [
        "df_deposits_2021_Binance.to_excel('deposits_2021_Binance.xlsx')"
      ]
    },
    {
      "cell_type": "code",
      "execution_count": null,
      "metadata": {
        "id": "zI7tI_PBHx1Y"
      },
      "outputs": [],
      "source": [
        "df[df['Operation'] == 'Staking Rewards'].sort_values(by='Coin')"
      ]
    },
    {
      "cell_type": "code",
      "execution_count": null,
      "metadata": {
        "id": "PWvgRZUbcBo_"
      },
      "outputs": [],
      "source": [
        "list(df_binance_stakingRewards_2021['Coin'].unique())"
      ]
    },
    {
      "cell_type": "code",
      "execution_count": null,
      "metadata": {
        "id": "AvTIfhsDzPiU"
      },
      "outputs": [],
      "source": []
    },
    {
      "cell_type": "code",
      "execution_count": null,
      "metadata": {
        "colab": {
          "base_uri": "https://localhost:8080/"
        },
        "id": "xcNr5GHj3VKR",
        "outputId": "c71514a4-3372-484d-b703-586aa4c5066b"
      },
      "outputs": [
        {
          "data": {
            "text/plain": [
              "array(['ADA', 'ALGO', 'ATOM', 'AVAX', 'AXS', 'BNB', 'CAKE', 'COTI', 'DOT',\n",
              "       'EGLD', 'FIL', 'HNT', 'INJ', 'KSM', 'LUNA', 'MATIC', 'ONE', 'SAND',\n",
              "       'SOL'], dtype=object)"
            ]
          },
          "execution_count": 14,
          "metadata": {},
          "output_type": "execute_result"
        }
      ],
      "source": [
        "df_binance_stakingRewards_2021['Coin'].unique()"
      ]
    },
    {
      "cell_type": "code",
      "execution_count": null,
      "metadata": {
        "id": "RGgcb1F7YXtE"
      },
      "outputs": [],
      "source": [
        "df_binance_stakingRewards_2021.to_excel('binance_stakingRewards_2021.xlsx',index=False)"
      ]
    },
    {
      "cell_type": "code",
      "execution_count": null,
      "metadata": {
        "id": "ontB13qTbDM6"
      },
      "outputs": [],
      "source": [
        "df_binance_stakingRewards_2021_ADA.to_excel('binance_stakingRewards_2021_ADA.xlsx',index=False)"
      ]
    },
    {
      "cell_type": "code",
      "execution_count": null,
      "metadata": {
        "id": "gj9MyVgiYA8B"
      },
      "outputs": [],
      "source": [
        "df_binance_stakingRewards_2021_SOL = df_binance_stakingRewards_2021[df_binance_stakingRewards_2021['Coin'] == 'SOL'].sort_values(by='UTC_Time')"
      ]
    },
    {
      "cell_type": "code",
      "execution_count": null,
      "metadata": {
        "id": "xb8GN2apbArB"
      },
      "outputs": [],
      "source": [
        "df_binance_stakingRewards_2021_SOL.to_excel('binance_stakingRewards_2021_SOL.xlsx',index=False)"
      ]
    },
    {
      "cell_type": "code",
      "execution_count": null,
      "metadata": {
        "id": "xMqLe5iUbBls"
      },
      "outputs": [],
      "source": []
    },
    {
      "cell_type": "code",
      "execution_count": null,
      "metadata": {
        "colab": {
          "base_uri": "https://localhost:8080/"
        },
        "id": "PMI1qrQ1YHFg",
        "outputId": "bc7435cd-458a-409d-cd78-f03507ef483d"
      },
      "outputs": [
        {
          "data": {
            "text/plain": [
              "0.70715951"
            ]
          },
          "execution_count": 26,
          "metadata": {},
          "output_type": "execute_result"
        }
      ],
      "source": [
        "df_binance_stakingRewards_2021_SOL['Change'].sum()"
      ]
    },
    {
      "cell_type": "code",
      "execution_count": null,
      "metadata": {
        "id": "tRWcWY3kYI3_"
      },
      "outputs": [],
      "source": [
        "df_binance_stakingRewards_2021_AVAX = df_binance_stakingRewards_2021[df_binance_stakingRewards_2021['Coin'] == 'AVAX'].sort_values(by='UTC_Time')"
      ]
    },
    {
      "cell_type": "code",
      "execution_count": null,
      "metadata": {
        "colab": {
          "base_uri": "https://localhost:8080/"
        },
        "id": "rUTmLxq0YLTt",
        "outputId": "de487e05-af08-4ec4-f310-af8cdbf22e0a"
      },
      "outputs": [
        {
          "data": {
            "text/plain": [
              "8.12844493"
            ]
          },
          "execution_count": 28,
          "metadata": {},
          "output_type": "execute_result"
        }
      ],
      "source": [
        "df_binance_stakingRewards_2021_AVAX['Change'].sum()"
      ]
    },
    {
      "cell_type": "code",
      "execution_count": null,
      "metadata": {
        "id": "AU8rIPTIYMjN"
      },
      "outputs": [],
      "source": [
        "df_binance_stakingRewards_2021_AVAX.to_excel('binance_stakingRewards_2021_AVAX.xlsx',index=False)"
      ]
    },
    {
      "cell_type": "code",
      "execution_count": null,
      "metadata": {
        "id": "88kg27tdYM0o"
      },
      "outputs": [],
      "source": [
        "df_ADA_StkRwrd_2021_Binance.drop('Date',axis=1,inplace=True)"
      ]
    },
    {
      "cell_type": "code",
      "execution_count": null,
      "metadata": {
        "colab": {
          "base_uri": "https://localhost:8080/",
          "height": 423
        },
        "id": "w6-5fqeoYM28",
        "outputId": "aa37ad28-10ed-431b-cf04-357f14d6d8eb"
      },
      "outputs": [
        {
          "data": {
            "text/html": [
              "\n",
              "  <div id=\"df-e926b45d-3c43-42f1-8cc0-6a6e8a4dca08\">\n",
              "    <div class=\"colab-df-container\">\n",
              "      <div>\n",
              "<style scoped>\n",
              "    .dataframe tbody tr th:only-of-type {\n",
              "        vertical-align: middle;\n",
              "    }\n",
              "\n",
              "    .dataframe tbody tr th {\n",
              "        vertical-align: top;\n",
              "    }\n",
              "\n",
              "    .dataframe thead th {\n",
              "        text-align: right;\n",
              "    }\n",
              "</style>\n",
              "<table border=\"1\" class=\"dataframe\">\n",
              "  <thead>\n",
              "    <tr style=\"text-align: right;\">\n",
              "      <th></th>\n",
              "      <th>User_ID</th>\n",
              "      <th>UTC_Time</th>\n",
              "      <th>Account</th>\n",
              "      <th>Operation</th>\n",
              "      <th>Coin</th>\n",
              "      <th>Change</th>\n",
              "      <th>Remark</th>\n",
              "      <th>DateTime</th>\n",
              "    </tr>\n",
              "  </thead>\n",
              "  <tbody>\n",
              "    <tr>\n",
              "      <th>4196</th>\n",
              "      <td>59094579</td>\n",
              "      <td>01/07/2021 01:33</td>\n",
              "      <td>Spot</td>\n",
              "      <td>Staking Rewards</td>\n",
              "      <td>ADA</td>\n",
              "      <td>1.386135</td>\n",
              "      <td>NaN</td>\n",
              "      <td>2021-07-01 01:33:00</td>\n",
              "    </tr>\n",
              "    <tr>\n",
              "      <th>4197</th>\n",
              "      <td>59094579</td>\n",
              "      <td>01/07/2021 01:35</td>\n",
              "      <td>Spot</td>\n",
              "      <td>Staking Rewards</td>\n",
              "      <td>ADA</td>\n",
              "      <td>0.000317</td>\n",
              "      <td>NaN</td>\n",
              "      <td>2021-07-01 01:35:00</td>\n",
              "    </tr>\n",
              "    <tr>\n",
              "      <th>4198</th>\n",
              "      <td>59094579</td>\n",
              "      <td>01/07/2021 01:35</td>\n",
              "      <td>Spot</td>\n",
              "      <td>Staking Rewards</td>\n",
              "      <td>ADA</td>\n",
              "      <td>0.000317</td>\n",
              "      <td>NaN</td>\n",
              "      <td>2021-07-01 01:35:00</td>\n",
              "    </tr>\n",
              "    <tr>\n",
              "      <th>4199</th>\n",
              "      <td>59094579</td>\n",
              "      <td>01/07/2021 01:37</td>\n",
              "      <td>Spot</td>\n",
              "      <td>Staking Rewards</td>\n",
              "      <td>ADA</td>\n",
              "      <td>0.000633</td>\n",
              "      <td>NaN</td>\n",
              "      <td>2021-07-01 01:37:00</td>\n",
              "    </tr>\n",
              "    <tr>\n",
              "      <th>4200</th>\n",
              "      <td>59094579</td>\n",
              "      <td>01/07/2021 01:40</td>\n",
              "      <td>Spot</td>\n",
              "      <td>Staking Rewards</td>\n",
              "      <td>ADA</td>\n",
              "      <td>0.000634</td>\n",
              "      <td>NaN</td>\n",
              "      <td>2021-07-01 01:40:00</td>\n",
              "    </tr>\n",
              "    <tr>\n",
              "      <th>...</th>\n",
              "      <td>...</td>\n",
              "      <td>...</td>\n",
              "      <td>...</td>\n",
              "      <td>...</td>\n",
              "      <td>...</td>\n",
              "      <td>...</td>\n",
              "      <td>...</td>\n",
              "      <td>...</td>\n",
              "    </tr>\n",
              "    <tr>\n",
              "      <th>24818</th>\n",
              "      <td>59094579</td>\n",
              "      <td>31/12/2021 00:42</td>\n",
              "      <td>Spot</td>\n",
              "      <td>Staking Rewards</td>\n",
              "      <td>ADA</td>\n",
              "      <td>0.015296</td>\n",
              "      <td>NaN</td>\n",
              "      <td>2021-12-31 00:42:00</td>\n",
              "    </tr>\n",
              "    <tr>\n",
              "      <th>24822</th>\n",
              "      <td>59094579</td>\n",
              "      <td>31/12/2021 00:42</td>\n",
              "      <td>Spot</td>\n",
              "      <td>Staking Rewards</td>\n",
              "      <td>ADA</td>\n",
              "      <td>0.021342</td>\n",
              "      <td>NaN</td>\n",
              "      <td>2021-12-31 00:42:00</td>\n",
              "    </tr>\n",
              "    <tr>\n",
              "      <th>24825</th>\n",
              "      <td>59094579</td>\n",
              "      <td>31/12/2021 00:42</td>\n",
              "      <td>Spot</td>\n",
              "      <td>Staking Rewards</td>\n",
              "      <td>ADA</td>\n",
              "      <td>0.596207</td>\n",
              "      <td>NaN</td>\n",
              "      <td>2021-12-31 00:42:00</td>\n",
              "    </tr>\n",
              "    <tr>\n",
              "      <th>24828</th>\n",
              "      <td>59094579</td>\n",
              "      <td>31/12/2021 00:43</td>\n",
              "      <td>Spot</td>\n",
              "      <td>Staking Rewards</td>\n",
              "      <td>ADA</td>\n",
              "      <td>0.066628</td>\n",
              "      <td>NaN</td>\n",
              "      <td>2021-12-31 00:43:00</td>\n",
              "    </tr>\n",
              "    <tr>\n",
              "      <th>24830</th>\n",
              "      <td>59094579</td>\n",
              "      <td>31/12/2021 00:43</td>\n",
              "      <td>Spot</td>\n",
              "      <td>Staking Rewards</td>\n",
              "      <td>ADA</td>\n",
              "      <td>0.149940</td>\n",
              "      <td>NaN</td>\n",
              "      <td>2021-12-31 00:43:00</td>\n",
              "    </tr>\n",
              "  </tbody>\n",
              "</table>\n",
              "<p>8467 rows × 8 columns</p>\n",
              "</div>\n",
              "      <button class=\"colab-df-convert\" onclick=\"convertToInteractive('df-e926b45d-3c43-42f1-8cc0-6a6e8a4dca08')\"\n",
              "              title=\"Convert this dataframe to an interactive table.\"\n",
              "              style=\"display:none;\">\n",
              "        \n",
              "  <svg xmlns=\"http://www.w3.org/2000/svg\" height=\"24px\"viewBox=\"0 0 24 24\"\n",
              "       width=\"24px\">\n",
              "    <path d=\"M0 0h24v24H0V0z\" fill=\"none\"/>\n",
              "    <path d=\"M18.56 5.44l.94 2.06.94-2.06 2.06-.94-2.06-.94-.94-2.06-.94 2.06-2.06.94zm-11 1L8.5 8.5l.94-2.06 2.06-.94-2.06-.94L8.5 2.5l-.94 2.06-2.06.94zm10 10l.94 2.06.94-2.06 2.06-.94-2.06-.94-.94-2.06-.94 2.06-2.06.94z\"/><path d=\"M17.41 7.96l-1.37-1.37c-.4-.4-.92-.59-1.43-.59-.52 0-1.04.2-1.43.59L10.3 9.45l-7.72 7.72c-.78.78-.78 2.05 0 2.83L4 21.41c.39.39.9.59 1.41.59.51 0 1.02-.2 1.41-.59l7.78-7.78 2.81-2.81c.8-.78.8-2.07 0-2.86zM5.41 20L4 18.59l7.72-7.72 1.47 1.35L5.41 20z\"/>\n",
              "  </svg>\n",
              "      </button>\n",
              "      \n",
              "  <style>\n",
              "    .colab-df-container {\n",
              "      display:flex;\n",
              "      flex-wrap:wrap;\n",
              "      gap: 12px;\n",
              "    }\n",
              "\n",
              "    .colab-df-convert {\n",
              "      background-color: #E8F0FE;\n",
              "      border: none;\n",
              "      border-radius: 50%;\n",
              "      cursor: pointer;\n",
              "      display: none;\n",
              "      fill: #1967D2;\n",
              "      height: 32px;\n",
              "      padding: 0 0 0 0;\n",
              "      width: 32px;\n",
              "    }\n",
              "\n",
              "    .colab-df-convert:hover {\n",
              "      background-color: #E2EBFA;\n",
              "      box-shadow: 0px 1px 2px rgba(60, 64, 67, 0.3), 0px 1px 3px 1px rgba(60, 64, 67, 0.15);\n",
              "      fill: #174EA6;\n",
              "    }\n",
              "\n",
              "    [theme=dark] .colab-df-convert {\n",
              "      background-color: #3B4455;\n",
              "      fill: #D2E3FC;\n",
              "    }\n",
              "\n",
              "    [theme=dark] .colab-df-convert:hover {\n",
              "      background-color: #434B5C;\n",
              "      box-shadow: 0px 1px 3px 1px rgba(0, 0, 0, 0.15);\n",
              "      filter: drop-shadow(0px 1px 2px rgba(0, 0, 0, 0.3));\n",
              "      fill: #FFFFFF;\n",
              "    }\n",
              "  </style>\n",
              "\n",
              "      <script>\n",
              "        const buttonEl =\n",
              "          document.querySelector('#df-e926b45d-3c43-42f1-8cc0-6a6e8a4dca08 button.colab-df-convert');\n",
              "        buttonEl.style.display =\n",
              "          google.colab.kernel.accessAllowed ? 'block' : 'none';\n",
              "\n",
              "        async function convertToInteractive(key) {\n",
              "          const element = document.querySelector('#df-e926b45d-3c43-42f1-8cc0-6a6e8a4dca08');\n",
              "          const dataTable =\n",
              "            await google.colab.kernel.invokeFunction('convertToInteractive',\n",
              "                                                     [key], {});\n",
              "          if (!dataTable) return;\n",
              "\n",
              "          const docLinkHtml = 'Like what you see? Visit the ' +\n",
              "            '<a target=\"_blank\" href=https://colab.research.google.com/notebooks/data_table.ipynb>data table notebook</a>'\n",
              "            + ' to learn more about interactive tables.';\n",
              "          element.innerHTML = '';\n",
              "          dataTable['output_type'] = 'display_data';\n",
              "          await google.colab.output.renderOutput(dataTable, element);\n",
              "          const docLink = document.createElement('div');\n",
              "          docLink.innerHTML = docLinkHtml;\n",
              "          element.appendChild(docLink);\n",
              "        }\n",
              "      </script>\n",
              "    </div>\n",
              "  </div>\n",
              "  "
            ],
            "text/plain": [
              "        User_ID          UTC_Time Account        Operation Coin    Change  \\\n",
              "4196   59094579  01/07/2021 01:33    Spot  Staking Rewards  ADA  1.386135   \n",
              "4197   59094579  01/07/2021 01:35    Spot  Staking Rewards  ADA  0.000317   \n",
              "4198   59094579  01/07/2021 01:35    Spot  Staking Rewards  ADA  0.000317   \n",
              "4199   59094579  01/07/2021 01:37    Spot  Staking Rewards  ADA  0.000633   \n",
              "4200   59094579  01/07/2021 01:40    Spot  Staking Rewards  ADA  0.000634   \n",
              "...         ...               ...     ...              ...  ...       ...   \n",
              "24818  59094579  31/12/2021 00:42    Spot  Staking Rewards  ADA  0.015296   \n",
              "24822  59094579  31/12/2021 00:42    Spot  Staking Rewards  ADA  0.021342   \n",
              "24825  59094579  31/12/2021 00:42    Spot  Staking Rewards  ADA  0.596207   \n",
              "24828  59094579  31/12/2021 00:43    Spot  Staking Rewards  ADA  0.066628   \n",
              "24830  59094579  31/12/2021 00:43    Spot  Staking Rewards  ADA  0.149940   \n",
              "\n",
              "      Remark            DateTime  \n",
              "4196     NaN 2021-07-01 01:33:00  \n",
              "4197     NaN 2021-07-01 01:35:00  \n",
              "4198     NaN 2021-07-01 01:35:00  \n",
              "4199     NaN 2021-07-01 01:37:00  \n",
              "4200     NaN 2021-07-01 01:40:00  \n",
              "...      ...                 ...  \n",
              "24818    NaN 2021-12-31 00:42:00  \n",
              "24822    NaN 2021-12-31 00:42:00  \n",
              "24825    NaN 2021-12-31 00:42:00  \n",
              "24828    NaN 2021-12-31 00:43:00  \n",
              "24830    NaN 2021-12-31 00:43:00  \n",
              "\n",
              "[8467 rows x 8 columns]"
            ]
          },
          "execution_count": 30,
          "metadata": {},
          "output_type": "execute_result"
        }
      ],
      "source": [
        "df_ADA_StkRwrd_2021_Binance"
      ]
    },
    {
      "cell_type": "code",
      "execution_count": null,
      "metadata": {
        "id": "idfJEnPxYND_"
      },
      "outputs": [],
      "source": [
        "import requests\n",
        "import datetime\n",
        "\n",
        "date = datetime.datetime(2022, 1, 1) # date for which you want to get the price\n",
        "\n",
        "url = f\"https://www.alphavantage.co/query?function=DIGITAL_CURRENCY_DAILY&symbol=ADA&market=USD&apikey=<YOUR_API_KEY>&datatype=json\"\n",
        "\n",
        "response = requests.get(url)\n",
        "data = response.json()\n",
        "\n",
        "price = data[\"Time Series (Digital Currency Daily)\"][date.strftime(\"%Y-%m-%d\")][\"4a. close (USD)\"]\n",
        "Replace <YOUR_API_KEY> with your own Alpha Vantage API key. The price variable will contain the close price of ADA in USD for the specified date.\n",
        "\n",
        "Note: The above code assumes the availability of the data for the specified date in the Alpha Vantage API. Additionally, there may be usage limits for free API keys so you may want to consider upgrading to a paid plan if you need to make a lot of requests.\n",
        "\n",
        "\n",
        "\n",
        "\n",
        "Regenerate response"
      ]
    },
    {
      "cell_type": "code",
      "execution_count": null,
      "metadata": {
        "id": "_JL0ezKCYNHx"
      },
      "outputs": [],
      "source": []
    },
    {
      "cell_type": "code",
      "execution_count": null,
      "metadata": {
        "id": "JvnHAS5JYNJu"
      },
      "outputs": [],
      "source": []
    },
    {
      "cell_type": "code",
      "execution_count": null,
      "metadata": {
        "id": "vOU-FXBcYNL7"
      },
      "outputs": [],
      "source": []
    },
    {
      "cell_type": "code",
      "execution_count": null,
      "metadata": {
        "id": "-rFF2NtaYNN9"
      },
      "outputs": [],
      "source": []
    },
    {
      "cell_type": "code",
      "execution_count": null,
      "metadata": {
        "id": "f07uqelEYNQS"
      },
      "outputs": [],
      "source": []
    }
  ],
  "metadata": {
    "colab": {
      "provenance": [],
      "authorship_tag": "ABX9TyNTXA5l8eMztPzCkIGNQe11",
      "include_colab_link": true
    },
    "kernelspec": {
      "display_name": "Python 3",
      "name": "python3"
    },
    "language_info": {
      "name": "python"
    }
  },
  "nbformat": 4,
  "nbformat_minor": 0
}